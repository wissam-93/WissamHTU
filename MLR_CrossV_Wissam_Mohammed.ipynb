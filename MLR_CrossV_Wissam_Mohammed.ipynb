{
  "nbformat": 4,
  "nbformat_minor": 0,
  "metadata": {
    "colab": {
      "name": "MLR_CrossV_Wissam_Mohammed.ipynb",
      "provenance": [],
      "collapsed_sections": [],
      "authorship_tag": "ABX9TyOjNCVt2jbR4wvZO/THQtQX",
      "include_colab_link": true
    },
    "kernelspec": {
      "name": "python3",
      "display_name": "Python 3"
    },
    "language_info": {
      "name": "python"
    }
  },
  "cells": [
    {
      "cell_type": "markdown",
      "metadata": {
        "id": "view-in-github",
        "colab_type": "text"
      },
      "source": [
        "<a href=\"https://colab.research.google.com/github/wissam-93/Wissam_HTU_Data-Science/blob/main/MLR_CrossV_Wissam_Mohammed.ipynb\" target=\"_parent\"><img src=\"https://colab.research.google.com/assets/colab-badge.svg\" alt=\"Open In Colab\"/></a>"
      ]
    },
    {
      "cell_type": "code",
      "metadata": {
        "id": "RmdIGYHrdI2d"
      },
      "source": [
        "import pandas as pd\n",
        "import matplotlib.pyplot as plt\n",
        "import numpy as np"
      ],
      "execution_count": 389,
      "outputs": []
    },
    {
      "cell_type": "code",
      "metadata": {
        "colab": {
          "base_uri": "https://localhost:8080/",
          "height": 206
        },
        "id": "Z9vkTr9AJJvW",
        "outputId": "23028669-7463-4b69-dd51-46d75aca71c7"
      },
      "source": [
        "data = pd.read_csv('Exercise_dataset_session4.csv')\n",
        "data.head()"
      ],
      "execution_count": 390,
      "outputs": [
        {
          "output_type": "execute_result",
          "data": {
            "text/html": [
              "<div>\n",
              "<style scoped>\n",
              "    .dataframe tbody tr th:only-of-type {\n",
              "        vertical-align: middle;\n",
              "    }\n",
              "\n",
              "    .dataframe tbody tr th {\n",
              "        vertical-align: top;\n",
              "    }\n",
              "\n",
              "    .dataframe thead th {\n",
              "        text-align: right;\n",
              "    }\n",
              "</style>\n",
              "<table border=\"1\" class=\"dataframe\">\n",
              "  <thead>\n",
              "    <tr style=\"text-align: right;\">\n",
              "      <th></th>\n",
              "      <th>Rent</th>\n",
              "      <th>Bills</th>\n",
              "      <th>OtherExpenses</th>\n",
              "      <th>Occupation</th>\n",
              "      <th>MonthlySavings</th>\n",
              "    </tr>\n",
              "  </thead>\n",
              "  <tbody>\n",
              "    <tr>\n",
              "      <th>0</th>\n",
              "      <td>1653</td>\n",
              "      <td>1368.98</td>\n",
              "      <td>943.57</td>\n",
              "      <td>Engineer</td>\n",
              "      <td>384.52</td>\n",
              "    </tr>\n",
              "    <tr>\n",
              "      <th>1</th>\n",
              "      <td>1626</td>\n",
              "      <td>1513.78</td>\n",
              "      <td>887.80</td>\n",
              "      <td>SalesRepresentative</td>\n",
              "      <td>383.58</td>\n",
              "    </tr>\n",
              "    <tr>\n",
              "      <th>2</th>\n",
              "      <td>1534</td>\n",
              "      <td>1011.46</td>\n",
              "      <td>815.87</td>\n",
              "      <td>Teacher</td>\n",
              "      <td>382.10</td>\n",
              "    </tr>\n",
              "    <tr>\n",
              "      <th>3</th>\n",
              "      <td>1444</td>\n",
              "      <td>1186.72</td>\n",
              "      <td>766.40</td>\n",
              "      <td>Engineer</td>\n",
              "      <td>365.80</td>\n",
              "    </tr>\n",
              "    <tr>\n",
              "      <th>4</th>\n",
              "      <td>1421</td>\n",
              "      <td>913.92</td>\n",
              "      <td>732.34</td>\n",
              "      <td>Teacher</td>\n",
              "      <td>332.38</td>\n",
              "    </tr>\n",
              "  </tbody>\n",
              "</table>\n",
              "</div>"
            ],
            "text/plain": [
              "   Rent    Bills  OtherExpenses           Occupation  MonthlySavings\n",
              "0  1653  1368.98         943.57             Engineer          384.52\n",
              "1  1626  1513.78         887.80  SalesRepresentative          383.58\n",
              "2  1534  1011.46         815.87              Teacher          382.10\n",
              "3  1444  1186.72         766.40             Engineer          365.80\n",
              "4  1421   913.92         732.34              Teacher          332.38"
            ]
          },
          "metadata": {
            "tags": []
          },
          "execution_count": 390
        }
      ]
    },
    {
      "cell_type": "code",
      "metadata": {
        "id": "fLyaKW3yKoow"
      },
      "source": [
        "sp1 = data.loc[:,['Rent','Bills','OtherExpenses','Occupation']].values\n",
        "sp2 = data.loc[:,['MonthlySavings']].values\n"
      ],
      "execution_count": 391,
      "outputs": []
    },
    {
      "cell_type": "code",
      "metadata": {
        "id": "01J7yegqL6NI"
      },
      "source": [
        "#sp1.isnull().sum()"
      ],
      "execution_count": 392,
      "outputs": []
    },
    {
      "cell_type": "code",
      "metadata": {
        "id": "4OaVDqyhL-wR"
      },
      "source": [
        "#sp2.isnull().sum()"
      ],
      "execution_count": 393,
      "outputs": []
    },
    {
      "cell_type": "code",
      "metadata": {
        "id": "2if88SySMSPR"
      },
      "source": [
        "from sklearn.compose import ColumnTransformer\n",
        "from sklearn.preprocessing import OneHotEncoder"
      ],
      "execution_count": 394,
      "outputs": []
    },
    {
      "cell_type": "code",
      "metadata": {
        "id": "5DhfngAvMjgd"
      },
      "source": [
        "nominal = ColumnTransformer(transformers=[('enc',OneHotEncoder(drop='first'),[3])],remainder='passthrough')\n",
        "sp1 = np.array(nominal.fit_transform(sp1))"
      ],
      "execution_count": 395,
      "outputs": []
    },
    {
      "cell_type": "code",
      "metadata": {
        "colab": {
          "base_uri": "https://localhost:8080/"
        },
        "id": "coaAM7ZVgNkg",
        "outputId": "0c6a25df-ae3c-48d1-b544-ddb3d71eeb46"
      },
      "source": [
        "sp1"
      ],
      "execution_count": 396,
      "outputs": [
        {
          "output_type": "execute_result",
          "data": {
            "text/plain": [
              "array([[0.0, 0.0, 1653, 1368.98, 943.57],\n",
              "       [1.0, 0.0, 1626, 1513.78, 887.8],\n",
              "       [0.0, 1.0, 1534, 1011.46, 815.87],\n",
              "       [0.0, 0.0, 1444, 1186.72, 766.4],\n",
              "       [0.0, 1.0, 1421, 913.92, 732.34],\n",
              "       [0.0, 0.0, 1319, 998.15, 725.72],\n",
              "       [1.0, 0.0, 1346, 1471.99, 255.43],\n",
              "       [0.0, 1.0, 1303, 1455.3, 647.75],\n",
              "       [0.0, 0.0, 1205, 1487.19, 623.23],\n",
              "       [1.0, 0.0, 1233, 1086.79, 609.96],\n",
              "       [0.0, 1.0, 1019, 1105.94, 458.32],\n",
              "       [1.0, 0.0, 1007, 917.91, 499.49],\n",
              "       [0.0, 1.0, 939, 1273.2, 499.68],\n",
              "       [1.0, 0.0, 920, 1354.95, 505.33],\n",
              "       [0.0, 1.0, 1199, 1565.47, 513.03],\n",
              "       [0.0, 0.0, 1145, 1226.17, 523.55],\n",
              "       [1.0, 0.0, 780, 1215.98, 528.69],\n",
              "       [0.0, 0.0, 947, 1450.78, 565.15],\n",
              "       [0.0, 1.0, 917, 1141.76, 589.84],\n",
              "       [0.0, 0.0, 864, 1535.14, 0.0],\n",
              "       [1.0, 0.0, 763, 1138.67, 597.33],\n",
              "       [0.0, 0.0, 784, 1537.73, 599.47],\n",
              "       [0.0, 1.0, 740, 1227.83, 606.64],\n",
              "       [0.0, 1.0, 675, 1057.51, 609.54],\n",
              "       [0.0, 0.0, 770, 992.81, 281.15],\n",
              "       [1.0, 0.0, 647, 1395.53, 275.93],\n",
              "       [0.0, 1.0, 753, 1441.36, 268.1],\n",
              "       [0.0, 0.0, 721, 1278.65, 706.37],\n",
              "       [0.0, 1.0, 661, 1826.46, 236.3],\n",
              "       [0.0, 0.0, 656, 1530.32, 214.28],\n",
              "       [0.0, 1.0, 620, 1156.41, 182.26],\n",
              "       [0.0, 0.0, 611, 1527.02, 176.44],\n",
              "       [1.0, 0.0, 634, 1292.2, 92.17],\n",
              "       [0.0, 1.0, 555, 1030.57, 429.27],\n",
              "       [1.0, 0.0, 464, 1576.94, 421.6],\n",
              "       [0.0, 0.0, 460, 850.47, 411.04],\n",
              "       [0.0, 1.0, 287, 1270.56, 402.25],\n",
              "       [1.0, 0.0, 441, 512.83, 394.06],\n",
              "       [0.0, 0.0, 202, 659.48, 370.53],\n",
              "       [1.0, 0.0, 386, 829.82, 350.0],\n",
              "       [1.0, 0.0, 288, 1185.46, 345.59],\n",
              "       [0.0, 1.0, 279, 847.11, 328.94],\n",
              "       [1.0, 0.0, 236, 961.9, 296.0],\n",
              "       [0.0, 0.0, 155, 1273.82, 71.07],\n",
              "       [1.0, 0.0, 222, 1548.06, 56.67],\n",
              "       [0.0, 0.0, 10, 1241.53, 3.81],\n",
              "       [0.0, 1.0, 13, 1158.16, 594.23],\n",
              "       [1.0, 0.0, 0, 1354.27, 0.0],\n",
              "       [0.0, 0.0, 5, 517.43, 0.0],\n",
              "       [1.0, 0.0, 0, 1169.84, 90.35]], dtype=object)"
            ]
          },
          "metadata": {
            "tags": []
          },
          "execution_count": 396
        }
      ]
    },
    {
      "cell_type": "code",
      "metadata": {
        "id": "PKTdo7uaU036"
      },
      "source": [
        "from sklearn.model_selection import train_test_split\n",
        "x_train, x_test, y_train, y_test = train_test_split(sp1,sp2, test_size = 0.2, random_state =2)"
      ],
      "execution_count": 397,
      "outputs": []
    },
    {
      "cell_type": "code",
      "metadata": {
        "colab": {
          "base_uri": "https://localhost:8080/"
        },
        "id": "_eqY732sgdy6",
        "outputId": "3cb5e116-40ee-456d-f0ab-4655d8bfa6ff"
      },
      "source": [
        "len(x_train)"
      ],
      "execution_count": 398,
      "outputs": [
        {
          "output_type": "execute_result",
          "data": {
            "text/plain": [
              "40"
            ]
          },
          "metadata": {
            "tags": []
          },
          "execution_count": 398
        }
      ]
    },
    {
      "cell_type": "code",
      "metadata": {
        "colab": {
          "base_uri": "https://localhost:8080/"
        },
        "id": "rBlyY_CWVm7c",
        "outputId": "79cb1d95-5e74-4da6-b24c-0c4be97a1182"
      },
      "source": [
        "from sklearn.linear_model import LinearRegression\n",
        "mlr = LinearRegression()\n",
        "mlr.fit(x_train,y_train)"
      ],
      "execution_count": 399,
      "outputs": [
        {
          "output_type": "execute_result",
          "data": {
            "text/plain": [
              "LinearRegression(copy_X=True, fit_intercept=True, n_jobs=None, normalize=False)"
            ]
          },
          "metadata": {
            "tags": []
          },
          "execution_count": 399
        }
      ]
    },
    {
      "cell_type": "code",
      "metadata": {
        "id": "RNxS4_TmZw6M"
      },
      "source": [
        "y_predict = mlr.predict(x_test)"
      ],
      "execution_count": 400,
      "outputs": []
    },
    {
      "cell_type": "code",
      "metadata": {
        "colab": {
          "base_uri": "https://localhost:8080/",
          "height": 362
        },
        "id": "0tUss9wKV-sd",
        "outputId": "87948272-bcd4-4168-c1b6-58b3b0b2050d"
      },
      "source": [
        "df = pd.DataFrame(data = y_test,columns=[' Actual Monthly Saving  |'])\n",
        "df['  Predicted_Monthly_Saving'] = y_predict\n",
        "df"
      ],
      "execution_count": 401,
      "outputs": [
        {
          "output_type": "execute_result",
          "data": {
            "text/html": [
              "<div>\n",
              "<style scoped>\n",
              "    .dataframe tbody tr th:only-of-type {\n",
              "        vertical-align: middle;\n",
              "    }\n",
              "\n",
              "    .dataframe tbody tr th {\n",
              "        vertical-align: top;\n",
              "    }\n",
              "\n",
              "    .dataframe thead th {\n",
              "        text-align: right;\n",
              "    }\n",
              "</style>\n",
              "<table border=\"1\" class=\"dataframe\">\n",
              "  <thead>\n",
              "    <tr style=\"text-align: right;\">\n",
              "      <th></th>\n",
              "      <th>Actual Monthly Saving  |</th>\n",
              "      <th>Predicted_Monthly_Saving</th>\n",
              "    </tr>\n",
              "  </thead>\n",
              "  <tbody>\n",
              "    <tr>\n",
              "      <th>0</th>\n",
              "      <td>181.42</td>\n",
              "      <td>148.183614</td>\n",
              "    </tr>\n",
              "    <tr>\n",
              "      <th>1</th>\n",
              "      <td>85.12</td>\n",
              "      <td>92.017001</td>\n",
              "    </tr>\n",
              "    <tr>\n",
              "      <th>2</th>\n",
              "      <td>206.56</td>\n",
              "      <td>199.377205</td>\n",
              "    </tr>\n",
              "    <tr>\n",
              "      <th>3</th>\n",
              "      <td>299.52</td>\n",
              "      <td>311.508115</td>\n",
              "    </tr>\n",
              "    <tr>\n",
              "      <th>4</th>\n",
              "      <td>268.61</td>\n",
              "      <td>255.272732</td>\n",
              "    </tr>\n",
              "    <tr>\n",
              "      <th>5</th>\n",
              "      <td>384.52</td>\n",
              "      <td>385.448982</td>\n",
              "    </tr>\n",
              "    <tr>\n",
              "      <th>6</th>\n",
              "      <td>130.40</td>\n",
              "      <td>127.849465</td>\n",
              "    </tr>\n",
              "    <tr>\n",
              "      <th>7</th>\n",
              "      <td>98.98</td>\n",
              "      <td>109.821954</td>\n",
              "    </tr>\n",
              "    <tr>\n",
              "      <th>8</th>\n",
              "      <td>162.01</td>\n",
              "      <td>169.119721</td>\n",
              "    </tr>\n",
              "    <tr>\n",
              "      <th>9</th>\n",
              "      <td>217.47</td>\n",
              "      <td>218.867964</td>\n",
              "    </tr>\n",
              "  </tbody>\n",
              "</table>\n",
              "</div>"
            ],
            "text/plain": [
              "    Actual Monthly Saving  |    Predicted_Monthly_Saving\n",
              "0                     181.42                  148.183614\n",
              "1                      85.12                   92.017001\n",
              "2                     206.56                  199.377205\n",
              "3                     299.52                  311.508115\n",
              "4                     268.61                  255.272732\n",
              "5                     384.52                  385.448982\n",
              "6                     130.40                  127.849465\n",
              "7                      98.98                  109.821954\n",
              "8                     162.01                  169.119721\n",
              "9                     217.47                  218.867964"
            ]
          },
          "metadata": {
            "tags": []
          },
          "execution_count": 401
        }
      ]
    },
    {
      "cell_type": "code",
      "metadata": {
        "colab": {
          "base_uri": "https://localhost:8080/"
        },
        "id": "N-_0QP1Fnlxn",
        "outputId": "0fdc74e2-7d7e-4fc9-caf5-45f3433a8452"
      },
      "source": [
        "from sklearn.model_selection import cross_val_score\n",
        "cv_4_results = cross_val_score(mlr, x_test, y_test, cv=4, scoring='neg_mean_squared_error')\n",
        "print(cv_4_results)"
      ],
      "execution_count": 402,
      "outputs": [
        {
          "output_type": "stream",
          "text": [
            "[ -439.20668332 -3613.42189527 -3548.70110473  -110.85829128]\n"
          ],
          "name": "stdout"
        }
      ]
    },
    {
      "cell_type": "code",
      "metadata": {
        "id": "CoESVlHhOhbj",
        "colab": {
          "base_uri": "https://localhost:8080/"
        },
        "outputId": "0ac6e0e1-afe8-4f27-87da-09b4d00f7dba"
      },
      "source": [
        "from sklearn import metrics\n",
        "r_square = metrics.r2_score(y_test,y_predict)\n",
        "print('R-SQUARE ERROR :',r_square)"
      ],
      "execution_count": 403,
      "outputs": [
        {
          "output_type": "stream",
          "text": [
            "R-SQUARE ERROR : 0.9784240212385926\n"
          ],
          "name": "stdout"
        }
      ]
    }
  ]
}