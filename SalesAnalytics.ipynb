{
  "nbformat": 4,
  "nbformat_minor": 0,
  "metadata": {
    "colab": {
      "name": "Untitled21.ipynb",
      "provenance": [],
      "collapsed_sections": [],
      "authorship_tag": "ABX9TyN41A8IHQ1VqyIsyTJagTTa",
      "include_colab_link": true
    },
    "kernelspec": {
      "name": "python3",
      "display_name": "Python 3"
    },
    "language_info": {
      "name": "python"
    }
  },
  "cells": [
    {
      "cell_type": "markdown",
      "metadata": {
        "id": "view-in-github",
        "colab_type": "text"
      },
      "source": [
        "<a href=\"https://colab.research.google.com/github/wissam-93/Wissam_HTU_Data-Science/blob/main/SalesAnalytics.ipynb\" target=\"_parent\"><img src=\"https://colab.research.google.com/assets/colab-badge.svg\" alt=\"Open In Colab\"/></a>"
      ]
    },
    {
      "cell_type": "code",
      "execution_count": null,
      "metadata": {
        "id": "7O-2-q1xc--0"
      },
      "outputs": [],
      "source": [
        "import numpy as np\n",
        "import pandas as pd\n",
        "import matplotlib.pyplot as plt\n",
        "import plotly.express as px\n",
        "import plotly.graph_objects as go\n",
        "df = pd.read_csv('sales.csv')"
      ]
    },
    {
      "cell_type": "code",
      "source": [
        "df.head()"
      ],
      "metadata": {
        "colab": {
          "base_uri": "https://localhost:8080/",
          "height": 374
        },
        "id": "dEN0o0Lihk-2",
        "outputId": "803db252-f764-4161-8cdb-7cc4a3d8030c"
      },
      "execution_count": null,
      "outputs": [
        {
          "output_type": "execute_result",
          "data": {
            "text/plain": [
              "    Invoice ID Branch   City Customer_type  Gender            Product_line  \\\n",
              "0  750-67-8428      A  Amman        Member  Female       Health and beauty   \n",
              "1  226-31-3081      C  Dubai        Normal  Female  Electronic accessories   \n",
              "2  631-41-3108      A  Amman        Normal    Male      Home and lifestyle   \n",
              "3  123-19-1176      A  Amman        Member    Male       Health and beauty   \n",
              "4  373-73-7910      A  Amman        Normal    Male       Sports and travel   \n",
              "\n",
              "   Unit_price  Quantity   Tax 5%     Total       Date   Time      Payment  \\\n",
              "0       74.69         7  26.1415  548.9715   1/5/2019  13:08      Ewallet   \n",
              "1       15.28         5   3.8200   80.2200   3/8/2019  10:29         Cash   \n",
              "2       46.33         7  16.2155  340.5255   3/3/2019  13:23  Credit card   \n",
              "3       58.22         8  23.2880  489.0480  1/27/2019  20:33      Ewallet   \n",
              "4       86.31         7  30.2085  634.3785   2/8/2019  10:37      Ewallet   \n",
              "\n",
              "     cogs  gross_margin_percentage  gross_income  Rating  hour  \n",
              "0  522.83                 4.761905       26.1415     9.1    13  \n",
              "1   76.40                 4.761905        3.8200     9.6    10  \n",
              "2  324.31                 4.761905       16.2155     7.4    13  \n",
              "3  465.76                 4.761905       23.2880     8.4    20  \n",
              "4  604.17                 4.761905       30.2085     5.3    10  "
            ],
            "text/html": [
              "\n",
              "  <div id=\"df-70189b2b-333c-41a0-bd92-3dfafcc82182\">\n",
              "    <div class=\"colab-df-container\">\n",
              "      <div>\n",
              "<style scoped>\n",
              "    .dataframe tbody tr th:only-of-type {\n",
              "        vertical-align: middle;\n",
              "    }\n",
              "\n",
              "    .dataframe tbody tr th {\n",
              "        vertical-align: top;\n",
              "    }\n",
              "\n",
              "    .dataframe thead th {\n",
              "        text-align: right;\n",
              "    }\n",
              "</style>\n",
              "<table border=\"1\" class=\"dataframe\">\n",
              "  <thead>\n",
              "    <tr style=\"text-align: right;\">\n",
              "      <th></th>\n",
              "      <th>Invoice ID</th>\n",
              "      <th>Branch</th>\n",
              "      <th>City</th>\n",
              "      <th>Customer_type</th>\n",
              "      <th>Gender</th>\n",
              "      <th>Product_line</th>\n",
              "      <th>Unit_price</th>\n",
              "      <th>Quantity</th>\n",
              "      <th>Tax 5%</th>\n",
              "      <th>Total</th>\n",
              "      <th>Date</th>\n",
              "      <th>Time</th>\n",
              "      <th>Payment</th>\n",
              "      <th>cogs</th>\n",
              "      <th>gross_margin_percentage</th>\n",
              "      <th>gross_income</th>\n",
              "      <th>Rating</th>\n",
              "      <th>hour</th>\n",
              "    </tr>\n",
              "  </thead>\n",
              "  <tbody>\n",
              "    <tr>\n",
              "      <th>0</th>\n",
              "      <td>750-67-8428</td>\n",
              "      <td>A</td>\n",
              "      <td>Amman</td>\n",
              "      <td>Member</td>\n",
              "      <td>Female</td>\n",
              "      <td>Health and beauty</td>\n",
              "      <td>74.69</td>\n",
              "      <td>7</td>\n",
              "      <td>26.1415</td>\n",
              "      <td>548.9715</td>\n",
              "      <td>1/5/2019</td>\n",
              "      <td>13:08</td>\n",
              "      <td>Ewallet</td>\n",
              "      <td>522.83</td>\n",
              "      <td>4.761905</td>\n",
              "      <td>26.1415</td>\n",
              "      <td>9.1</td>\n",
              "      <td>13</td>\n",
              "    </tr>\n",
              "    <tr>\n",
              "      <th>1</th>\n",
              "      <td>226-31-3081</td>\n",
              "      <td>C</td>\n",
              "      <td>Dubai</td>\n",
              "      <td>Normal</td>\n",
              "      <td>Female</td>\n",
              "      <td>Electronic accessories</td>\n",
              "      <td>15.28</td>\n",
              "      <td>5</td>\n",
              "      <td>3.8200</td>\n",
              "      <td>80.2200</td>\n",
              "      <td>3/8/2019</td>\n",
              "      <td>10:29</td>\n",
              "      <td>Cash</td>\n",
              "      <td>76.40</td>\n",
              "      <td>4.761905</td>\n",
              "      <td>3.8200</td>\n",
              "      <td>9.6</td>\n",
              "      <td>10</td>\n",
              "    </tr>\n",
              "    <tr>\n",
              "      <th>2</th>\n",
              "      <td>631-41-3108</td>\n",
              "      <td>A</td>\n",
              "      <td>Amman</td>\n",
              "      <td>Normal</td>\n",
              "      <td>Male</td>\n",
              "      <td>Home and lifestyle</td>\n",
              "      <td>46.33</td>\n",
              "      <td>7</td>\n",
              "      <td>16.2155</td>\n",
              "      <td>340.5255</td>\n",
              "      <td>3/3/2019</td>\n",
              "      <td>13:23</td>\n",
              "      <td>Credit card</td>\n",
              "      <td>324.31</td>\n",
              "      <td>4.761905</td>\n",
              "      <td>16.2155</td>\n",
              "      <td>7.4</td>\n",
              "      <td>13</td>\n",
              "    </tr>\n",
              "    <tr>\n",
              "      <th>3</th>\n",
              "      <td>123-19-1176</td>\n",
              "      <td>A</td>\n",
              "      <td>Amman</td>\n",
              "      <td>Member</td>\n",
              "      <td>Male</td>\n",
              "      <td>Health and beauty</td>\n",
              "      <td>58.22</td>\n",
              "      <td>8</td>\n",
              "      <td>23.2880</td>\n",
              "      <td>489.0480</td>\n",
              "      <td>1/27/2019</td>\n",
              "      <td>20:33</td>\n",
              "      <td>Ewallet</td>\n",
              "      <td>465.76</td>\n",
              "      <td>4.761905</td>\n",
              "      <td>23.2880</td>\n",
              "      <td>8.4</td>\n",
              "      <td>20</td>\n",
              "    </tr>\n",
              "    <tr>\n",
              "      <th>4</th>\n",
              "      <td>373-73-7910</td>\n",
              "      <td>A</td>\n",
              "      <td>Amman</td>\n",
              "      <td>Normal</td>\n",
              "      <td>Male</td>\n",
              "      <td>Sports and travel</td>\n",
              "      <td>86.31</td>\n",
              "      <td>7</td>\n",
              "      <td>30.2085</td>\n",
              "      <td>634.3785</td>\n",
              "      <td>2/8/2019</td>\n",
              "      <td>10:37</td>\n",
              "      <td>Ewallet</td>\n",
              "      <td>604.17</td>\n",
              "      <td>4.761905</td>\n",
              "      <td>30.2085</td>\n",
              "      <td>5.3</td>\n",
              "      <td>10</td>\n",
              "    </tr>\n",
              "  </tbody>\n",
              "</table>\n",
              "</div>\n",
              "      <button class=\"colab-df-convert\" onclick=\"convertToInteractive('df-70189b2b-333c-41a0-bd92-3dfafcc82182')\"\n",
              "              title=\"Convert this dataframe to an interactive table.\"\n",
              "              style=\"display:none;\">\n",
              "        \n",
              "  <svg xmlns=\"http://www.w3.org/2000/svg\" height=\"24px\"viewBox=\"0 0 24 24\"\n",
              "       width=\"24px\">\n",
              "    <path d=\"M0 0h24v24H0V0z\" fill=\"none\"/>\n",
              "    <path d=\"M18.56 5.44l.94 2.06.94-2.06 2.06-.94-2.06-.94-.94-2.06-.94 2.06-2.06.94zm-11 1L8.5 8.5l.94-2.06 2.06-.94-2.06-.94L8.5 2.5l-.94 2.06-2.06.94zm10 10l.94 2.06.94-2.06 2.06-.94-2.06-.94-.94-2.06-.94 2.06-2.06.94z\"/><path d=\"M17.41 7.96l-1.37-1.37c-.4-.4-.92-.59-1.43-.59-.52 0-1.04.2-1.43.59L10.3 9.45l-7.72 7.72c-.78.78-.78 2.05 0 2.83L4 21.41c.39.39.9.59 1.41.59.51 0 1.02-.2 1.41-.59l7.78-7.78 2.81-2.81c.8-.78.8-2.07 0-2.86zM5.41 20L4 18.59l7.72-7.72 1.47 1.35L5.41 20z\"/>\n",
              "  </svg>\n",
              "      </button>\n",
              "      \n",
              "  <style>\n",
              "    .colab-df-container {\n",
              "      display:flex;\n",
              "      flex-wrap:wrap;\n",
              "      gap: 12px;\n",
              "    }\n",
              "\n",
              "    .colab-df-convert {\n",
              "      background-color: #E8F0FE;\n",
              "      border: none;\n",
              "      border-radius: 50%;\n",
              "      cursor: pointer;\n",
              "      display: none;\n",
              "      fill: #1967D2;\n",
              "      height: 32px;\n",
              "      padding: 0 0 0 0;\n",
              "      width: 32px;\n",
              "    }\n",
              "\n",
              "    .colab-df-convert:hover {\n",
              "      background-color: #E2EBFA;\n",
              "      box-shadow: 0px 1px 2px rgba(60, 64, 67, 0.3), 0px 1px 3px 1px rgba(60, 64, 67, 0.15);\n",
              "      fill: #174EA6;\n",
              "    }\n",
              "\n",
              "    [theme=dark] .colab-df-convert {\n",
              "      background-color: #3B4455;\n",
              "      fill: #D2E3FC;\n",
              "    }\n",
              "\n",
              "    [theme=dark] .colab-df-convert:hover {\n",
              "      background-color: #434B5C;\n",
              "      box-shadow: 0px 1px 3px 1px rgba(0, 0, 0, 0.15);\n",
              "      filter: drop-shadow(0px 1px 2px rgba(0, 0, 0, 0.3));\n",
              "      fill: #FFFFFF;\n",
              "    }\n",
              "  </style>\n",
              "\n",
              "      <script>\n",
              "        const buttonEl =\n",
              "          document.querySelector('#df-70189b2b-333c-41a0-bd92-3dfafcc82182 button.colab-df-convert');\n",
              "        buttonEl.style.display =\n",
              "          google.colab.kernel.accessAllowed ? 'block' : 'none';\n",
              "\n",
              "        async function convertToInteractive(key) {\n",
              "          const element = document.querySelector('#df-70189b2b-333c-41a0-bd92-3dfafcc82182');\n",
              "          const dataTable =\n",
              "            await google.colab.kernel.invokeFunction('convertToInteractive',\n",
              "                                                     [key], {});\n",
              "          if (!dataTable) return;\n",
              "\n",
              "          const docLinkHtml = 'Like what you see? Visit the ' +\n",
              "            '<a target=\"_blank\" href=https://colab.research.google.com/notebooks/data_table.ipynb>data table notebook</a>'\n",
              "            + ' to learn more about interactive tables.';\n",
              "          element.innerHTML = '';\n",
              "          dataTable['output_type'] = 'display_data';\n",
              "          await google.colab.output.renderOutput(dataTable, element);\n",
              "          const docLink = document.createElement('div');\n",
              "          docLink.innerHTML = docLinkHtml;\n",
              "          element.appendChild(docLink);\n",
              "        }\n",
              "      </script>\n",
              "    </div>\n",
              "  </div>\n",
              "  "
            ]
          },
          "metadata": {},
          "execution_count": 2
        }
      ]
    },
    {
      "cell_type": "code",
      "source": [
        "dd = df.query(\"City == 'Dubai'\")\n",
        "da = df.query(\"City == 'Amman'\")\n",
        "dr = df.query(\"City == 'Riyadh'\")"
      ],
      "metadata": {
        "id": "WvDgSJhy0dv2"
      },
      "execution_count": null,
      "outputs": []
    },
    {
      "cell_type": "code",
      "source": [
        "fig2 = px.histogram(dd, x='Product_line', y='Total', histfunc='avg', height=300,text_auto=True,color='Payment',\n",
        "                    title='Distribution of sales in Dubai')\n",
        "fig2.show()"
      ],
      "metadata": {
        "colab": {
          "base_uri": "https://localhost:8080/",
          "height": 317
        },
        "id": "r-cZolwt3P1G",
        "outputId": "978dc2ac-998d-4e43-c055-47dc0da252c5"
      },
      "execution_count": null,
      "outputs": [
        {
          "output_type": "display_data",
          "data": {
            "text/html": [
              "<html>\n",
              "<head><meta charset=\"utf-8\" /></head>\n",
              "<body>\n",
              "    <div>            <script src=\"https://cdnjs.cloudflare.com/ajax/libs/mathjax/2.7.5/MathJax.js?config=TeX-AMS-MML_SVG\"></script><script type=\"text/javascript\">if (window.MathJax) {MathJax.Hub.Config({SVG: {font: \"STIX-Web\"}});}</script>                <script type=\"text/javascript\">window.PlotlyConfig = {MathJaxConfig: 'local'};</script>\n",
              "        <script src=\"https://cdn.plot.ly/plotly-2.8.3.min.js\"></script>                <div id=\"aa1fe6aa-1737-4c71-9242-2b1ae235bdc9\" class=\"plotly-graph-div\" style=\"height:300px; width:100%;\"></div>            <script type=\"text/javascript\">                                    window.PLOTLYENV=window.PLOTLYENV || {};                                    if (document.getElementById(\"aa1fe6aa-1737-4c71-9242-2b1ae235bdc9\")) {                    Plotly.newPlot(                        \"aa1fe6aa-1737-4c71-9242-2b1ae235bdc9\",                        [{\"alignmentgroup\":\"True\",\"bingroup\":\"x\",\"histfunc\":\"avg\",\"hovertemplate\":\"Payment=Cash<br>Product_line=%{x}<br>avg of Total=%{y}<extra></extra>\",\"legendgroup\":\"Cash\",\"marker\":{\"color\":\"#636efa\",\"pattern\":{\"shape\":\"\"}},\"name\":\"Cash\",\"offsetgroup\":\"Cash\",\"orientation\":\"v\",\"showlegend\":true,\"texttemplate\":\"%{value}\",\"x\":[\"Electronic accessories\",\"Home and lifestyle\",\"Food and beverages\",\"Health and beauty\",\"Food and beverages\",\"Electronic accessories\",\"Electronic accessories\",\"Fashion accessories\",\"Electronic accessories\",\"Health and beauty\",\"Sports and travel\",\"Fashion accessories\",\"Home and lifestyle\",\"Electronic accessories\",\"Fashion accessories\",\"Fashion accessories\",\"Electronic accessories\",\"Food and beverages\",\"Electronic accessories\",\"Fashion accessories\",\"Health and beauty\",\"Health and beauty\",\"Sports and travel\",\"Home and lifestyle\",\"Electronic accessories\",\"Fashion accessories\",\"Food and beverages\",\"Food and beverages\",\"Fashion accessories\",\"Health and beauty\",\"Electronic accessories\",\"Food and beverages\",\"Electronic accessories\",\"Fashion accessories\",\"Health and beauty\",\"Home and lifestyle\",\"Fashion accessories\",\"Home and lifestyle\",\"Sports and travel\",\"Electronic accessories\",\"Electronic accessories\",\"Home and lifestyle\",\"Food and beverages\",\"Electronic accessories\",\"Food and beverages\",\"Food and beverages\",\"Electronic accessories\",\"Food and beverages\",\"Health and beauty\",\"Food and beverages\",\"Home and lifestyle\",\"Electronic accessories\",\"Sports and travel\",\"Food and beverages\",\"Food and beverages\",\"Fashion accessories\",\"Electronic accessories\",\"Sports and travel\",\"Fashion accessories\",\"Electronic accessories\",\"Food and beverages\",\"Fashion accessories\",\"Electronic accessories\",\"Fashion accessories\",\"Food and beverages\",\"Electronic accessories\",\"Food and beverages\",\"Sports and travel\",\"Food and beverages\",\"Electronic accessories\",\"Food and beverages\",\"Electronic accessories\",\"Home and lifestyle\",\"Electronic accessories\",\"Food and beverages\",\"Home and lifestyle\",\"Health and beauty\",\"Food and beverages\",\"Fashion accessories\",\"Fashion accessories\",\"Fashion accessories\",\"Food and beverages\",\"Electronic accessories\",\"Health and beauty\",\"Sports and travel\",\"Electronic accessories\",\"Sports and travel\",\"Sports and travel\",\"Sports and travel\",\"Fashion accessories\",\"Food and beverages\",\"Food and beverages\",\"Sports and travel\",\"Food and beverages\",\"Health and beauty\",\"Home and lifestyle\",\"Food and beverages\",\"Health and beauty\",\"Food and beverages\",\"Sports and travel\",\"Health and beauty\",\"Home and lifestyle\",\"Home and lifestyle\",\"Fashion accessories\",\"Sports and travel\",\"Electronic accessories\",\"Electronic accessories\",\"Food and beverages\",\"Fashion accessories\",\"Health and beauty\",\"Food and beverages\",\"Health and beauty\",\"Home and lifestyle\",\"Electronic accessories\",\"Fashion accessories\",\"Food and beverages\",\"Food and beverages\",\"Home and lifestyle\",\"Fashion accessories\",\"Electronic accessories\",\"Fashion accessories\",\"Food and beverages\",\"Health and beauty\",\"Electronic accessories\"],\"xaxis\":\"x\",\"y\":[80.22,117.831,829.08,32.277,671.79,722.232,192.843,652.26,478.233,106.995,256.7775,401.73,198.996,78.435,51.1455,742.2975,218.0115,321.111,860.685,284.193,950.25,720.3,680.148,1003.59,175.14,472.311,323.148,829.71,78.0045,91.77,451.3635,881.307,62.0025,13.167,44.352,229.11,745.395,78.603,224.4375,272.58,121.128,93.0405,51.0405,820.365,208.677,66.402,392.6475,216.6885,41.391,395.892,749.7,31.752,1002.12,793.548,173.208,343.056,484.974,150.78,265.104,55.881,294.651,253.512,264.7575,17.094,91.56,488.985,212.73,310.59,23.751,103.782,554.148,344.4,24.108,132.762,568.512,523.971,132.027,85.743,625.905,193.4625,381.3915,935.2665,48.51,442.323,32.529,259.77,207.48,153.048,663.2955,539.343,497.07,72.429,856.4535,270.2595,239.4,408.7335,40.341,597.0405,137.865,132.5625,183.12,369.684,63.9135,333.984,10.6785,681.975,586.635,688.716,54.9675,439.215,297.801,629.16,329.196,223.587,943.299,88.368,477.1305,165.9,96.579,304.983,180.873,250.278,734.706,708.3195],\"yaxis\":\"y\",\"type\":\"histogram\"},{\"alignmentgroup\":\"True\",\"bingroup\":\"x\",\"histfunc\":\"avg\",\"hovertemplate\":\"Payment=Ewallet<br>Product_line=%{x}<br>avg of Total=%{y}<extra></extra>\",\"legendgroup\":\"Ewallet\",\"marker\":{\"color\":\"#EF553B\",\"pattern\":{\"shape\":\"\"}},\"name\":\"Ewallet\",\"offsetgroup\":\"Ewallet\",\"orientation\":\"v\",\"showlegend\":true,\"texttemplate\":\"%{value}\",\"x\":[\"Electronic accessories\",\"Home and lifestyle\",\"Electronic accessories\",\"Food and beverages\",\"Sports and travel\",\"Health and beauty\",\"Fashion accessories\",\"Home and lifestyle\",\"Health and beauty\",\"Food and beverages\",\"Food and beverages\",\"Sports and travel\",\"Sports and travel\",\"Food and beverages\",\"Health and beauty\",\"Food and beverages\",\"Sports and travel\",\"Health and beauty\",\"Health and beauty\",\"Home and lifestyle\",\"Electronic accessories\",\"Fashion accessories\",\"Fashion accessories\",\"Electronic accessories\",\"Fashion accessories\",\"Health and beauty\",\"Sports and travel\",\"Food and beverages\",\"Food and beverages\",\"Home and lifestyle\",\"Sports and travel\",\"Fashion accessories\",\"Food and beverages\",\"Fashion accessories\",\"Home and lifestyle\",\"Fashion accessories\",\"Fashion accessories\",\"Health and beauty\",\"Food and beverages\",\"Food and beverages\",\"Sports and travel\",\"Sports and travel\",\"Food and beverages\",\"Fashion accessories\",\"Food and beverages\",\"Home and lifestyle\",\"Electronic accessories\",\"Fashion accessories\",\"Home and lifestyle\",\"Fashion accessories\",\"Food and beverages\",\"Home and lifestyle\",\"Food and beverages\",\"Food and beverages\",\"Sports and travel\",\"Food and beverages\",\"Home and lifestyle\",\"Sports and travel\",\"Electronic accessories\",\"Food and beverages\",\"Electronic accessories\",\"Fashion accessories\",\"Electronic accessories\",\"Electronic accessories\",\"Health and beauty\",\"Health and beauty\",\"Fashion accessories\",\"Food and beverages\",\"Home and lifestyle\",\"Fashion accessories\",\"Fashion accessories\",\"Home and lifestyle\",\"Electronic accessories\",\"Health and beauty\",\"Fashion accessories\",\"Fashion accessories\",\"Electronic accessories\",\"Food and beverages\",\"Fashion accessories\",\"Sports and travel\",\"Health and beauty\",\"Electronic accessories\",\"Home and lifestyle\",\"Electronic accessories\",\"Fashion accessories\",\"Fashion accessories\",\"Sports and travel\",\"Health and beauty\",\"Home and lifestyle\",\"Health and beauty\",\"Health and beauty\",\"Fashion accessories\",\"Home and lifestyle\",\"Fashion accessories\",\"Fashion accessories\",\"Health and beauty\",\"Electronic accessories\",\"Sports and travel\",\"Health and beauty\",\"Home and lifestyle\",\"Health and beauty\",\"Food and beverages\",\"Home and lifestyle\",\"Electronic accessories\",\"Electronic accessories\",\"Health and beauty\"],\"xaxis\":\"x\",\"y\":[627.6165,772.38,451.71,417.564,71.526,461.328,867.615,351.099,70.287,822.255,161.7,610.491,471.03,575.736,512.19,103.824,160.44,273.42,288.204,299.565,155.652,69.09,400.764,204.6975,145.593,185.094,77.175,509.4075,209.559,441.693,701.8515,407.316,314.538,510.9615,14.679,718.7565,125.055,85.5855,121.59,90.867,937.818,348.306,71.568,13.419,22.659,527.751,353.094,33.495,145.74,54.0435,154.1295,122.5245,551.124,1034.46,543.753,133.434,178.164,440.937,87.234,814.38,461.5275,273.798,743.82,63.2625,300.573,618.975,310.716,404.544,1023.75,507.444,131.208,317.226,733.6035,130.8825,829.08,408.492,616.98,89.0715,267.3405,499.7265,53.34,603.876,455.1225,253.68,495.3165,652.89,184.086,390.9465,90.5835,106.5015,131.922,59.325,548.184,102.396,446.439,122.472,235.746,221.886,470.988,270.018,579.8415,360.927,188.0025,864.57,63.9975,42.3675],\"yaxis\":\"y\",\"type\":\"histogram\"},{\"alignmentgroup\":\"True\",\"bingroup\":\"x\",\"histfunc\":\"avg\",\"hovertemplate\":\"Payment=Credit card<br>Product_line=%{x}<br>avg of Total=%{y}<extra></extra>\",\"legendgroup\":\"Credit card\",\"marker\":{\"color\":\"#00cc96\",\"pattern\":{\"shape\":\"\"}},\"name\":\"Credit card\",\"offsetgroup\":\"Credit card\",\"orientation\":\"v\",\"showlegend\":true,\"texttemplate\":\"%{value}\",\"x\":[\"Fashion accessories\",\"Sports and travel\",\"Food and beverages\",\"Electronic accessories\",\"Fashion accessories\",\"Health and beauty\",\"Food and beverages\",\"Health and beauty\",\"Fashion accessories\",\"Health and beauty\",\"Home and lifestyle\",\"Fashion accessories\",\"Sports and travel\",\"Home and lifestyle\",\"Fashion accessories\",\"Sports and travel\",\"Food and beverages\",\"Health and beauty\",\"Health and beauty\",\"Sports and travel\",\"Food and beverages\",\"Fashion accessories\",\"Home and lifestyle\",\"Health and beauty\",\"Food and beverages\",\"Sports and travel\",\"Electronic accessories\",\"Sports and travel\",\"Health and beauty\",\"Fashion accessories\",\"Fashion accessories\",\"Fashion accessories\",\"Sports and travel\",\"Electronic accessories\",\"Home and lifestyle\",\"Home and lifestyle\",\"Fashion accessories\",\"Health and beauty\",\"Electronic accessories\",\"Fashion accessories\",\"Fashion accessories\",\"Food and beverages\",\"Home and lifestyle\",\"Home and lifestyle\",\"Fashion accessories\",\"Electronic accessories\",\"Food and beverages\",\"Fashion accessories\",\"Food and beverages\",\"Sports and travel\",\"Health and beauty\",\"Sports and travel\",\"Home and lifestyle\",\"Home and lifestyle\",\"Sports and travel\",\"Home and lifestyle\",\"Sports and travel\",\"Health and beauty\",\"Electronic accessories\",\"Electronic accessories\",\"Food and beverages\",\"Sports and travel\",\"Fashion accessories\",\"Health and beauty\",\"Fashion accessories\",\"Food and beverages\",\"Sports and travel\",\"Food and beverages\",\"Electronic accessories\",\"Sports and travel\",\"Food and beverages\",\"Health and beauty\",\"Home and lifestyle\",\"Health and beauty\",\"Home and lifestyle\",\"Sports and travel\",\"Home and lifestyle\",\"Fashion accessories\",\"Health and beauty\",\"Food and beverages\",\"Health and beauty\",\"Health and beauty\",\"Health and beauty\",\"Health and beauty\",\"Sports and travel\",\"Food and beverages\",\"Sports and travel\",\"Food and beverages\",\"Fashion accessories\",\"Fashion accessories\",\"Electronic accessories\",\"Health and beauty\",\"Sports and travel\",\"Home and lifestyle\",\"Home and lifestyle\",\"Sports and travel\",\"Fashion accessories\",\"Electronic accessories\"],\"xaxis\":\"x\",\"y\":[16.2015,77.931,939.54,437.325,463.428,624.897,337.512,94.2375,172.494,309.3615,763.4655,85.113,419.832,536.844,299.8485,942.9,31.9305,291.438,277.788,254.016,362.712,165.4485,293.202,174.3,374.7975,120.645,629.8425,183.036,91.4025,232.155,195.72,369.495,30.219,276.948,148.974,38.85,209.622,218.0745,150.0975,1042.65,394.275,248.409,194.124,190.596,1020.705,343.224,290.43,144.081,37.6845,572.775,273.0525,388.29,127.26,100.485,429.1665,206.7975,377.58,79.674,118.251,139.923,936.6,517.965,195.258,293.139,68.2395,209.118,84.9765,609.168,104.6745,125.979,914.55,282.576,175.0455,860.475,596.82,266.028,55.2825,239.589,631.1445,55.041,480.0285,57.6975,190.4805,287.91,341.0925,31.227,23.499,76.5765,85.512,485.5725,423.738,888.405,44.9925,338.2155,26.733,611.079,175.035,176.925],\"yaxis\":\"y\",\"type\":\"histogram\"}],                        {\"template\":{\"data\":{\"bar\":[{\"error_x\":{\"color\":\"#2a3f5f\"},\"error_y\":{\"color\":\"#2a3f5f\"},\"marker\":{\"line\":{\"color\":\"#E5ECF6\",\"width\":0.5},\"pattern\":{\"fillmode\":\"overlay\",\"size\":10,\"solidity\":0.2}},\"type\":\"bar\"}],\"barpolar\":[{\"marker\":{\"line\":{\"color\":\"#E5ECF6\",\"width\":0.5},\"pattern\":{\"fillmode\":\"overlay\",\"size\":10,\"solidity\":0.2}},\"type\":\"barpolar\"}],\"carpet\":[{\"aaxis\":{\"endlinecolor\":\"#2a3f5f\",\"gridcolor\":\"white\",\"linecolor\":\"white\",\"minorgridcolor\":\"white\",\"startlinecolor\":\"#2a3f5f\"},\"baxis\":{\"endlinecolor\":\"#2a3f5f\",\"gridcolor\":\"white\",\"linecolor\":\"white\",\"minorgridcolor\":\"white\",\"startlinecolor\":\"#2a3f5f\"},\"type\":\"carpet\"}],\"choropleth\":[{\"colorbar\":{\"outlinewidth\":0,\"ticks\":\"\"},\"type\":\"choropleth\"}],\"contour\":[{\"colorbar\":{\"outlinewidth\":0,\"ticks\":\"\"},\"colorscale\":[[0.0,\"#0d0887\"],[0.1111111111111111,\"#46039f\"],[0.2222222222222222,\"#7201a8\"],[0.3333333333333333,\"#9c179e\"],[0.4444444444444444,\"#bd3786\"],[0.5555555555555556,\"#d8576b\"],[0.6666666666666666,\"#ed7953\"],[0.7777777777777778,\"#fb9f3a\"],[0.8888888888888888,\"#fdca26\"],[1.0,\"#f0f921\"]],\"type\":\"contour\"}],\"contourcarpet\":[{\"colorbar\":{\"outlinewidth\":0,\"ticks\":\"\"},\"type\":\"contourcarpet\"}],\"heatmap\":[{\"colorbar\":{\"outlinewidth\":0,\"ticks\":\"\"},\"colorscale\":[[0.0,\"#0d0887\"],[0.1111111111111111,\"#46039f\"],[0.2222222222222222,\"#7201a8\"],[0.3333333333333333,\"#9c179e\"],[0.4444444444444444,\"#bd3786\"],[0.5555555555555556,\"#d8576b\"],[0.6666666666666666,\"#ed7953\"],[0.7777777777777778,\"#fb9f3a\"],[0.8888888888888888,\"#fdca26\"],[1.0,\"#f0f921\"]],\"type\":\"heatmap\"}],\"heatmapgl\":[{\"colorbar\":{\"outlinewidth\":0,\"ticks\":\"\"},\"colorscale\":[[0.0,\"#0d0887\"],[0.1111111111111111,\"#46039f\"],[0.2222222222222222,\"#7201a8\"],[0.3333333333333333,\"#9c179e\"],[0.4444444444444444,\"#bd3786\"],[0.5555555555555556,\"#d8576b\"],[0.6666666666666666,\"#ed7953\"],[0.7777777777777778,\"#fb9f3a\"],[0.8888888888888888,\"#fdca26\"],[1.0,\"#f0f921\"]],\"type\":\"heatmapgl\"}],\"histogram\":[{\"marker\":{\"pattern\":{\"fillmode\":\"overlay\",\"size\":10,\"solidity\":0.2}},\"type\":\"histogram\"}],\"histogram2d\":[{\"colorbar\":{\"outlinewidth\":0,\"ticks\":\"\"},\"colorscale\":[[0.0,\"#0d0887\"],[0.1111111111111111,\"#46039f\"],[0.2222222222222222,\"#7201a8\"],[0.3333333333333333,\"#9c179e\"],[0.4444444444444444,\"#bd3786\"],[0.5555555555555556,\"#d8576b\"],[0.6666666666666666,\"#ed7953\"],[0.7777777777777778,\"#fb9f3a\"],[0.8888888888888888,\"#fdca26\"],[1.0,\"#f0f921\"]],\"type\":\"histogram2d\"}],\"histogram2dcontour\":[{\"colorbar\":{\"outlinewidth\":0,\"ticks\":\"\"},\"colorscale\":[[0.0,\"#0d0887\"],[0.1111111111111111,\"#46039f\"],[0.2222222222222222,\"#7201a8\"],[0.3333333333333333,\"#9c179e\"],[0.4444444444444444,\"#bd3786\"],[0.5555555555555556,\"#d8576b\"],[0.6666666666666666,\"#ed7953\"],[0.7777777777777778,\"#fb9f3a\"],[0.8888888888888888,\"#fdca26\"],[1.0,\"#f0f921\"]],\"type\":\"histogram2dcontour\"}],\"mesh3d\":[{\"colorbar\":{\"outlinewidth\":0,\"ticks\":\"\"},\"type\":\"mesh3d\"}],\"parcoords\":[{\"line\":{\"colorbar\":{\"outlinewidth\":0,\"ticks\":\"\"}},\"type\":\"parcoords\"}],\"pie\":[{\"automargin\":true,\"type\":\"pie\"}],\"scatter\":[{\"marker\":{\"colorbar\":{\"outlinewidth\":0,\"ticks\":\"\"}},\"type\":\"scatter\"}],\"scatter3d\":[{\"line\":{\"colorbar\":{\"outlinewidth\":0,\"ticks\":\"\"}},\"marker\":{\"colorbar\":{\"outlinewidth\":0,\"ticks\":\"\"}},\"type\":\"scatter3d\"}],\"scattercarpet\":[{\"marker\":{\"colorbar\":{\"outlinewidth\":0,\"ticks\":\"\"}},\"type\":\"scattercarpet\"}],\"scattergeo\":[{\"marker\":{\"colorbar\":{\"outlinewidth\":0,\"ticks\":\"\"}},\"type\":\"scattergeo\"}],\"scattergl\":[{\"marker\":{\"colorbar\":{\"outlinewidth\":0,\"ticks\":\"\"}},\"type\":\"scattergl\"}],\"scattermapbox\":[{\"marker\":{\"colorbar\":{\"outlinewidth\":0,\"ticks\":\"\"}},\"type\":\"scattermapbox\"}],\"scatterpolar\":[{\"marker\":{\"colorbar\":{\"outlinewidth\":0,\"ticks\":\"\"}},\"type\":\"scatterpolar\"}],\"scatterpolargl\":[{\"marker\":{\"colorbar\":{\"outlinewidth\":0,\"ticks\":\"\"}},\"type\":\"scatterpolargl\"}],\"scatterternary\":[{\"marker\":{\"colorbar\":{\"outlinewidth\":0,\"ticks\":\"\"}},\"type\":\"scatterternary\"}],\"surface\":[{\"colorbar\":{\"outlinewidth\":0,\"ticks\":\"\"},\"colorscale\":[[0.0,\"#0d0887\"],[0.1111111111111111,\"#46039f\"],[0.2222222222222222,\"#7201a8\"],[0.3333333333333333,\"#9c179e\"],[0.4444444444444444,\"#bd3786\"],[0.5555555555555556,\"#d8576b\"],[0.6666666666666666,\"#ed7953\"],[0.7777777777777778,\"#fb9f3a\"],[0.8888888888888888,\"#fdca26\"],[1.0,\"#f0f921\"]],\"type\":\"surface\"}],\"table\":[{\"cells\":{\"fill\":{\"color\":\"#EBF0F8\"},\"line\":{\"color\":\"white\"}},\"header\":{\"fill\":{\"color\":\"#C8D4E3\"},\"line\":{\"color\":\"white\"}},\"type\":\"table\"}]},\"layout\":{\"annotationdefaults\":{\"arrowcolor\":\"#2a3f5f\",\"arrowhead\":0,\"arrowwidth\":1},\"autotypenumbers\":\"strict\",\"coloraxis\":{\"colorbar\":{\"outlinewidth\":0,\"ticks\":\"\"}},\"colorscale\":{\"diverging\":[[0,\"#8e0152\"],[0.1,\"#c51b7d\"],[0.2,\"#de77ae\"],[0.3,\"#f1b6da\"],[0.4,\"#fde0ef\"],[0.5,\"#f7f7f7\"],[0.6,\"#e6f5d0\"],[0.7,\"#b8e186\"],[0.8,\"#7fbc41\"],[0.9,\"#4d9221\"],[1,\"#276419\"]],\"sequential\":[[0.0,\"#0d0887\"],[0.1111111111111111,\"#46039f\"],[0.2222222222222222,\"#7201a8\"],[0.3333333333333333,\"#9c179e\"],[0.4444444444444444,\"#bd3786\"],[0.5555555555555556,\"#d8576b\"],[0.6666666666666666,\"#ed7953\"],[0.7777777777777778,\"#fb9f3a\"],[0.8888888888888888,\"#fdca26\"],[1.0,\"#f0f921\"]],\"sequentialminus\":[[0.0,\"#0d0887\"],[0.1111111111111111,\"#46039f\"],[0.2222222222222222,\"#7201a8\"],[0.3333333333333333,\"#9c179e\"],[0.4444444444444444,\"#bd3786\"],[0.5555555555555556,\"#d8576b\"],[0.6666666666666666,\"#ed7953\"],[0.7777777777777778,\"#fb9f3a\"],[0.8888888888888888,\"#fdca26\"],[1.0,\"#f0f921\"]]},\"colorway\":[\"#636efa\",\"#EF553B\",\"#00cc96\",\"#ab63fa\",\"#FFA15A\",\"#19d3f3\",\"#FF6692\",\"#B6E880\",\"#FF97FF\",\"#FECB52\"],\"font\":{\"color\":\"#2a3f5f\"},\"geo\":{\"bgcolor\":\"white\",\"lakecolor\":\"white\",\"landcolor\":\"#E5ECF6\",\"showlakes\":true,\"showland\":true,\"subunitcolor\":\"white\"},\"hoverlabel\":{\"align\":\"left\"},\"hovermode\":\"closest\",\"mapbox\":{\"style\":\"light\"},\"paper_bgcolor\":\"white\",\"plot_bgcolor\":\"#E5ECF6\",\"polar\":{\"angularaxis\":{\"gridcolor\":\"white\",\"linecolor\":\"white\",\"ticks\":\"\"},\"bgcolor\":\"#E5ECF6\",\"radialaxis\":{\"gridcolor\":\"white\",\"linecolor\":\"white\",\"ticks\":\"\"}},\"scene\":{\"xaxis\":{\"backgroundcolor\":\"#E5ECF6\",\"gridcolor\":\"white\",\"gridwidth\":2,\"linecolor\":\"white\",\"showbackground\":true,\"ticks\":\"\",\"zerolinecolor\":\"white\"},\"yaxis\":{\"backgroundcolor\":\"#E5ECF6\",\"gridcolor\":\"white\",\"gridwidth\":2,\"linecolor\":\"white\",\"showbackground\":true,\"ticks\":\"\",\"zerolinecolor\":\"white\"},\"zaxis\":{\"backgroundcolor\":\"#E5ECF6\",\"gridcolor\":\"white\",\"gridwidth\":2,\"linecolor\":\"white\",\"showbackground\":true,\"ticks\":\"\",\"zerolinecolor\":\"white\"}},\"shapedefaults\":{\"line\":{\"color\":\"#2a3f5f\"}},\"ternary\":{\"aaxis\":{\"gridcolor\":\"white\",\"linecolor\":\"white\",\"ticks\":\"\"},\"baxis\":{\"gridcolor\":\"white\",\"linecolor\":\"white\",\"ticks\":\"\"},\"bgcolor\":\"#E5ECF6\",\"caxis\":{\"gridcolor\":\"white\",\"linecolor\":\"white\",\"ticks\":\"\"}},\"title\":{\"x\":0.05},\"xaxis\":{\"automargin\":true,\"gridcolor\":\"white\",\"linecolor\":\"white\",\"ticks\":\"\",\"title\":{\"standoff\":15},\"zerolinecolor\":\"white\",\"zerolinewidth\":2},\"yaxis\":{\"automargin\":true,\"gridcolor\":\"white\",\"linecolor\":\"white\",\"ticks\":\"\",\"title\":{\"standoff\":15},\"zerolinecolor\":\"white\",\"zerolinewidth\":2}}},\"xaxis\":{\"anchor\":\"y\",\"domain\":[0.0,1.0],\"title\":{\"text\":\"Product_line\"}},\"yaxis\":{\"anchor\":\"x\",\"domain\":[0.0,1.0],\"title\":{\"text\":\"avg of Total\"}},\"legend\":{\"title\":{\"text\":\"Payment\"},\"tracegroupgap\":0},\"title\":{\"text\":\"Distribution of sales in Dubai\"},\"barmode\":\"relative\",\"height\":300},                        {\"responsive\": true}                    ).then(function(){\n",
              "                            \n",
              "var gd = document.getElementById('aa1fe6aa-1737-4c71-9242-2b1ae235bdc9');\n",
              "var x = new MutationObserver(function (mutations, observer) {{\n",
              "        var display = window.getComputedStyle(gd).display;\n",
              "        if (!display || display === 'none') {{\n",
              "            console.log([gd, 'removed!']);\n",
              "            Plotly.purge(gd);\n",
              "            observer.disconnect();\n",
              "        }}\n",
              "}});\n",
              "\n",
              "// Listen for the removal of the full notebook cells\n",
              "var notebookContainer = gd.closest('#notebook-container');\n",
              "if (notebookContainer) {{\n",
              "    x.observe(notebookContainer, {childList: true});\n",
              "}}\n",
              "\n",
              "// Listen for the clearing of the current output cell\n",
              "var outputEl = gd.closest('.output');\n",
              "if (outputEl) {{\n",
              "    x.observe(outputEl, {childList: true});\n",
              "}}\n",
              "\n",
              "                        })                };                            </script>        </div>\n",
              "</body>\n",
              "</html>"
            ]
          },
          "metadata": {}
        }
      ]
    },
    {
      "cell_type": "code",
      "source": [
        "yy = px.histogram(da, x=\"Total\", y=\"Product_line\", color=\"Gender\",facet_row='Payment',histfunc='sum')\n",
        "yy.show()"
      ],
      "metadata": {
        "colab": {
          "base_uri": "https://localhost:8080/",
          "height": 542
        },
        "id": "AzmDXuGvBGIm",
        "outputId": "df838b50-5251-46ac-f904-14af4620519e"
      },
      "execution_count": 130,
      "outputs": [
        {
          "output_type": "display_data",
          "data": {
            "text/html": [
              "<html>\n",
              "<head><meta charset=\"utf-8\" /></head>\n",
              "<body>\n",
              "    <div>            <script src=\"https://cdnjs.cloudflare.com/ajax/libs/mathjax/2.7.5/MathJax.js?config=TeX-AMS-MML_SVG\"></script><script type=\"text/javascript\">if (window.MathJax) {MathJax.Hub.Config({SVG: {font: \"STIX-Web\"}});}</script>                <script type=\"text/javascript\">window.PlotlyConfig = {MathJaxConfig: 'local'};</script>\n",
              "        <script src=\"https://cdn.plot.ly/plotly-2.8.3.min.js\"></script>                <div id=\"d0e87796-b562-4b4d-9cb9-af40b1f35ee8\" class=\"plotly-graph-div\" style=\"height:525px; width:100%;\"></div>            <script type=\"text/javascript\">                                    window.PLOTLYENV=window.PLOTLYENV || {};                                    if (document.getElementById(\"d0e87796-b562-4b4d-9cb9-af40b1f35ee8\")) {                    Plotly.newPlot(                        \"d0e87796-b562-4b4d-9cb9-af40b1f35ee8\",                        [{\"alignmentgroup\":\"True\",\"bingroup\":\"y\",\"histfunc\":\"sum\",\"hovertemplate\":\"Gender=Female<br>Payment=Ewallet<br>sum of Total=%{x}<br>Product_line=%{y}<extra></extra>\",\"legendgroup\":\"Female\",\"marker\":{\"color\":\"#636efa\",\"pattern\":{\"shape\":\"\"}},\"name\":\"Female\",\"offsetgroup\":\"Female\",\"orientation\":\"h\",\"showlegend\":true,\"x\":[548.9715,433.692,246.4875,575.316,161.553,115.08,491.085,316.47,26.5545,217.6335,532.728,195.594,709.317,373.17,83.412,736.4385,507.675,214.935,83.727,406.875,284.9175,237.426,951.825,147.798,333.9525,225.2775,398.958,479.9025,148.68,308.91,228.123,226.065,236.88,147.672,394.3275,365.904,277.6725,204.246,113.568,525.231,150.423,182.91,232.638,536.592,56.1225,397.992,206.808,503.7375,216.846,771.435,167.034,781.62,479.64,314.685,921.186],\"xaxis\":\"x3\",\"y\":[\"Health and beauty\",\"Electronic accessories\",\"Electronic accessories\",\"Electronic accessories\",\"Sports and travel\",\"Food and beverages\",\"Home and lifestyle\",\"Fashion accessories\",\"Home and lifestyle\",\"Health and beauty\",\"Home and lifestyle\",\"Sports and travel\",\"Electronic accessories\",\"Home and lifestyle\",\"Electronic accessories\",\"Fashion accessories\",\"Fashion accessories\",\"Food and beverages\",\"Health and beauty\",\"Health and beauty\",\"Food and beverages\",\"Home and lifestyle\",\"Home and lifestyle\",\"Electronic accessories\",\"Food and beverages\",\"Home and lifestyle\",\"Fashion accessories\",\"Sports and travel\",\"Home and lifestyle\",\"Fashion accessories\",\"Home and lifestyle\",\"Sports and travel\",\"Sports and travel\",\"Home and lifestyle\",\"Fashion accessories\",\"Sports and travel\",\"Fashion accessories\",\"Fashion accessories\",\"Sports and travel\",\"Fashion accessories\",\"Sports and travel\",\"Electronic accessories\",\"Food and beverages\",\"Fashion accessories\",\"Health and beauty\",\"Sports and travel\",\"Fashion accessories\",\"Health and beauty\",\"Home and lifestyle\",\"Electronic accessories\",\"Food and beverages\",\"Food and beverages\",\"Home and lifestyle\",\"Home and lifestyle\",\"Sports and travel\"],\"yaxis\":\"y3\",\"type\":\"histogram\"},{\"alignmentgroup\":\"True\",\"bingroup\":\"y\",\"histfunc\":\"sum\",\"hovertemplate\":\"Gender=Female<br>Payment=Credit card<br>sum of Total=%{x}<br>Product_line=%{y}<extra></extra>\",\"legendgroup\":\"Female\",\"marker\":{\"color\":\"#636efa\",\"pattern\":{\"shape\":\"\"}},\"name\":\"Female\",\"offsetgroup\":\"Female\",\"orientation\":\"h\",\"showlegend\":false,\"x\":[76.146,506.6355,441.756,184.107,189.0945,836.304,688.6215,138.1275,90.699,723.24,203.553,587.664,214.998,74.7075,149.3625,352.2225,339.36,548.73,843.0345,174.615,206.43,235.872,306.81,852.705,30.408,225.792,12.6945,49.4235,477.54,187.32,93.744,143.22,817.236,32.151,97.881,195.678,422.73,100.128,92.442,779.31,82.887,756.168,145.5825,374.409,690.018,16.275,296.94],\"xaxis\":\"x2\",\"y\":[\"Health and beauty\",\"Health and beauty\",\"Home and lifestyle\",\"Fashion accessories\",\"Fashion accessories\",\"Electronic accessories\",\"Home and lifestyle\",\"Electronic accessories\",\"Sports and travel\",\"Sports and travel\",\"Home and lifestyle\",\"Home and lifestyle\",\"Electronic accessories\",\"Food and beverages\",\"Electronic accessories\",\"Home and lifestyle\",\"Health and beauty\",\"Sports and travel\",\"Home and lifestyle\",\"Sports and travel\",\"Fashion accessories\",\"Home and lifestyle\",\"Fashion accessories\",\"Food and beverages\",\"Electronic accessories\",\"Food and beverages\",\"Fashion accessories\",\"Electronic accessories\",\"Electronic accessories\",\"Health and beauty\",\"Fashion accessories\",\"Food and beverages\",\"Fashion accessories\",\"Fashion accessories\",\"Electronic accessories\",\"Sports and travel\",\"Electronic accessories\",\"Home and lifestyle\",\"Sports and travel\",\"Electronic accessories\",\"Sports and travel\",\"Electronic accessories\",\"Health and beauty\",\"Health and beauty\",\"Electronic accessories\",\"Fashion accessories\",\"Food and beverages\"],\"yaxis\":\"y2\",\"type\":\"histogram\"},{\"alignmentgroup\":\"True\",\"bingroup\":\"y\",\"histfunc\":\"sum\",\"hovertemplate\":\"Gender=Female<br>Payment=Cash<br>sum of Total=%{x}<br>Product_line=%{y}<extra></extra>\",\"legendgroup\":\"Female\",\"marker\":{\"color\":\"#636efa\",\"pattern\":{\"shape\":\"\"}},\"name\":\"Female\",\"offsetgroup\":\"Female\",\"orientation\":\"h\",\"showlegend\":false,\"x\":[749.49,234.0975,759.675,19.2465,169.3125,580.419,216.846,298.116,233.52,25.263,16.107,200.214,697.368,65.604,76.356,295.6905,745.836,172.011,146.9475,324.2925,185.367,140.385,168.21,338.31,432.768,416.178,621.243,269.934,326.256,164.871,47.859,96.1905,146.6325,308.574,211.365,458.6925,608.076,72.009,257.145,462.672,325.374,210.966,408.408,216.4365,624.33,118.902,450.1035,250.7085,175.014,782.208,313.74,397.614,469.77,290.0835,312.8895,932.337,49.77,313.572,649.299],\"xaxis\":\"x\",\"y\":[\"Health and beauty\",\"Food and beverages\",\"Home and lifestyle\",\"Health and beauty\",\"Sports and travel\",\"Sports and travel\",\"Home and lifestyle\",\"Electronic accessories\",\"Sports and travel\",\"Home and lifestyle\",\"Sports and travel\",\"Health and beauty\",\"Home and lifestyle\",\"Electronic accessories\",\"Food and beverages\",\"Sports and travel\",\"Home and lifestyle\",\"Fashion accessories\",\"Health and beauty\",\"Fashion accessories\",\"Electronic accessories\",\"Sports and travel\",\"Sports and travel\",\"Electronic accessories\",\"Sports and travel\",\"Electronic accessories\",\"Fashion accessories\",\"Health and beauty\",\"Health and beauty\",\"Food and beverages\",\"Sports and travel\",\"Food and beverages\",\"Sports and travel\",\"Food and beverages\",\"Food and beverages\",\"Home and lifestyle\",\"Home and lifestyle\",\"Home and lifestyle\",\"Sports and travel\",\"Fashion accessories\",\"Home and lifestyle\",\"Electronic accessories\",\"Electronic accessories\",\"Health and beauty\",\"Fashion accessories\",\"Home and lifestyle\",\"Food and beverages\",\"Electronic accessories\",\"Food and beverages\",\"Home and lifestyle\",\"Food and beverages\",\"Fashion accessories\",\"Sports and travel\",\"Health and beauty\",\"Fashion accessories\",\"Food and beverages\",\"Health and beauty\",\"Food and beverages\",\"Fashion accessories\"],\"yaxis\":\"y\",\"type\":\"histogram\"},{\"alignmentgroup\":\"True\",\"bingroup\":\"y\",\"histfunc\":\"sum\",\"hovertemplate\":\"Gender=Male<br>Payment=Ewallet<br>sum of Total=%{x}<br>Product_line=%{y}<extra></extra>\",\"legendgroup\":\"Male\",\"marker\":{\"color\":\"#EF553B\",\"pattern\":{\"shape\":\"\"}},\"name\":\"Male\",\"offsetgroup\":\"Male\",\"orientation\":\"h\",\"showlegend\":true,\"x\":[489.048,634.3785,453.495,181.44,279.1845,328.755,752.64,705.6315,102.018,166.1625,931.035,548.7615,609.0,367.5525,319.788,465.444,162.75,77.7735,247.8735,545.37,94.1745,94.185,163.233,135.45,628.929,493.794,530.67,96.138,721.98,80.661,81.396,427.812,26.25,40.53,194.985,156.03,203.112,72.933,160.209,102.837,96.642,262.458,469.413,74.4555,32.1405,708.225,127.827,167.895,246.6765,182.952,588.42,305.55,45.108,80.955,176.4,20.685,79.149,197.925,432.9885,284.592,95.865,202.335,76.923,26.796,271.278,92.295,807.66,331.128,431.256,279.384,121.863],\"xaxis\":\"x3\",\"y\":[\"Health and beauty\",\"Sports and travel\",\"Food and beverages\",\"Electronic accessories\",\"Sports and travel\",\"Sports and travel\",\"Health and beauty\",\"Home and lifestyle\",\"Electronic accessories\",\"Food and beverages\",\"Electronic accessories\",\"Home and lifestyle\",\"Sports and travel\",\"Health and beauty\",\"Home and lifestyle\",\"Food and beverages\",\"Sports and travel\",\"Home and lifestyle\",\"Electronic accessories\",\"Health and beauty\",\"Fashion accessories\",\"Fashion accessories\",\"Home and lifestyle\",\"Electronic accessories\",\"Health and beauty\",\"Home and lifestyle\",\"Electronic accessories\",\"Health and beauty\",\"Fashion accessories\",\"Electronic accessories\",\"Sports and travel\",\"Home and lifestyle\",\"Health and beauty\",\"Electronic accessories\",\"Sports and travel\",\"Fashion accessories\",\"Electronic accessories\",\"Home and lifestyle\",\"Health and beauty\",\"Home and lifestyle\",\"Home and lifestyle\",\"Food and beverages\",\"Electronic accessories\",\"Food and beverages\",\"Fashion accessories\",\"Food and beverages\",\"Sports and travel\",\"Home and lifestyle\",\"Electronic accessories\",\"Home and lifestyle\",\"Fashion accessories\",\"Food and beverages\",\"Fashion accessories\",\"Sports and travel\",\"Health and beauty\",\"Fashion accessories\",\"Home and lifestyle\",\"Food and beverages\",\"Sports and travel\",\"Food and beverages\",\"Health and beauty\",\"Fashion accessories\",\"Electronic accessories\",\"Sports and travel\",\"Sports and travel\",\"Food and beverages\",\"Sports and travel\",\"Food and beverages\",\"Fashion accessories\",\"Food and beverages\",\"Electronic accessories\"],\"yaxis\":\"y3\",\"type\":\"histogram\"},{\"alignmentgroup\":\"True\",\"bingroup\":\"y\",\"histfunc\":\"sum\",\"hovertemplate\":\"Gender=Male<br>Payment=Credit card<br>sum of Total=%{x}<br>Product_line=%{y}<extra></extra>\",\"legendgroup\":\"Male\",\"marker\":{\"color\":\"#EF553B\",\"pattern\":{\"shape\":\"\"}},\"name\":\"Male\",\"offsetgroup\":\"Male\",\"orientation\":\"h\",\"showlegend\":false,\"x\":[340.5255,457.443,172.2105,202.818,166.005,362.943,272.664,786.618,484.5225,336.5565,1039.29,510.972,186.228,171.7275,19.194,235.683,125.517,326.424,69.6675,297.108,462.21,135.576,103.635,49.308,680.064,203.175,345.786,282.492,72.3975,214.137,269.535,452.865,205.317,514.773,728.112,575.9775,451.0275,217.182,164.43,620.739,673.995,175.917,212.7825,58.2225,657.531,37.611,142.947,233.1,548.163,48.7305,680.61,130.032,295.407,182.427,97.818,266.6475,255.1815],\"xaxis\":\"x2\",\"y\":[\"Home and lifestyle\",\"Sports and travel\",\"Food and beverages\",\"Health and beauty\",\"Sports and travel\",\"Food and beverages\",\"Health and beauty\",\"Fashion accessories\",\"Food and beverages\",\"Food and beverages\",\"Fashion accessories\",\"Sports and travel\",\"Food and beverages\",\"Electronic accessories\",\"Home and lifestyle\",\"Food and beverages\",\"Health and beauty\",\"Electronic accessories\",\"Electronic accessories\",\"Home and lifestyle\",\"Sports and travel\",\"Home and lifestyle\",\"Food and beverages\",\"Food and beverages\",\"Food and beverages\",\"Electronic accessories\",\"Sports and travel\",\"Sports and travel\",\"Food and beverages\",\"Home and lifestyle\",\"Food and beverages\",\"Fashion accessories\",\"Health and beauty\",\"Food and beverages\",\"Fashion accessories\",\"Sports and travel\",\"Sports and travel\",\"Health and beauty\",\"Food and beverages\",\"Food and beverages\",\"Sports and travel\",\"Food and beverages\",\"Health and beauty\",\"Fashion accessories\",\"Electronic accessories\",\"Electronic accessories\",\"Fashion accessories\",\"Health and beauty\",\"Electronic accessories\",\"Fashion accessories\",\"Electronic accessories\",\"Fashion accessories\",\"Electronic accessories\",\"Food and beverages\",\"Home and lifestyle\",\"Health and beauty\",\"Home and lifestyle\"],\"yaxis\":\"y2\",\"type\":\"histogram\"},{\"alignmentgroup\":\"True\",\"bingroup\":\"y\",\"histfunc\":\"sum\",\"hovertemplate\":\"Gender=Male<br>Payment=Cash<br>sum of Total=%{x}<br>Product_line=%{y}<extra></extra>\",\"legendgroup\":\"Male\",\"marker\":{\"color\":\"#EF553B\",\"pattern\":{\"shape\":\"\"}},\"name\":\"Male\",\"offsetgroup\":\"Male\",\"orientation\":\"h\",\"showlegend\":false,\"x\":[235.2105,93.114,166.635,827.085,44.5935,367.038,391.419,66.8745,323.064,90.825,263.13,399.756,99.75,494.76,252.042,523.845,152.712,404.355,140.6475,75.5475,191.247,379.9215,461.286,276.948,110.0925,390.7995,87.234,731.6925,926.9505,142.002,76.755,764.19,667.38,510.615,507.906,887.922,99.9075,88.704,54.999,163.611,22.386,77.805,561.078,335.013,84.7455,74.088,43.869,252.252,244.23,33.432,69.111],\"xaxis\":\"x\",\"y\":[\"Health and beauty\",\"Home and lifestyle\",\"Health and beauty\",\"Sports and travel\",\"Sports and travel\",\"Food and beverages\",\"Sports and travel\",\"Sports and travel\",\"Food and beverages\",\"Food and beverages\",\"Home and lifestyle\",\"Home and lifestyle\",\"Home and lifestyle\",\"Home and lifestyle\",\"Home and lifestyle\",\"Food and beverages\",\"Electronic accessories\",\"Fashion accessories\",\"Sports and travel\",\"Electronic accessories\",\"Electronic accessories\",\"Electronic accessories\",\"Home and lifestyle\",\"Home and lifestyle\",\"Health and beauty\",\"Health and beauty\",\"Electronic accessories\",\"Electronic accessories\",\"Sports and travel\",\"Electronic accessories\",\"Health and beauty\",\"Home and lifestyle\",\"Home and lifestyle\",\"Health and beauty\",\"Food and beverages\",\"Home and lifestyle\",\"Electronic accessories\",\"Electronic accessories\",\"Fashion accessories\",\"Fashion accessories\",\"Fashion accessories\",\"Fashion accessories\",\"Sports and travel\",\"Sports and travel\",\"Food and beverages\",\"Health and beauty\",\"Electronic accessories\",\"Home and lifestyle\",\"Health and beauty\",\"Food and beverages\",\"Home and lifestyle\"],\"yaxis\":\"y\",\"type\":\"histogram\"}],                        {\"template\":{\"data\":{\"bar\":[{\"error_x\":{\"color\":\"#2a3f5f\"},\"error_y\":{\"color\":\"#2a3f5f\"},\"marker\":{\"line\":{\"color\":\"#E5ECF6\",\"width\":0.5},\"pattern\":{\"fillmode\":\"overlay\",\"size\":10,\"solidity\":0.2}},\"type\":\"bar\"}],\"barpolar\":[{\"marker\":{\"line\":{\"color\":\"#E5ECF6\",\"width\":0.5},\"pattern\":{\"fillmode\":\"overlay\",\"size\":10,\"solidity\":0.2}},\"type\":\"barpolar\"}],\"carpet\":[{\"aaxis\":{\"endlinecolor\":\"#2a3f5f\",\"gridcolor\":\"white\",\"linecolor\":\"white\",\"minorgridcolor\":\"white\",\"startlinecolor\":\"#2a3f5f\"},\"baxis\":{\"endlinecolor\":\"#2a3f5f\",\"gridcolor\":\"white\",\"linecolor\":\"white\",\"minorgridcolor\":\"white\",\"startlinecolor\":\"#2a3f5f\"},\"type\":\"carpet\"}],\"choropleth\":[{\"colorbar\":{\"outlinewidth\":0,\"ticks\":\"\"},\"type\":\"choropleth\"}],\"contour\":[{\"colorbar\":{\"outlinewidth\":0,\"ticks\":\"\"},\"colorscale\":[[0.0,\"#0d0887\"],[0.1111111111111111,\"#46039f\"],[0.2222222222222222,\"#7201a8\"],[0.3333333333333333,\"#9c179e\"],[0.4444444444444444,\"#bd3786\"],[0.5555555555555556,\"#d8576b\"],[0.6666666666666666,\"#ed7953\"],[0.7777777777777778,\"#fb9f3a\"],[0.8888888888888888,\"#fdca26\"],[1.0,\"#f0f921\"]],\"type\":\"contour\"}],\"contourcarpet\":[{\"colorbar\":{\"outlinewidth\":0,\"ticks\":\"\"},\"type\":\"contourcarpet\"}],\"heatmap\":[{\"colorbar\":{\"outlinewidth\":0,\"ticks\":\"\"},\"colorscale\":[[0.0,\"#0d0887\"],[0.1111111111111111,\"#46039f\"],[0.2222222222222222,\"#7201a8\"],[0.3333333333333333,\"#9c179e\"],[0.4444444444444444,\"#bd3786\"],[0.5555555555555556,\"#d8576b\"],[0.6666666666666666,\"#ed7953\"],[0.7777777777777778,\"#fb9f3a\"],[0.8888888888888888,\"#fdca26\"],[1.0,\"#f0f921\"]],\"type\":\"heatmap\"}],\"heatmapgl\":[{\"colorbar\":{\"outlinewidth\":0,\"ticks\":\"\"},\"colorscale\":[[0.0,\"#0d0887\"],[0.1111111111111111,\"#46039f\"],[0.2222222222222222,\"#7201a8\"],[0.3333333333333333,\"#9c179e\"],[0.4444444444444444,\"#bd3786\"],[0.5555555555555556,\"#d8576b\"],[0.6666666666666666,\"#ed7953\"],[0.7777777777777778,\"#fb9f3a\"],[0.8888888888888888,\"#fdca26\"],[1.0,\"#f0f921\"]],\"type\":\"heatmapgl\"}],\"histogram\":[{\"marker\":{\"pattern\":{\"fillmode\":\"overlay\",\"size\":10,\"solidity\":0.2}},\"type\":\"histogram\"}],\"histogram2d\":[{\"colorbar\":{\"outlinewidth\":0,\"ticks\":\"\"},\"colorscale\":[[0.0,\"#0d0887\"],[0.1111111111111111,\"#46039f\"],[0.2222222222222222,\"#7201a8\"],[0.3333333333333333,\"#9c179e\"],[0.4444444444444444,\"#bd3786\"],[0.5555555555555556,\"#d8576b\"],[0.6666666666666666,\"#ed7953\"],[0.7777777777777778,\"#fb9f3a\"],[0.8888888888888888,\"#fdca26\"],[1.0,\"#f0f921\"]],\"type\":\"histogram2d\"}],\"histogram2dcontour\":[{\"colorbar\":{\"outlinewidth\":0,\"ticks\":\"\"},\"colorscale\":[[0.0,\"#0d0887\"],[0.1111111111111111,\"#46039f\"],[0.2222222222222222,\"#7201a8\"],[0.3333333333333333,\"#9c179e\"],[0.4444444444444444,\"#bd3786\"],[0.5555555555555556,\"#d8576b\"],[0.6666666666666666,\"#ed7953\"],[0.7777777777777778,\"#fb9f3a\"],[0.8888888888888888,\"#fdca26\"],[1.0,\"#f0f921\"]],\"type\":\"histogram2dcontour\"}],\"mesh3d\":[{\"colorbar\":{\"outlinewidth\":0,\"ticks\":\"\"},\"type\":\"mesh3d\"}],\"parcoords\":[{\"line\":{\"colorbar\":{\"outlinewidth\":0,\"ticks\":\"\"}},\"type\":\"parcoords\"}],\"pie\":[{\"automargin\":true,\"type\":\"pie\"}],\"scatter\":[{\"marker\":{\"colorbar\":{\"outlinewidth\":0,\"ticks\":\"\"}},\"type\":\"scatter\"}],\"scatter3d\":[{\"line\":{\"colorbar\":{\"outlinewidth\":0,\"ticks\":\"\"}},\"marker\":{\"colorbar\":{\"outlinewidth\":0,\"ticks\":\"\"}},\"type\":\"scatter3d\"}],\"scattercarpet\":[{\"marker\":{\"colorbar\":{\"outlinewidth\":0,\"ticks\":\"\"}},\"type\":\"scattercarpet\"}],\"scattergeo\":[{\"marker\":{\"colorbar\":{\"outlinewidth\":0,\"ticks\":\"\"}},\"type\":\"scattergeo\"}],\"scattergl\":[{\"marker\":{\"colorbar\":{\"outlinewidth\":0,\"ticks\":\"\"}},\"type\":\"scattergl\"}],\"scattermapbox\":[{\"marker\":{\"colorbar\":{\"outlinewidth\":0,\"ticks\":\"\"}},\"type\":\"scattermapbox\"}],\"scatterpolar\":[{\"marker\":{\"colorbar\":{\"outlinewidth\":0,\"ticks\":\"\"}},\"type\":\"scatterpolar\"}],\"scatterpolargl\":[{\"marker\":{\"colorbar\":{\"outlinewidth\":0,\"ticks\":\"\"}},\"type\":\"scatterpolargl\"}],\"scatterternary\":[{\"marker\":{\"colorbar\":{\"outlinewidth\":0,\"ticks\":\"\"}},\"type\":\"scatterternary\"}],\"surface\":[{\"colorbar\":{\"outlinewidth\":0,\"ticks\":\"\"},\"colorscale\":[[0.0,\"#0d0887\"],[0.1111111111111111,\"#46039f\"],[0.2222222222222222,\"#7201a8\"],[0.3333333333333333,\"#9c179e\"],[0.4444444444444444,\"#bd3786\"],[0.5555555555555556,\"#d8576b\"],[0.6666666666666666,\"#ed7953\"],[0.7777777777777778,\"#fb9f3a\"],[0.8888888888888888,\"#fdca26\"],[1.0,\"#f0f921\"]],\"type\":\"surface\"}],\"table\":[{\"cells\":{\"fill\":{\"color\":\"#EBF0F8\"},\"line\":{\"color\":\"white\"}},\"header\":{\"fill\":{\"color\":\"#C8D4E3\"},\"line\":{\"color\":\"white\"}},\"type\":\"table\"}]},\"layout\":{\"annotationdefaults\":{\"arrowcolor\":\"#2a3f5f\",\"arrowhead\":0,\"arrowwidth\":1},\"autotypenumbers\":\"strict\",\"coloraxis\":{\"colorbar\":{\"outlinewidth\":0,\"ticks\":\"\"}},\"colorscale\":{\"diverging\":[[0,\"#8e0152\"],[0.1,\"#c51b7d\"],[0.2,\"#de77ae\"],[0.3,\"#f1b6da\"],[0.4,\"#fde0ef\"],[0.5,\"#f7f7f7\"],[0.6,\"#e6f5d0\"],[0.7,\"#b8e186\"],[0.8,\"#7fbc41\"],[0.9,\"#4d9221\"],[1,\"#276419\"]],\"sequential\":[[0.0,\"#0d0887\"],[0.1111111111111111,\"#46039f\"],[0.2222222222222222,\"#7201a8\"],[0.3333333333333333,\"#9c179e\"],[0.4444444444444444,\"#bd3786\"],[0.5555555555555556,\"#d8576b\"],[0.6666666666666666,\"#ed7953\"],[0.7777777777777778,\"#fb9f3a\"],[0.8888888888888888,\"#fdca26\"],[1.0,\"#f0f921\"]],\"sequentialminus\":[[0.0,\"#0d0887\"],[0.1111111111111111,\"#46039f\"],[0.2222222222222222,\"#7201a8\"],[0.3333333333333333,\"#9c179e\"],[0.4444444444444444,\"#bd3786\"],[0.5555555555555556,\"#d8576b\"],[0.6666666666666666,\"#ed7953\"],[0.7777777777777778,\"#fb9f3a\"],[0.8888888888888888,\"#fdca26\"],[1.0,\"#f0f921\"]]},\"colorway\":[\"#636efa\",\"#EF553B\",\"#00cc96\",\"#ab63fa\",\"#FFA15A\",\"#19d3f3\",\"#FF6692\",\"#B6E880\",\"#FF97FF\",\"#FECB52\"],\"font\":{\"color\":\"#2a3f5f\"},\"geo\":{\"bgcolor\":\"white\",\"lakecolor\":\"white\",\"landcolor\":\"#E5ECF6\",\"showlakes\":true,\"showland\":true,\"subunitcolor\":\"white\"},\"hoverlabel\":{\"align\":\"left\"},\"hovermode\":\"closest\",\"mapbox\":{\"style\":\"light\"},\"paper_bgcolor\":\"white\",\"plot_bgcolor\":\"#E5ECF6\",\"polar\":{\"angularaxis\":{\"gridcolor\":\"white\",\"linecolor\":\"white\",\"ticks\":\"\"},\"bgcolor\":\"#E5ECF6\",\"radialaxis\":{\"gridcolor\":\"white\",\"linecolor\":\"white\",\"ticks\":\"\"}},\"scene\":{\"xaxis\":{\"backgroundcolor\":\"#E5ECF6\",\"gridcolor\":\"white\",\"gridwidth\":2,\"linecolor\":\"white\",\"showbackground\":true,\"ticks\":\"\",\"zerolinecolor\":\"white\"},\"yaxis\":{\"backgroundcolor\":\"#E5ECF6\",\"gridcolor\":\"white\",\"gridwidth\":2,\"linecolor\":\"white\",\"showbackground\":true,\"ticks\":\"\",\"zerolinecolor\":\"white\"},\"zaxis\":{\"backgroundcolor\":\"#E5ECF6\",\"gridcolor\":\"white\",\"gridwidth\":2,\"linecolor\":\"white\",\"showbackground\":true,\"ticks\":\"\",\"zerolinecolor\":\"white\"}},\"shapedefaults\":{\"line\":{\"color\":\"#2a3f5f\"}},\"ternary\":{\"aaxis\":{\"gridcolor\":\"white\",\"linecolor\":\"white\",\"ticks\":\"\"},\"baxis\":{\"gridcolor\":\"white\",\"linecolor\":\"white\",\"ticks\":\"\"},\"bgcolor\":\"#E5ECF6\",\"caxis\":{\"gridcolor\":\"white\",\"linecolor\":\"white\",\"ticks\":\"\"}},\"title\":{\"x\":0.05},\"xaxis\":{\"automargin\":true,\"gridcolor\":\"white\",\"linecolor\":\"white\",\"ticks\":\"\",\"title\":{\"standoff\":15},\"zerolinecolor\":\"white\",\"zerolinewidth\":2},\"yaxis\":{\"automargin\":true,\"gridcolor\":\"white\",\"linecolor\":\"white\",\"ticks\":\"\",\"title\":{\"standoff\":15},\"zerolinecolor\":\"white\",\"zerolinewidth\":2}}},\"xaxis\":{\"anchor\":\"y\",\"domain\":[0.0,0.98],\"title\":{\"text\":\"sum of Total\"}},\"yaxis\":{\"anchor\":\"x\",\"domain\":[0.0,0.3133333333333333],\"title\":{\"text\":\"Product_line\"}},\"xaxis2\":{\"anchor\":\"y2\",\"domain\":[0.0,0.98],\"matches\":\"x\",\"showticklabels\":false},\"yaxis2\":{\"anchor\":\"x2\",\"domain\":[0.34333333333333327,0.6566666666666665],\"matches\":\"y\",\"title\":{\"text\":\"Product_line\"}},\"xaxis3\":{\"anchor\":\"y3\",\"domain\":[0.0,0.98],\"matches\":\"x\",\"showticklabels\":false},\"yaxis3\":{\"anchor\":\"x3\",\"domain\":[0.6866666666666665,0.9999999999999998],\"matches\":\"y\",\"title\":{\"text\":\"Product_line\"}},\"annotations\":[{\"font\":{},\"showarrow\":false,\"text\":\"Payment=Cash\",\"textangle\":90,\"x\":0.98,\"xanchor\":\"left\",\"xref\":\"paper\",\"y\":0.15666666666666665,\"yanchor\":\"middle\",\"yref\":\"paper\"},{\"font\":{},\"showarrow\":false,\"text\":\"Payment=Credit card\",\"textangle\":90,\"x\":0.98,\"xanchor\":\"left\",\"xref\":\"paper\",\"y\":0.4999999999999999,\"yanchor\":\"middle\",\"yref\":\"paper\"},{\"font\":{},\"showarrow\":false,\"text\":\"Payment=Ewallet\",\"textangle\":90,\"x\":0.98,\"xanchor\":\"left\",\"xref\":\"paper\",\"y\":0.8433333333333332,\"yanchor\":\"middle\",\"yref\":\"paper\"}],\"legend\":{\"title\":{\"text\":\"Gender\"},\"tracegroupgap\":0},\"margin\":{\"t\":60},\"barmode\":\"relative\"},                        {\"responsive\": true}                    ).then(function(){\n",
              "                            \n",
              "var gd = document.getElementById('d0e87796-b562-4b4d-9cb9-af40b1f35ee8');\n",
              "var x = new MutationObserver(function (mutations, observer) {{\n",
              "        var display = window.getComputedStyle(gd).display;\n",
              "        if (!display || display === 'none') {{\n",
              "            console.log([gd, 'removed!']);\n",
              "            Plotly.purge(gd);\n",
              "            observer.disconnect();\n",
              "        }}\n",
              "}});\n",
              "\n",
              "// Listen for the removal of the full notebook cells\n",
              "var notebookContainer = gd.closest('#notebook-container');\n",
              "if (notebookContainer) {{\n",
              "    x.observe(notebookContainer, {childList: true});\n",
              "}}\n",
              "\n",
              "// Listen for the clearing of the current output cell\n",
              "var outputEl = gd.closest('.output');\n",
              "if (outputEl) {{\n",
              "    x.observe(outputEl, {childList: true});\n",
              "}}\n",
              "\n",
              "                        })                };                            </script>        </div>\n",
              "</body>\n",
              "</html>"
            ]
          },
          "metadata": {}
        }
      ]
    },
    {
      "cell_type": "code",
      "source": [
        "fig2 = px.histogram(da, x='Product_line', y='Total', histfunc='sum', height=300,text_auto=True,hover_data = da.columns,color='Payment',\n",
        "                    title='Histogram Distribution of sales in Amman')\n",
        "fig2.show()"
      ],
      "metadata": {
        "colab": {
          "base_uri": "https://localhost:8080/",
          "height": 317
        },
        "id": "WaE6k5pJ5tQw",
        "outputId": "fe588269-6a55-4e8b-84f0-3dc47f4298b1"
      },
      "execution_count": null,
      "outputs": [
        {
          "output_type": "display_data",
          "data": {
            "text/html": [
              "<html>\n",
              "<head><meta charset=\"utf-8\" /></head>\n",
              "<body>\n",
              "    <div>            <script src=\"https://cdnjs.cloudflare.com/ajax/libs/mathjax/2.7.5/MathJax.js?config=TeX-AMS-MML_SVG\"></script><script type=\"text/javascript\">if (window.MathJax) {MathJax.Hub.Config({SVG: {font: \"STIX-Web\"}});}</script>                <script type=\"text/javascript\">window.PlotlyConfig = {MathJaxConfig: 'local'};</script>\n",
              "        <script src=\"https://cdn.plot.ly/plotly-2.8.3.min.js\"></script>                <div id=\"0cf23143-bd7f-460e-ab4e-06f08835f9a7\" class=\"plotly-graph-div\" style=\"height:300px; width:100%;\"></div>            <script type=\"text/javascript\">                                    window.PLOTLYENV=window.PLOTLYENV || {};                                    if (document.getElementById(\"0cf23143-bd7f-460e-ab4e-06f08835f9a7\")) {                    Plotly.newPlot(                        \"0cf23143-bd7f-460e-ab4e-06f08835f9a7\",                        [{\"alignmentgroup\":\"True\",\"bingroup\":\"x\",\"histfunc\":\"sum\",\"hovertemplate\":\"Payment=Ewallet<br>Product_line=%{x}<br>sum of Total=%{y}<extra></extra>\",\"legendgroup\":\"Ewallet\",\"marker\":{\"color\":\"#636efa\",\"pattern\":{\"shape\":\"\"}},\"name\":\"Ewallet\",\"offsetgroup\":\"Ewallet\",\"orientation\":\"v\",\"showlegend\":true,\"texttemplate\":\"%{value}\",\"x\":[\"Health and beauty\",\"Health and beauty\",\"Sports and travel\",\"Electronic accessories\",\"Electronic accessories\",\"Food and beverages\",\"Electronic accessories\",\"Sports and travel\",\"Sports and travel\",\"Electronic accessories\",\"Health and beauty\",\"Home and lifestyle\",\"Sports and travel\",\"Electronic accessories\",\"Food and beverages\",\"Electronic accessories\",\"Home and lifestyle\",\"Food and beverages\",\"Sports and travel\",\"Home and lifestyle\",\"Fashion accessories\",\"Health and beauty\",\"Home and lifestyle\",\"Food and beverages\",\"Sports and travel\",\"Home and lifestyle\",\"Home and lifestyle\",\"Health and beauty\",\"Electronic accessories\",\"Home and lifestyle\",\"Health and beauty\",\"Sports and travel\",\"Fashion accessories\",\"Fashion accessories\",\"Home and lifestyle\",\"Electronic accessories\",\"Electronic accessories\",\"Home and lifestyle\",\"Health and beauty\",\"Home and lifestyle\",\"Electronic accessories\",\"Electronic accessories\",\"Health and beauty\",\"Fashion accessories\",\"Fashion accessories\",\"Fashion accessories\",\"Food and beverages\",\"Electronic accessories\",\"Health and beauty\",\"Health and beauty\",\"Food and beverages\",\"Home and lifestyle\",\"Sports and travel\",\"Home and lifestyle\",\"Home and lifestyle\",\"Electronic accessories\",\"Food and beverages\",\"Health and beauty\",\"Electronic accessories\",\"Sports and travel\",\"Fashion accessories\",\"Electronic accessories\",\"Home and lifestyle\",\"Fashion accessories\",\"Home and lifestyle\",\"Sports and travel\",\"Health and beauty\",\"Home and lifestyle\",\"Home and lifestyle\",\"Home and lifestyle\",\"Fashion accessories\",\"Food and beverages\",\"Home and lifestyle\",\"Electronic accessories\",\"Food and beverages\",\"Sports and travel\",\"Sports and travel\",\"Home and lifestyle\",\"Fashion accessories\",\"Fashion accessories\",\"Food and beverages\",\"Sports and travel\",\"Sports and travel\",\"Home and lifestyle\",\"Electronic accessories\",\"Home and lifestyle\",\"Fashion accessories\",\"Fashion accessories\",\"Fashion accessories\",\"Food and beverages\",\"Fashion accessories\",\"Sports and travel\",\"Sports and travel\",\"Fashion accessories\",\"Health and beauty\",\"Fashion accessories\",\"Sports and travel\",\"Home and lifestyle\",\"Electronic accessories\",\"Food and beverages\",\"Food and beverages\",\"Fashion accessories\",\"Health and beauty\",\"Sports and travel\",\"Sports and travel\",\"Food and beverages\",\"Health and beauty\",\"Fashion accessories\",\"Electronic accessories\",\"Fashion accessories\",\"Health and beauty\",\"Sports and travel\",\"Sports and travel\",\"Home and lifestyle\",\"Food and beverages\",\"Electronic accessories\",\"Sports and travel\",\"Food and beverages\",\"Food and beverages\",\"Fashion accessories\",\"Food and beverages\",\"Food and beverages\",\"Home and lifestyle\",\"Home and lifestyle\",\"Sports and travel\",\"Electronic accessories\"],\"xaxis\":\"x\",\"y\":[548.9715,489.048,634.3785,433.692,246.4875,453.495,181.44,279.1845,328.755,575.316,752.64,705.6315,161.553,102.018,166.1625,931.035,548.7615,115.08,609.0,491.085,316.47,367.5525,319.788,465.444,162.75,77.7735,26.5545,217.6335,247.8735,532.728,545.37,195.594,94.1745,94.185,163.233,135.45,709.317,373.17,628.929,493.794,530.67,83.412,96.138,721.98,736.4385,507.675,214.935,80.661,83.727,406.875,284.9175,237.426,81.396,427.812,951.825,147.798,333.9525,26.25,40.53,194.985,156.03,203.112,225.2775,398.958,72.933,479.9025,160.209,148.68,102.837,96.642,308.91,262.458,228.123,469.413,74.4555,226.065,236.88,147.672,394.3275,32.1405,708.225,365.904,127.827,167.895,246.6765,182.952,277.6725,204.246,588.42,305.55,45.108,113.568,80.955,525.231,176.4,20.685,150.423,79.149,182.91,197.925,232.638,536.592,56.1225,397.992,432.9885,284.592,95.865,202.335,76.923,206.808,503.7375,26.796,271.278,216.846,92.295,771.435,807.66,331.128,167.034,431.256,781.62,279.384,479.64,314.685,921.186,121.863],\"yaxis\":\"y\",\"type\":\"histogram\"},{\"alignmentgroup\":\"True\",\"bingroup\":\"x\",\"histfunc\":\"sum\",\"hovertemplate\":\"Payment=Credit card<br>Product_line=%{x}<br>sum of Total=%{y}<extra></extra>\",\"legendgroup\":\"Credit card\",\"marker\":{\"color\":\"#EF553B\",\"pattern\":{\"shape\":\"\"}},\"name\":\"Credit card\",\"offsetgroup\":\"Credit card\",\"orientation\":\"v\",\"showlegend\":true,\"texttemplate\":\"%{value}\",\"x\":[\"Home and lifestyle\",\"Health and beauty\",\"Health and beauty\",\"Sports and travel\",\"Food and beverages\",\"Home and lifestyle\",\"Fashion accessories\",\"Health and beauty\",\"Sports and travel\",\"Fashion accessories\",\"Food and beverages\",\"Electronic accessories\",\"Home and lifestyle\",\"Electronic accessories\",\"Health and beauty\",\"Fashion accessories\",\"Food and beverages\",\"Food and beverages\",\"Fashion accessories\",\"Sports and travel\",\"Food and beverages\",\"Sports and travel\",\"Electronic accessories\",\"Home and lifestyle\",\"Food and beverages\",\"Health and beauty\",\"Electronic accessories\",\"Electronic accessories\",\"Sports and travel\",\"Home and lifestyle\",\"Home and lifestyle\",\"Sports and travel\",\"Home and lifestyle\",\"Electronic accessories\",\"Food and beverages\",\"Home and lifestyle\",\"Food and beverages\",\"Food and beverages\",\"Electronic accessories\",\"Food and beverages\",\"Electronic accessories\",\"Home and lifestyle\",\"Sports and travel\",\"Health and beauty\",\"Sports and travel\",\"Sports and travel\",\"Food and beverages\",\"Home and lifestyle\",\"Home and lifestyle\",\"Food and beverages\",\"Fashion accessories\",\"Health and beauty\",\"Sports and travel\",\"Fashion accessories\",\"Home and lifestyle\",\"Food and beverages\",\"Fashion accessories\",\"Fashion accessories\",\"Sports and travel\",\"Food and beverages\",\"Sports and travel\",\"Health and beauty\",\"Food and beverages\",\"Electronic accessories\",\"Food and beverages\",\"Food and beverages\",\"Fashion accessories\",\"Sports and travel\",\"Food and beverages\",\"Health and beauty\",\"Electronic accessories\",\"Fashion accessories\",\"Electronic accessories\",\"Electronic accessories\",\"Health and beauty\",\"Electronic accessories\",\"Fashion accessories\",\"Fashion accessories\",\"Food and beverages\",\"Fashion accessories\",\"Health and beauty\",\"Fashion accessories\",\"Electronic accessories\",\"Fashion accessories\",\"Electronic accessories\",\"Electronic accessories\",\"Sports and travel\",\"Electronic accessories\",\"Home and lifestyle\",\"Sports and travel\",\"Fashion accessories\",\"Electronic accessories\",\"Sports and travel\",\"Electronic accessories\",\"Food and beverages\",\"Home and lifestyle\",\"Electronic accessories\",\"Health and beauty\",\"Health and beauty\",\"Health and beauty\",\"Electronic accessories\",\"Fashion accessories\",\"Home and lifestyle\",\"Food and beverages\"],\"xaxis\":\"x\",\"y\":[340.5255,76.146,506.6355,457.443,172.2105,441.756,184.107,202.818,166.005,189.0945,362.943,836.304,688.6215,138.1275,272.664,786.618,484.5225,336.5565,1039.29,510.972,186.228,90.699,171.7275,19.194,235.683,125.517,326.424,69.6675,723.24,297.108,203.553,462.21,587.664,214.998,74.7075,135.576,103.635,49.308,149.3625,680.064,203.175,352.2225,345.786,339.36,548.73,282.492,72.3975,214.137,843.0345,269.535,452.865,205.317,174.615,206.43,235.872,514.773,728.112,306.81,575.9775,852.705,451.0275,217.182,164.43,30.408,620.739,225.792,12.6945,673.995,175.917,212.7825,49.4235,58.2225,477.54,657.531,187.32,37.611,142.947,93.744,143.22,817.236,233.1,32.151,548.163,48.7305,680.61,97.881,195.678,422.73,100.128,92.442,130.032,779.31,82.887,295.407,182.427,97.818,756.168,145.5825,374.409,266.6475,690.018,16.275,255.1815,296.94],\"yaxis\":\"y\",\"type\":\"histogram\"},{\"alignmentgroup\":\"True\",\"bingroup\":\"x\",\"histfunc\":\"sum\",\"hovertemplate\":\"Payment=Cash<br>Product_line=%{x}<br>sum of Total=%{y}<extra></extra>\",\"legendgroup\":\"Cash\",\"marker\":{\"color\":\"#00cc96\",\"pattern\":{\"shape\":\"\"}},\"name\":\"Cash\",\"offsetgroup\":\"Cash\",\"orientation\":\"v\",\"showlegend\":true,\"texttemplate\":\"%{value}\",\"x\":[\"Health and beauty\",\"Health and beauty\",\"Food and beverages\",\"Home and lifestyle\",\"Home and lifestyle\",\"Health and beauty\",\"Sports and travel\",\"Health and beauty\",\"Sports and travel\",\"Food and beverages\",\"Sports and travel\",\"Sports and travel\",\"Sports and travel\",\"Home and lifestyle\",\"Sports and travel\",\"Food and beverages\",\"Electronic accessories\",\"Food and beverages\",\"Home and lifestyle\",\"Home and lifestyle\",\"Home and lifestyle\",\"Home and lifestyle\",\"Sports and travel\",\"Home and lifestyle\",\"Sports and travel\",\"Health and beauty\",\"Home and lifestyle\",\"Electronic accessories\",\"Food and beverages\",\"Home and lifestyle\",\"Sports and travel\",\"Home and lifestyle\",\"Fashion accessories\",\"Health and beauty\",\"Fashion accessories\",\"Food and beverages\",\"Electronic accessories\",\"Fashion accessories\",\"Sports and travel\",\"Electronic accessories\",\"Electronic accessories\",\"Electronic accessories\",\"Home and lifestyle\",\"Home and lifestyle\",\"Health and beauty\",\"Electronic accessories\",\"Health and beauty\",\"Sports and travel\",\"Electronic accessories\",\"Sports and travel\",\"Electronic accessories\",\"Sports and travel\",\"Electronic accessories\",\"Sports and travel\",\"Electronic accessories\",\"Electronic accessories\",\"Fashion accessories\",\"Health and beauty\",\"Health and beauty\",\"Food and beverages\",\"Health and beauty\",\"Sports and travel\",\"Food and beverages\",\"Home and lifestyle\",\"Sports and travel\",\"Food and beverages\",\"Home and lifestyle\",\"Food and beverages\",\"Health and beauty\",\"Home and lifestyle\",\"Food and beverages\",\"Home and lifestyle\",\"Home and lifestyle\",\"Home and lifestyle\",\"Sports and travel\",\"Fashion accessories\",\"Home and lifestyle\",\"Electronic accessories\",\"Electronic accessories\",\"Electronic accessories\",\"Health and beauty\",\"Electronic accessories\",\"Fashion accessories\",\"Fashion accessories\",\"Fashion accessories\",\"Fashion accessories\",\"Fashion accessories\",\"Home and lifestyle\",\"Food and beverages\",\"Electronic accessories\",\"Sports and travel\",\"Food and beverages\",\"Sports and travel\",\"Food and beverages\",\"Home and lifestyle\",\"Food and beverages\",\"Fashion accessories\",\"Sports and travel\",\"Health and beauty\",\"Health and beauty\",\"Fashion accessories\",\"Food and beverages\",\"Electronic accessories\",\"Health and beauty\",\"Home and lifestyle\",\"Food and beverages\",\"Health and beauty\",\"Food and beverages\",\"Home and lifestyle\",\"Fashion accessories\"],\"xaxis\":\"x\",\"y\":[749.49,235.2105,234.0975,93.114,759.675,166.635,827.085,19.2465,44.5935,367.038,391.419,169.3125,580.419,216.846,66.8745,323.064,298.116,90.825,263.13,399.756,99.75,494.76,233.52,25.263,16.107,200.214,697.368,65.604,76.356,252.042,295.6905,745.836,172.011,146.9475,324.2925,523.845,152.712,404.355,140.6475,75.5475,191.247,379.9215,461.286,276.948,110.0925,185.367,390.7995,140.385,87.234,168.21,338.31,432.768,731.6925,926.9505,416.178,142.002,621.243,269.934,326.256,164.871,76.755,47.859,96.1905,764.19,146.6325,308.574,667.38,211.365,510.615,458.6925,507.906,887.922,608.076,72.009,257.145,462.672,325.374,210.966,99.9075,408.408,216.4365,88.704,54.999,163.611,22.386,624.33,77.805,118.902,450.1035,250.7085,561.078,175.014,335.013,84.7455,782.208,313.74,397.614,469.77,290.0835,74.088,312.8895,932.337,43.869,49.77,252.252,313.572,244.23,33.432,69.111,649.299],\"yaxis\":\"y\",\"type\":\"histogram\"}],                        {\"template\":{\"data\":{\"bar\":[{\"error_x\":{\"color\":\"#2a3f5f\"},\"error_y\":{\"color\":\"#2a3f5f\"},\"marker\":{\"line\":{\"color\":\"#E5ECF6\",\"width\":0.5},\"pattern\":{\"fillmode\":\"overlay\",\"size\":10,\"solidity\":0.2}},\"type\":\"bar\"}],\"barpolar\":[{\"marker\":{\"line\":{\"color\":\"#E5ECF6\",\"width\":0.5},\"pattern\":{\"fillmode\":\"overlay\",\"size\":10,\"solidity\":0.2}},\"type\":\"barpolar\"}],\"carpet\":[{\"aaxis\":{\"endlinecolor\":\"#2a3f5f\",\"gridcolor\":\"white\",\"linecolor\":\"white\",\"minorgridcolor\":\"white\",\"startlinecolor\":\"#2a3f5f\"},\"baxis\":{\"endlinecolor\":\"#2a3f5f\",\"gridcolor\":\"white\",\"linecolor\":\"white\",\"minorgridcolor\":\"white\",\"startlinecolor\":\"#2a3f5f\"},\"type\":\"carpet\"}],\"choropleth\":[{\"colorbar\":{\"outlinewidth\":0,\"ticks\":\"\"},\"type\":\"choropleth\"}],\"contour\":[{\"colorbar\":{\"outlinewidth\":0,\"ticks\":\"\"},\"colorscale\":[[0.0,\"#0d0887\"],[0.1111111111111111,\"#46039f\"],[0.2222222222222222,\"#7201a8\"],[0.3333333333333333,\"#9c179e\"],[0.4444444444444444,\"#bd3786\"],[0.5555555555555556,\"#d8576b\"],[0.6666666666666666,\"#ed7953\"],[0.7777777777777778,\"#fb9f3a\"],[0.8888888888888888,\"#fdca26\"],[1.0,\"#f0f921\"]],\"type\":\"contour\"}],\"contourcarpet\":[{\"colorbar\":{\"outlinewidth\":0,\"ticks\":\"\"},\"type\":\"contourcarpet\"}],\"heatmap\":[{\"colorbar\":{\"outlinewidth\":0,\"ticks\":\"\"},\"colorscale\":[[0.0,\"#0d0887\"],[0.1111111111111111,\"#46039f\"],[0.2222222222222222,\"#7201a8\"],[0.3333333333333333,\"#9c179e\"],[0.4444444444444444,\"#bd3786\"],[0.5555555555555556,\"#d8576b\"],[0.6666666666666666,\"#ed7953\"],[0.7777777777777778,\"#fb9f3a\"],[0.8888888888888888,\"#fdca26\"],[1.0,\"#f0f921\"]],\"type\":\"heatmap\"}],\"heatmapgl\":[{\"colorbar\":{\"outlinewidth\":0,\"ticks\":\"\"},\"colorscale\":[[0.0,\"#0d0887\"],[0.1111111111111111,\"#46039f\"],[0.2222222222222222,\"#7201a8\"],[0.3333333333333333,\"#9c179e\"],[0.4444444444444444,\"#bd3786\"],[0.5555555555555556,\"#d8576b\"],[0.6666666666666666,\"#ed7953\"],[0.7777777777777778,\"#fb9f3a\"],[0.8888888888888888,\"#fdca26\"],[1.0,\"#f0f921\"]],\"type\":\"heatmapgl\"}],\"histogram\":[{\"marker\":{\"pattern\":{\"fillmode\":\"overlay\",\"size\":10,\"solidity\":0.2}},\"type\":\"histogram\"}],\"histogram2d\":[{\"colorbar\":{\"outlinewidth\":0,\"ticks\":\"\"},\"colorscale\":[[0.0,\"#0d0887\"],[0.1111111111111111,\"#46039f\"],[0.2222222222222222,\"#7201a8\"],[0.3333333333333333,\"#9c179e\"],[0.4444444444444444,\"#bd3786\"],[0.5555555555555556,\"#d8576b\"],[0.6666666666666666,\"#ed7953\"],[0.7777777777777778,\"#fb9f3a\"],[0.8888888888888888,\"#fdca26\"],[1.0,\"#f0f921\"]],\"type\":\"histogram2d\"}],\"histogram2dcontour\":[{\"colorbar\":{\"outlinewidth\":0,\"ticks\":\"\"},\"colorscale\":[[0.0,\"#0d0887\"],[0.1111111111111111,\"#46039f\"],[0.2222222222222222,\"#7201a8\"],[0.3333333333333333,\"#9c179e\"],[0.4444444444444444,\"#bd3786\"],[0.5555555555555556,\"#d8576b\"],[0.6666666666666666,\"#ed7953\"],[0.7777777777777778,\"#fb9f3a\"],[0.8888888888888888,\"#fdca26\"],[1.0,\"#f0f921\"]],\"type\":\"histogram2dcontour\"}],\"mesh3d\":[{\"colorbar\":{\"outlinewidth\":0,\"ticks\":\"\"},\"type\":\"mesh3d\"}],\"parcoords\":[{\"line\":{\"colorbar\":{\"outlinewidth\":0,\"ticks\":\"\"}},\"type\":\"parcoords\"}],\"pie\":[{\"automargin\":true,\"type\":\"pie\"}],\"scatter\":[{\"marker\":{\"colorbar\":{\"outlinewidth\":0,\"ticks\":\"\"}},\"type\":\"scatter\"}],\"scatter3d\":[{\"line\":{\"colorbar\":{\"outlinewidth\":0,\"ticks\":\"\"}},\"marker\":{\"colorbar\":{\"outlinewidth\":0,\"ticks\":\"\"}},\"type\":\"scatter3d\"}],\"scattercarpet\":[{\"marker\":{\"colorbar\":{\"outlinewidth\":0,\"ticks\":\"\"}},\"type\":\"scattercarpet\"}],\"scattergeo\":[{\"marker\":{\"colorbar\":{\"outlinewidth\":0,\"ticks\":\"\"}},\"type\":\"scattergeo\"}],\"scattergl\":[{\"marker\":{\"colorbar\":{\"outlinewidth\":0,\"ticks\":\"\"}},\"type\":\"scattergl\"}],\"scattermapbox\":[{\"marker\":{\"colorbar\":{\"outlinewidth\":0,\"ticks\":\"\"}},\"type\":\"scattermapbox\"}],\"scatterpolar\":[{\"marker\":{\"colorbar\":{\"outlinewidth\":0,\"ticks\":\"\"}},\"type\":\"scatterpolar\"}],\"scatterpolargl\":[{\"marker\":{\"colorbar\":{\"outlinewidth\":0,\"ticks\":\"\"}},\"type\":\"scatterpolargl\"}],\"scatterternary\":[{\"marker\":{\"colorbar\":{\"outlinewidth\":0,\"ticks\":\"\"}},\"type\":\"scatterternary\"}],\"surface\":[{\"colorbar\":{\"outlinewidth\":0,\"ticks\":\"\"},\"colorscale\":[[0.0,\"#0d0887\"],[0.1111111111111111,\"#46039f\"],[0.2222222222222222,\"#7201a8\"],[0.3333333333333333,\"#9c179e\"],[0.4444444444444444,\"#bd3786\"],[0.5555555555555556,\"#d8576b\"],[0.6666666666666666,\"#ed7953\"],[0.7777777777777778,\"#fb9f3a\"],[0.8888888888888888,\"#fdca26\"],[1.0,\"#f0f921\"]],\"type\":\"surface\"}],\"table\":[{\"cells\":{\"fill\":{\"color\":\"#EBF0F8\"},\"line\":{\"color\":\"white\"}},\"header\":{\"fill\":{\"color\":\"#C8D4E3\"},\"line\":{\"color\":\"white\"}},\"type\":\"table\"}]},\"layout\":{\"annotationdefaults\":{\"arrowcolor\":\"#2a3f5f\",\"arrowhead\":0,\"arrowwidth\":1},\"autotypenumbers\":\"strict\",\"coloraxis\":{\"colorbar\":{\"outlinewidth\":0,\"ticks\":\"\"}},\"colorscale\":{\"diverging\":[[0,\"#8e0152\"],[0.1,\"#c51b7d\"],[0.2,\"#de77ae\"],[0.3,\"#f1b6da\"],[0.4,\"#fde0ef\"],[0.5,\"#f7f7f7\"],[0.6,\"#e6f5d0\"],[0.7,\"#b8e186\"],[0.8,\"#7fbc41\"],[0.9,\"#4d9221\"],[1,\"#276419\"]],\"sequential\":[[0.0,\"#0d0887\"],[0.1111111111111111,\"#46039f\"],[0.2222222222222222,\"#7201a8\"],[0.3333333333333333,\"#9c179e\"],[0.4444444444444444,\"#bd3786\"],[0.5555555555555556,\"#d8576b\"],[0.6666666666666666,\"#ed7953\"],[0.7777777777777778,\"#fb9f3a\"],[0.8888888888888888,\"#fdca26\"],[1.0,\"#f0f921\"]],\"sequentialminus\":[[0.0,\"#0d0887\"],[0.1111111111111111,\"#46039f\"],[0.2222222222222222,\"#7201a8\"],[0.3333333333333333,\"#9c179e\"],[0.4444444444444444,\"#bd3786\"],[0.5555555555555556,\"#d8576b\"],[0.6666666666666666,\"#ed7953\"],[0.7777777777777778,\"#fb9f3a\"],[0.8888888888888888,\"#fdca26\"],[1.0,\"#f0f921\"]]},\"colorway\":[\"#636efa\",\"#EF553B\",\"#00cc96\",\"#ab63fa\",\"#FFA15A\",\"#19d3f3\",\"#FF6692\",\"#B6E880\",\"#FF97FF\",\"#FECB52\"],\"font\":{\"color\":\"#2a3f5f\"},\"geo\":{\"bgcolor\":\"white\",\"lakecolor\":\"white\",\"landcolor\":\"#E5ECF6\",\"showlakes\":true,\"showland\":true,\"subunitcolor\":\"white\"},\"hoverlabel\":{\"align\":\"left\"},\"hovermode\":\"closest\",\"mapbox\":{\"style\":\"light\"},\"paper_bgcolor\":\"white\",\"plot_bgcolor\":\"#E5ECF6\",\"polar\":{\"angularaxis\":{\"gridcolor\":\"white\",\"linecolor\":\"white\",\"ticks\":\"\"},\"bgcolor\":\"#E5ECF6\",\"radialaxis\":{\"gridcolor\":\"white\",\"linecolor\":\"white\",\"ticks\":\"\"}},\"scene\":{\"xaxis\":{\"backgroundcolor\":\"#E5ECF6\",\"gridcolor\":\"white\",\"gridwidth\":2,\"linecolor\":\"white\",\"showbackground\":true,\"ticks\":\"\",\"zerolinecolor\":\"white\"},\"yaxis\":{\"backgroundcolor\":\"#E5ECF6\",\"gridcolor\":\"white\",\"gridwidth\":2,\"linecolor\":\"white\",\"showbackground\":true,\"ticks\":\"\",\"zerolinecolor\":\"white\"},\"zaxis\":{\"backgroundcolor\":\"#E5ECF6\",\"gridcolor\":\"white\",\"gridwidth\":2,\"linecolor\":\"white\",\"showbackground\":true,\"ticks\":\"\",\"zerolinecolor\":\"white\"}},\"shapedefaults\":{\"line\":{\"color\":\"#2a3f5f\"}},\"ternary\":{\"aaxis\":{\"gridcolor\":\"white\",\"linecolor\":\"white\",\"ticks\":\"\"},\"baxis\":{\"gridcolor\":\"white\",\"linecolor\":\"white\",\"ticks\":\"\"},\"bgcolor\":\"#E5ECF6\",\"caxis\":{\"gridcolor\":\"white\",\"linecolor\":\"white\",\"ticks\":\"\"}},\"title\":{\"x\":0.05},\"xaxis\":{\"automargin\":true,\"gridcolor\":\"white\",\"linecolor\":\"white\",\"ticks\":\"\",\"title\":{\"standoff\":15},\"zerolinecolor\":\"white\",\"zerolinewidth\":2},\"yaxis\":{\"automargin\":true,\"gridcolor\":\"white\",\"linecolor\":\"white\",\"ticks\":\"\",\"title\":{\"standoff\":15},\"zerolinecolor\":\"white\",\"zerolinewidth\":2}}},\"xaxis\":{\"anchor\":\"y\",\"domain\":[0.0,1.0],\"title\":{\"text\":\"Product_line\"}},\"yaxis\":{\"anchor\":\"x\",\"domain\":[0.0,1.0],\"title\":{\"text\":\"sum of Total\"}},\"legend\":{\"title\":{\"text\":\"Payment\"},\"tracegroupgap\":0},\"title\":{\"text\":\"Histogram Distribution of sales in Amman\"},\"barmode\":\"relative\",\"height\":300},                        {\"responsive\": true}                    ).then(function(){\n",
              "                            \n",
              "var gd = document.getElementById('0cf23143-bd7f-460e-ab4e-06f08835f9a7');\n",
              "var x = new MutationObserver(function (mutations, observer) {{\n",
              "        var display = window.getComputedStyle(gd).display;\n",
              "        if (!display || display === 'none') {{\n",
              "            console.log([gd, 'removed!']);\n",
              "            Plotly.purge(gd);\n",
              "            observer.disconnect();\n",
              "        }}\n",
              "}});\n",
              "\n",
              "// Listen for the removal of the full notebook cells\n",
              "var notebookContainer = gd.closest('#notebook-container');\n",
              "if (notebookContainer) {{\n",
              "    x.observe(notebookContainer, {childList: true});\n",
              "}}\n",
              "\n",
              "// Listen for the clearing of the current output cell\n",
              "var outputEl = gd.closest('.output');\n",
              "if (outputEl) {{\n",
              "    x.observe(outputEl, {childList: true});\n",
              "}}\n",
              "\n",
              "                        })                };                            </script>        </div>\n",
              "</body>\n",
              "</html>"
            ]
          },
          "metadata": {}
        }
      ]
    },
    {
      "cell_type": "code",
      "source": [
        "fig2 = px.histogram(dr, x='Product_line', y='Total', histfunc='avg', height=300,text_auto=True,hover_data = dr.columns,color='Payment',\n",
        "                    title='Histogram Distribution of sales in Riyadh')\n",
        "fig2.show()"
      ],
      "metadata": {
        "colab": {
          "base_uri": "https://localhost:8080/",
          "height": 317
        },
        "id": "XMk_EcyP7nWZ",
        "outputId": "12662e52-320c-4a72-8d9b-c9bc4384b6cf"
      },
      "execution_count": null,
      "outputs": [
        {
          "output_type": "display_data",
          "data": {
            "text/html": [
              "<html>\n",
              "<head><meta charset=\"utf-8\" /></head>\n",
              "<body>\n",
              "    <div>            <script src=\"https://cdnjs.cloudflare.com/ajax/libs/mathjax/2.7.5/MathJax.js?config=TeX-AMS-MML_SVG\"></script><script type=\"text/javascript\">if (window.MathJax) {MathJax.Hub.Config({SVG: {font: \"STIX-Web\"}});}</script>                <script type=\"text/javascript\">window.PlotlyConfig = {MathJaxConfig: 'local'};</script>\n",
              "        <script src=\"https://cdn.plot.ly/plotly-2.8.3.min.js\"></script>                <div id=\"2b9c77f9-81d8-403e-a23b-06256faf5403\" class=\"plotly-graph-div\" style=\"height:300px; width:100%;\"></div>            <script type=\"text/javascript\">                                    window.PLOTLYENV=window.PLOTLYENV || {};                                    if (document.getElementById(\"2b9c77f9-81d8-403e-a23b-06256faf5403\")) {                    Plotly.newPlot(                        \"2b9c77f9-81d8-403e-a23b-06256faf5403\",                        [{\"alignmentgroup\":\"True\",\"bingroup\":\"x\",\"histfunc\":\"avg\",\"hovertemplate\":\"Payment=Credit card<br>Product_line=%{x}<br>avg of Total=%{y}<extra></extra>\",\"legendgroup\":\"Credit card\",\"marker\":{\"color\":\"#636efa\",\"pattern\":{\"shape\":\"\"}},\"name\":\"Credit card\",\"offsetgroup\":\"Credit card\",\"orientation\":\"v\",\"showlegend\":true,\"texttemplate\":\"%{value}\",\"x\":[\"Food and beverages\",\"Home and lifestyle\",\"Fashion accessories\",\"Health and beauty\",\"Electronic accessories\",\"Health and beauty\",\"Sports and travel\",\"Electronic accessories\",\"Home and lifestyle\",\"Fashion accessories\",\"Food and beverages\",\"Food and beverages\",\"Electronic accessories\",\"Home and lifestyle\",\"Home and lifestyle\",\"Electronic accessories\",\"Sports and travel\",\"Food and beverages\",\"Electronic accessories\",\"Home and lifestyle\",\"Food and beverages\",\"Food and beverages\",\"Electronic accessories\",\"Health and beauty\",\"Health and beauty\",\"Food and beverages\",\"Electronic accessories\",\"Health and beauty\",\"Fashion accessories\",\"Food and beverages\",\"Fashion accessories\",\"Home and lifestyle\",\"Electronic accessories\",\"Food and beverages\",\"Health and beauty\",\"Fashion accessories\",\"Food and beverages\",\"Fashion accessories\",\"Fashion accessories\",\"Fashion accessories\",\"Sports and travel\",\"Health and beauty\",\"Health and beauty\",\"Sports and travel\",\"Food and beverages\",\"Food and beverages\",\"Sports and travel\",\"Sports and travel\",\"Food and beverages\",\"Sports and travel\",\"Electronic accessories\",\"Fashion accessories\",\"Food and beverages\",\"Fashion accessories\",\"Sports and travel\",\"Food and beverages\",\"Home and lifestyle\",\"Fashion accessories\",\"Home and lifestyle\",\"Food and beverages\",\"Fashion accessories\",\"Health and beauty\",\"Home and lifestyle\",\"Fashion accessories\",\"Food and beverages\",\"Health and beauty\",\"Fashion accessories\",\"Fashion accessories\",\"Sports and travel\",\"Sports and travel\",\"Sports and travel\",\"Home and lifestyle\",\"Sports and travel\",\"Food and beverages\",\"Fashion accessories\",\"Fashion accessories\",\"Home and lifestyle\",\"Sports and travel\",\"Fashion accessories\",\"Home and lifestyle\",\"Food and beverages\",\"Electronic accessories\",\"Food and beverages\",\"Home and lifestyle\",\"Health and beauty\",\"Health and beauty\",\"Food and beverages\",\"Sports and travel\",\"Health and beauty\",\"Sports and travel\",\"Home and lifestyle\",\"Sports and travel\",\"Sports and travel\",\"Electronic accessories\",\"Health and beauty\",\"Health and beauty\",\"Home and lifestyle\",\"Food and beverages\",\"Sports and travel\",\"Electronic accessories\",\"Food and beverages\",\"Electronic accessories\",\"Electronic accessories\",\"Food and beverages\",\"Fashion accessories\",\"Electronic accessories\",\"Food and beverages\",\"Health and beauty\",\"Health and beauty\"],\"xaxis\":\"x\",\"y\":[172.746,69.72,494.1825,535.7205,119.259,608.202,944.622,550.935,603.624,384.468,418.95,420.2625,333.207,242.676,93.2925,942.4485,146.223,180.621,33.3585,788.508,536.991,356.5485,423.15,40.9605,214.746,404.649,151.4835,141.75,402.2655,374.388,128.016,334.341,99.33,133.917,258.678,213.528,65.7405,145.068,702.219,49.812,742.812,20.1075,28.4235,41.076,731.43,767.025,77.6685,92.8725,529.515,666.939,143.9865,164.682,570.78,77.658,84.756,74.76,118.062,586.971,430.71,152.019,75.936,46.683,695.2365,874.125,251.7165,697.935,252.756,370.125,85.302,470.988,36.5505,103.11,136.143,101.808,207.585,110.124,138.978,732.27,684.915,116.1405,810.6,757.365,151.515,1022.385,97.419,403.872,247.59,441.588,681.4395,281.169,106.596,760.452,335.895,317.835,832.944,435.12,514.605,91.8225,92.7255,833.9625,69.993,80.367,181.0725,888.615,104.832,26.7225,71.1585,520.8,633.108],\"yaxis\":\"y\",\"type\":\"histogram\"},{\"alignmentgroup\":\"True\",\"bingroup\":\"x\",\"histfunc\":\"avg\",\"hovertemplate\":\"Payment=Ewallet<br>Product_line=%{x}<br>avg of Total=%{y}<extra></extra>\",\"legendgroup\":\"Ewallet\",\"marker\":{\"color\":\"#EF553B\",\"pattern\":{\"shape\":\"\"}},\"name\":\"Ewallet\",\"offsetgroup\":\"Ewallet\",\"orientation\":\"v\",\"showlegend\":true,\"texttemplate\":\"%{value}\",\"x\":[\"Fashion accessories\",\"Home and lifestyle\",\"Health and beauty\",\"Home and lifestyle\",\"Food and beverages\",\"Fashion accessories\",\"Home and lifestyle\",\"Sports and travel\",\"Fashion accessories\",\"Food and beverages\",\"Food and beverages\",\"Health and beauty\",\"Sports and travel\",\"Fashion accessories\",\"Fashion accessories\",\"Home and lifestyle\",\"Fashion accessories\",\"Sports and travel\",\"Home and lifestyle\",\"Health and beauty\",\"Sports and travel\",\"Health and beauty\",\"Food and beverages\",\"Food and beverages\",\"Home and lifestyle\",\"Fashion accessories\",\"Home and lifestyle\",\"Health and beauty\",\"Fashion accessories\",\"Home and lifestyle\",\"Fashion accessories\",\"Electronic accessories\",\"Food and beverages\",\"Health and beauty\",\"Food and beverages\",\"Sports and travel\",\"Sports and travel\",\"Health and beauty\",\"Health and beauty\",\"Sports and travel\",\"Health and beauty\",\"Electronic accessories\",\"Fashion accessories\",\"Sports and travel\",\"Health and beauty\",\"Health and beauty\",\"Sports and travel\",\"Sports and travel\",\"Home and lifestyle\",\"Fashion accessories\",\"Health and beauty\",\"Fashion accessories\",\"Health and beauty\",\"Fashion accessories\",\"Electronic accessories\",\"Home and lifestyle\",\"Fashion accessories\",\"Electronic accessories\",\"Fashion accessories\",\"Health and beauty\",\"Sports and travel\",\"Sports and travel\",\"Food and beverages\",\"Home and lifestyle\",\"Fashion accessories\",\"Food and beverages\",\"Electronic accessories\",\"Electronic accessories\",\"Sports and travel\",\"Food and beverages\",\"Health and beauty\",\"Health and beauty\",\"Sports and travel\",\"Home and lifestyle\",\"Electronic accessories\",\"Food and beverages\",\"Electronic accessories\",\"Food and beverages\",\"Electronic accessories\",\"Fashion accessories\",\"Home and lifestyle\",\"Electronic accessories\",\"Home and lifestyle\",\"Sports and travel\",\"Electronic accessories\",\"Fashion accessories\",\"Sports and travel\",\"Health and beauty\",\"Food and beverages\",\"Electronic accessories\",\"Home and lifestyle\",\"Electronic accessories\",\"Electronic accessories\",\"Food and beverages\",\"Home and lifestyle\",\"Home and lifestyle\",\"Electronic accessories\",\"Electronic accessories\",\"Sports and travel\",\"Home and lifestyle\",\"Home and lifestyle\",\"Fashion accessories\",\"Food and beverages\",\"Health and beauty\",\"Home and lifestyle\",\"Food and beverages\",\"Home and lifestyle\",\"Food and beverages\",\"Fashion accessories\",\"Health and beauty\",\"Sports and travel\",\"Fashion accessories\",\"Home and lifestyle\"],\"xaxis\":\"x\",\"y\":[60.816,84.63,277.137,91.056,189.0945,75.054,33.936,520.4115,614.943,152.838,304.542,922.635,34.629,115.185,53.928,112.224,474.348,853.146,263.97,918.729,588.357,357.588,166.236,56.952,793.716,154.392,107.31,271.95,95.6655,484.89,796.908,285.705,456.288,655.5465,439.8975,57.1725,354.0075,628.173,190.155,410.508,411.3795,86.625,208.6875,45.927,100.9155,120.162,360.885,207.858,734.076,72.87,212.688,209.769,288.015,125.706,240.975,163.002,180.4005,356.328,597.6285,145.971,198.639,343.413,121.569,314.055,165.123,311.1885,116.907,397.215,352.674,181.881,75.474,231.2415,145.404,261.198,180.6,98.028,557.718,56.406,769.104,93.744,384.72,300.216,801.864,401.268,830.3715,57.078,144.963,90.3,446.964,222.138,299.3655,554.295,101.64,348.705,193.074,217.2555,82.719,57.876,53.151,629.496,397.845,56.469,222.012,125.7165,68.985,263.97,271.2885,167.58,334.4775,30.996,804.3,183.645,1022.49],\"yaxis\":\"y\",\"type\":\"histogram\"},{\"alignmentgroup\":\"True\",\"bingroup\":\"x\",\"histfunc\":\"avg\",\"hovertemplate\":\"Payment=Cash<br>Product_line=%{x}<br>avg of Total=%{y}<extra></extra>\",\"legendgroup\":\"Cash\",\"marker\":{\"color\":\"#00cc96\",\"pattern\":{\"shape\":\"\"}},\"name\":\"Cash\",\"offsetgroup\":\"Cash\",\"orientation\":\"v\",\"showlegend\":true,\"texttemplate\":\"%{value}\",\"x\":[\"Electronic accessories\",\"Sports and travel\",\"Fashion accessories\",\"Food and beverages\",\"Sports and travel\",\"Sports and travel\",\"Home and lifestyle\",\"Sports and travel\",\"Electronic accessories\",\"Health and beauty\",\"Health and beauty\",\"Home and lifestyle\",\"Health and beauty\",\"Fashion accessories\",\"Fashion accessories\",\"Sports and travel\",\"Sports and travel\",\"Electronic accessories\",\"Home and lifestyle\",\"Electronic accessories\",\"Sports and travel\",\"Sports and travel\",\"Electronic accessories\",\"Fashion accessories\",\"Health and beauty\",\"Fashion accessories\",\"Electronic accessories\",\"Electronic accessories\",\"Fashion accessories\",\"Fashion accessories\",\"Food and beverages\",\"Fashion accessories\",\"Health and beauty\",\"Electronic accessories\",\"Sports and travel\",\"Home and lifestyle\",\"Sports and travel\",\"Health and beauty\",\"Home and lifestyle\",\"Sports and travel\",\"Electronic accessories\",\"Food and beverages\",\"Sports and travel\",\"Fashion accessories\",\"Home and lifestyle\",\"Electronic accessories\",\"Fashion accessories\",\"Health and beauty\",\"Fashion accessories\",\"Sports and travel\",\"Electronic accessories\",\"Electronic accessories\",\"Fashion accessories\",\"Electronic accessories\",\"Sports and travel\",\"Health and beauty\",\"Home and lifestyle\",\"Fashion accessories\",\"Sports and travel\",\"Sports and travel\",\"Sports and travel\",\"Sports and travel\",\"Health and beauty\",\"Sports and travel\",\"Fashion accessories\",\"Health and beauty\",\"Fashion accessories\",\"Electronic accessories\",\"Fashion accessories\",\"Sports and travel\",\"Food and beverages\",\"Sports and travel\",\"Home and lifestyle\",\"Fashion accessories\",\"Sports and travel\",\"Fashion accessories\",\"Food and beverages\",\"Health and beauty\",\"Food and beverages\",\"Fashion accessories\",\"Health and beauty\",\"Sports and travel\",\"Food and beverages\",\"Fashion accessories\",\"Electronic accessories\",\"Health and beauty\",\"Home and lifestyle\",\"Health and beauty\",\"Fashion accessories\",\"Home and lifestyle\",\"Sports and travel\",\"Electronic accessories\",\"Sports and travel\",\"Electronic accessories\",\"Health and beauty\",\"Health and beauty\",\"Sports and travel\",\"Electronic accessories\",\"Fashion accessories\",\"Food and beverages\",\"Health and beauty\",\"Home and lifestyle\",\"Electronic accessories\",\"Electronic accessories\",\"Electronic accessories\",\"Electronic accessories\",\"Home and lifestyle\",\"Home and lifestyle\",\"Electronic accessories\",\"Electronic accessories\"],\"xaxis\":\"x\",\"y\":[107.142,590.436,35.196,463.89,737.7615,703.752,253.008,435.456,394.632,318.108,485.037,521.01,223.0725,535.374,291.207,146.328,545.055,75.7785,195.174,241.458,217.6335,130.0425,571.41,170.877,794.6505,310.044,69.405,256.41,137.004,160.86,783.3,352.5795,350.07,125.664,503.559,208.089,365.085,565.215,255.15,78.7185,193.011,523.3725,79.611,398.475,128.4255,181.818,288.582,359.205,383.7645,353.1675,470.673,138.663,155.19,833.595,233.226,609.588,633.99,431.445,637.728,103.0365,195.951,152.775,321.7725,270.585,513.2295,550.368,151.284,203.931,208.425,280.035,253.26,304.92,133.35,293.643,457.38,95.9175,165.648,867.09,92.5575,35.3115,351.603,135.3555,196.14,175.917,41.454,760.4415,835.2855,527.5095,187.866,383.523,86.247,401.688,98.049,714.3255,18.6375,262.794,99.54,63.315,345.0195,177.408,362.817,375.3645,225.015,41.7375,486.444,148.995,103.131,415.233,289.926,640.038],\"yaxis\":\"y\",\"type\":\"histogram\"}],                        {\"template\":{\"data\":{\"bar\":[{\"error_x\":{\"color\":\"#2a3f5f\"},\"error_y\":{\"color\":\"#2a3f5f\"},\"marker\":{\"line\":{\"color\":\"#E5ECF6\",\"width\":0.5},\"pattern\":{\"fillmode\":\"overlay\",\"size\":10,\"solidity\":0.2}},\"type\":\"bar\"}],\"barpolar\":[{\"marker\":{\"line\":{\"color\":\"#E5ECF6\",\"width\":0.5},\"pattern\":{\"fillmode\":\"overlay\",\"size\":10,\"solidity\":0.2}},\"type\":\"barpolar\"}],\"carpet\":[{\"aaxis\":{\"endlinecolor\":\"#2a3f5f\",\"gridcolor\":\"white\",\"linecolor\":\"white\",\"minorgridcolor\":\"white\",\"startlinecolor\":\"#2a3f5f\"},\"baxis\":{\"endlinecolor\":\"#2a3f5f\",\"gridcolor\":\"white\",\"linecolor\":\"white\",\"minorgridcolor\":\"white\",\"startlinecolor\":\"#2a3f5f\"},\"type\":\"carpet\"}],\"choropleth\":[{\"colorbar\":{\"outlinewidth\":0,\"ticks\":\"\"},\"type\":\"choropleth\"}],\"contour\":[{\"colorbar\":{\"outlinewidth\":0,\"ticks\":\"\"},\"colorscale\":[[0.0,\"#0d0887\"],[0.1111111111111111,\"#46039f\"],[0.2222222222222222,\"#7201a8\"],[0.3333333333333333,\"#9c179e\"],[0.4444444444444444,\"#bd3786\"],[0.5555555555555556,\"#d8576b\"],[0.6666666666666666,\"#ed7953\"],[0.7777777777777778,\"#fb9f3a\"],[0.8888888888888888,\"#fdca26\"],[1.0,\"#f0f921\"]],\"type\":\"contour\"}],\"contourcarpet\":[{\"colorbar\":{\"outlinewidth\":0,\"ticks\":\"\"},\"type\":\"contourcarpet\"}],\"heatmap\":[{\"colorbar\":{\"outlinewidth\":0,\"ticks\":\"\"},\"colorscale\":[[0.0,\"#0d0887\"],[0.1111111111111111,\"#46039f\"],[0.2222222222222222,\"#7201a8\"],[0.3333333333333333,\"#9c179e\"],[0.4444444444444444,\"#bd3786\"],[0.5555555555555556,\"#d8576b\"],[0.6666666666666666,\"#ed7953\"],[0.7777777777777778,\"#fb9f3a\"],[0.8888888888888888,\"#fdca26\"],[1.0,\"#f0f921\"]],\"type\":\"heatmap\"}],\"heatmapgl\":[{\"colorbar\":{\"outlinewidth\":0,\"ticks\":\"\"},\"colorscale\":[[0.0,\"#0d0887\"],[0.1111111111111111,\"#46039f\"],[0.2222222222222222,\"#7201a8\"],[0.3333333333333333,\"#9c179e\"],[0.4444444444444444,\"#bd3786\"],[0.5555555555555556,\"#d8576b\"],[0.6666666666666666,\"#ed7953\"],[0.7777777777777778,\"#fb9f3a\"],[0.8888888888888888,\"#fdca26\"],[1.0,\"#f0f921\"]],\"type\":\"heatmapgl\"}],\"histogram\":[{\"marker\":{\"pattern\":{\"fillmode\":\"overlay\",\"size\":10,\"solidity\":0.2}},\"type\":\"histogram\"}],\"histogram2d\":[{\"colorbar\":{\"outlinewidth\":0,\"ticks\":\"\"},\"colorscale\":[[0.0,\"#0d0887\"],[0.1111111111111111,\"#46039f\"],[0.2222222222222222,\"#7201a8\"],[0.3333333333333333,\"#9c179e\"],[0.4444444444444444,\"#bd3786\"],[0.5555555555555556,\"#d8576b\"],[0.6666666666666666,\"#ed7953\"],[0.7777777777777778,\"#fb9f3a\"],[0.8888888888888888,\"#fdca26\"],[1.0,\"#f0f921\"]],\"type\":\"histogram2d\"}],\"histogram2dcontour\":[{\"colorbar\":{\"outlinewidth\":0,\"ticks\":\"\"},\"colorscale\":[[0.0,\"#0d0887\"],[0.1111111111111111,\"#46039f\"],[0.2222222222222222,\"#7201a8\"],[0.3333333333333333,\"#9c179e\"],[0.4444444444444444,\"#bd3786\"],[0.5555555555555556,\"#d8576b\"],[0.6666666666666666,\"#ed7953\"],[0.7777777777777778,\"#fb9f3a\"],[0.8888888888888888,\"#fdca26\"],[1.0,\"#f0f921\"]],\"type\":\"histogram2dcontour\"}],\"mesh3d\":[{\"colorbar\":{\"outlinewidth\":0,\"ticks\":\"\"},\"type\":\"mesh3d\"}],\"parcoords\":[{\"line\":{\"colorbar\":{\"outlinewidth\":0,\"ticks\":\"\"}},\"type\":\"parcoords\"}],\"pie\":[{\"automargin\":true,\"type\":\"pie\"}],\"scatter\":[{\"marker\":{\"colorbar\":{\"outlinewidth\":0,\"ticks\":\"\"}},\"type\":\"scatter\"}],\"scatter3d\":[{\"line\":{\"colorbar\":{\"outlinewidth\":0,\"ticks\":\"\"}},\"marker\":{\"colorbar\":{\"outlinewidth\":0,\"ticks\":\"\"}},\"type\":\"scatter3d\"}],\"scattercarpet\":[{\"marker\":{\"colorbar\":{\"outlinewidth\":0,\"ticks\":\"\"}},\"type\":\"scattercarpet\"}],\"scattergeo\":[{\"marker\":{\"colorbar\":{\"outlinewidth\":0,\"ticks\":\"\"}},\"type\":\"scattergeo\"}],\"scattergl\":[{\"marker\":{\"colorbar\":{\"outlinewidth\":0,\"ticks\":\"\"}},\"type\":\"scattergl\"}],\"scattermapbox\":[{\"marker\":{\"colorbar\":{\"outlinewidth\":0,\"ticks\":\"\"}},\"type\":\"scattermapbox\"}],\"scatterpolar\":[{\"marker\":{\"colorbar\":{\"outlinewidth\":0,\"ticks\":\"\"}},\"type\":\"scatterpolar\"}],\"scatterpolargl\":[{\"marker\":{\"colorbar\":{\"outlinewidth\":0,\"ticks\":\"\"}},\"type\":\"scatterpolargl\"}],\"scatterternary\":[{\"marker\":{\"colorbar\":{\"outlinewidth\":0,\"ticks\":\"\"}},\"type\":\"scatterternary\"}],\"surface\":[{\"colorbar\":{\"outlinewidth\":0,\"ticks\":\"\"},\"colorscale\":[[0.0,\"#0d0887\"],[0.1111111111111111,\"#46039f\"],[0.2222222222222222,\"#7201a8\"],[0.3333333333333333,\"#9c179e\"],[0.4444444444444444,\"#bd3786\"],[0.5555555555555556,\"#d8576b\"],[0.6666666666666666,\"#ed7953\"],[0.7777777777777778,\"#fb9f3a\"],[0.8888888888888888,\"#fdca26\"],[1.0,\"#f0f921\"]],\"type\":\"surface\"}],\"table\":[{\"cells\":{\"fill\":{\"color\":\"#EBF0F8\"},\"line\":{\"color\":\"white\"}},\"header\":{\"fill\":{\"color\":\"#C8D4E3\"},\"line\":{\"color\":\"white\"}},\"type\":\"table\"}]},\"layout\":{\"annotationdefaults\":{\"arrowcolor\":\"#2a3f5f\",\"arrowhead\":0,\"arrowwidth\":1},\"autotypenumbers\":\"strict\",\"coloraxis\":{\"colorbar\":{\"outlinewidth\":0,\"ticks\":\"\"}},\"colorscale\":{\"diverging\":[[0,\"#8e0152\"],[0.1,\"#c51b7d\"],[0.2,\"#de77ae\"],[0.3,\"#f1b6da\"],[0.4,\"#fde0ef\"],[0.5,\"#f7f7f7\"],[0.6,\"#e6f5d0\"],[0.7,\"#b8e186\"],[0.8,\"#7fbc41\"],[0.9,\"#4d9221\"],[1,\"#276419\"]],\"sequential\":[[0.0,\"#0d0887\"],[0.1111111111111111,\"#46039f\"],[0.2222222222222222,\"#7201a8\"],[0.3333333333333333,\"#9c179e\"],[0.4444444444444444,\"#bd3786\"],[0.5555555555555556,\"#d8576b\"],[0.6666666666666666,\"#ed7953\"],[0.7777777777777778,\"#fb9f3a\"],[0.8888888888888888,\"#fdca26\"],[1.0,\"#f0f921\"]],\"sequentialminus\":[[0.0,\"#0d0887\"],[0.1111111111111111,\"#46039f\"],[0.2222222222222222,\"#7201a8\"],[0.3333333333333333,\"#9c179e\"],[0.4444444444444444,\"#bd3786\"],[0.5555555555555556,\"#d8576b\"],[0.6666666666666666,\"#ed7953\"],[0.7777777777777778,\"#fb9f3a\"],[0.8888888888888888,\"#fdca26\"],[1.0,\"#f0f921\"]]},\"colorway\":[\"#636efa\",\"#EF553B\",\"#00cc96\",\"#ab63fa\",\"#FFA15A\",\"#19d3f3\",\"#FF6692\",\"#B6E880\",\"#FF97FF\",\"#FECB52\"],\"font\":{\"color\":\"#2a3f5f\"},\"geo\":{\"bgcolor\":\"white\",\"lakecolor\":\"white\",\"landcolor\":\"#E5ECF6\",\"showlakes\":true,\"showland\":true,\"subunitcolor\":\"white\"},\"hoverlabel\":{\"align\":\"left\"},\"hovermode\":\"closest\",\"mapbox\":{\"style\":\"light\"},\"paper_bgcolor\":\"white\",\"plot_bgcolor\":\"#E5ECF6\",\"polar\":{\"angularaxis\":{\"gridcolor\":\"white\",\"linecolor\":\"white\",\"ticks\":\"\"},\"bgcolor\":\"#E5ECF6\",\"radialaxis\":{\"gridcolor\":\"white\",\"linecolor\":\"white\",\"ticks\":\"\"}},\"scene\":{\"xaxis\":{\"backgroundcolor\":\"#E5ECF6\",\"gridcolor\":\"white\",\"gridwidth\":2,\"linecolor\":\"white\",\"showbackground\":true,\"ticks\":\"\",\"zerolinecolor\":\"white\"},\"yaxis\":{\"backgroundcolor\":\"#E5ECF6\",\"gridcolor\":\"white\",\"gridwidth\":2,\"linecolor\":\"white\",\"showbackground\":true,\"ticks\":\"\",\"zerolinecolor\":\"white\"},\"zaxis\":{\"backgroundcolor\":\"#E5ECF6\",\"gridcolor\":\"white\",\"gridwidth\":2,\"linecolor\":\"white\",\"showbackground\":true,\"ticks\":\"\",\"zerolinecolor\":\"white\"}},\"shapedefaults\":{\"line\":{\"color\":\"#2a3f5f\"}},\"ternary\":{\"aaxis\":{\"gridcolor\":\"white\",\"linecolor\":\"white\",\"ticks\":\"\"},\"baxis\":{\"gridcolor\":\"white\",\"linecolor\":\"white\",\"ticks\":\"\"},\"bgcolor\":\"#E5ECF6\",\"caxis\":{\"gridcolor\":\"white\",\"linecolor\":\"white\",\"ticks\":\"\"}},\"title\":{\"x\":0.05},\"xaxis\":{\"automargin\":true,\"gridcolor\":\"white\",\"linecolor\":\"white\",\"ticks\":\"\",\"title\":{\"standoff\":15},\"zerolinecolor\":\"white\",\"zerolinewidth\":2},\"yaxis\":{\"automargin\":true,\"gridcolor\":\"white\",\"linecolor\":\"white\",\"ticks\":\"\",\"title\":{\"standoff\":15},\"zerolinecolor\":\"white\",\"zerolinewidth\":2}}},\"xaxis\":{\"anchor\":\"y\",\"domain\":[0.0,1.0],\"title\":{\"text\":\"Product_line\"}},\"yaxis\":{\"anchor\":\"x\",\"domain\":[0.0,1.0],\"title\":{\"text\":\"avg of Total\"}},\"legend\":{\"title\":{\"text\":\"Payment\"},\"tracegroupgap\":0},\"title\":{\"text\":\"Histogram Distribution of sales in Riyadh\"},\"barmode\":\"relative\",\"height\":300},                        {\"responsive\": true}                    ).then(function(){\n",
              "                            \n",
              "var gd = document.getElementById('2b9c77f9-81d8-403e-a23b-06256faf5403');\n",
              "var x = new MutationObserver(function (mutations, observer) {{\n",
              "        var display = window.getComputedStyle(gd).display;\n",
              "        if (!display || display === 'none') {{\n",
              "            console.log([gd, 'removed!']);\n",
              "            Plotly.purge(gd);\n",
              "            observer.disconnect();\n",
              "        }}\n",
              "}});\n",
              "\n",
              "// Listen for the removal of the full notebook cells\n",
              "var notebookContainer = gd.closest('#notebook-container');\n",
              "if (notebookContainer) {{\n",
              "    x.observe(notebookContainer, {childList: true});\n",
              "}}\n",
              "\n",
              "// Listen for the clearing of the current output cell\n",
              "var outputEl = gd.closest('.output');\n",
              "if (outputEl) {{\n",
              "    x.observe(outputEl, {childList: true});\n",
              "}}\n",
              "\n",
              "                        })                };                            </script>        </div>\n",
              "</body>\n",
              "</html>"
            ]
          },
          "metadata": {}
        }
      ]
    },
    {
      "cell_type": "code",
      "source": [
        "dr.head()"
      ],
      "metadata": {
        "colab": {
          "base_uri": "https://localhost:8080/",
          "height": 374
        },
        "id": "9tYhlb1D89wx",
        "outputId": "eab40ec7-b4b5-45bc-8652-8e2768c4bf41"
      },
      "execution_count": null,
      "outputs": [
        {
          "output_type": "execute_result",
          "data": {
            "text/plain": [
              "     Invoice ID Branch    City Customer_type  Gender            Product_line  \\\n",
              "9   692-92-5582      B  Riyadh        Member  Female      Food and beverages   \n",
              "10  351-62-0822      B  Riyadh        Member  Female     Fashion accessories   \n",
              "11  529-56-3974      B  Riyadh        Member    Male  Electronic accessories   \n",
              "15  299-46-1805      B  Riyadh        Member  Female       Sports and travel   \n",
              "19  319-50-3348      B  Riyadh        Normal  Female      Home and lifestyle   \n",
              "\n",
              "    Unit_price  Quantity  Tax 5%    Total       Date   Time      Payment  \\\n",
              "9        54.84         3   8.226  172.746  2/20/2019  13:27  Credit card   \n",
              "10       14.48         4   2.896   60.816   2/6/2019  18:07      Ewallet   \n",
              "11       25.51         4   5.102  107.142   3/9/2019  17:03         Cash   \n",
              "15       93.72         6  28.116  590.436  1/15/2019  16:19         Cash   \n",
              "19       40.30         2   4.030   84.630  3/11/2019  15:30      Ewallet   \n",
              "\n",
              "      cogs  gross_margin_percentage  gross_income  Rating  hour  \n",
              "9   164.52                 4.761905         8.226     5.9    13  \n",
              "10   57.92                 4.761905         2.896     4.5    18  \n",
              "11  102.04                 4.761905         5.102     6.8    17  \n",
              "15  562.32                 4.761905        28.116     4.5    16  \n",
              "19   80.60                 4.761905         4.030     4.4    15  "
            ],
            "text/html": [
              "\n",
              "  <div id=\"df-80edb0e5-0288-45b6-9e15-067fa408c257\">\n",
              "    <div class=\"colab-df-container\">\n",
              "      <div>\n",
              "<style scoped>\n",
              "    .dataframe tbody tr th:only-of-type {\n",
              "        vertical-align: middle;\n",
              "    }\n",
              "\n",
              "    .dataframe tbody tr th {\n",
              "        vertical-align: top;\n",
              "    }\n",
              "\n",
              "    .dataframe thead th {\n",
              "        text-align: right;\n",
              "    }\n",
              "</style>\n",
              "<table border=\"1\" class=\"dataframe\">\n",
              "  <thead>\n",
              "    <tr style=\"text-align: right;\">\n",
              "      <th></th>\n",
              "      <th>Invoice ID</th>\n",
              "      <th>Branch</th>\n",
              "      <th>City</th>\n",
              "      <th>Customer_type</th>\n",
              "      <th>Gender</th>\n",
              "      <th>Product_line</th>\n",
              "      <th>Unit_price</th>\n",
              "      <th>Quantity</th>\n",
              "      <th>Tax 5%</th>\n",
              "      <th>Total</th>\n",
              "      <th>Date</th>\n",
              "      <th>Time</th>\n",
              "      <th>Payment</th>\n",
              "      <th>cogs</th>\n",
              "      <th>gross_margin_percentage</th>\n",
              "      <th>gross_income</th>\n",
              "      <th>Rating</th>\n",
              "      <th>hour</th>\n",
              "    </tr>\n",
              "  </thead>\n",
              "  <tbody>\n",
              "    <tr>\n",
              "      <th>9</th>\n",
              "      <td>692-92-5582</td>\n",
              "      <td>B</td>\n",
              "      <td>Riyadh</td>\n",
              "      <td>Member</td>\n",
              "      <td>Female</td>\n",
              "      <td>Food and beverages</td>\n",
              "      <td>54.84</td>\n",
              "      <td>3</td>\n",
              "      <td>8.226</td>\n",
              "      <td>172.746</td>\n",
              "      <td>2/20/2019</td>\n",
              "      <td>13:27</td>\n",
              "      <td>Credit card</td>\n",
              "      <td>164.52</td>\n",
              "      <td>4.761905</td>\n",
              "      <td>8.226</td>\n",
              "      <td>5.9</td>\n",
              "      <td>13</td>\n",
              "    </tr>\n",
              "    <tr>\n",
              "      <th>10</th>\n",
              "      <td>351-62-0822</td>\n",
              "      <td>B</td>\n",
              "      <td>Riyadh</td>\n",
              "      <td>Member</td>\n",
              "      <td>Female</td>\n",
              "      <td>Fashion accessories</td>\n",
              "      <td>14.48</td>\n",
              "      <td>4</td>\n",
              "      <td>2.896</td>\n",
              "      <td>60.816</td>\n",
              "      <td>2/6/2019</td>\n",
              "      <td>18:07</td>\n",
              "      <td>Ewallet</td>\n",
              "      <td>57.92</td>\n",
              "      <td>4.761905</td>\n",
              "      <td>2.896</td>\n",
              "      <td>4.5</td>\n",
              "      <td>18</td>\n",
              "    </tr>\n",
              "    <tr>\n",
              "      <th>11</th>\n",
              "      <td>529-56-3974</td>\n",
              "      <td>B</td>\n",
              "      <td>Riyadh</td>\n",
              "      <td>Member</td>\n",
              "      <td>Male</td>\n",
              "      <td>Electronic accessories</td>\n",
              "      <td>25.51</td>\n",
              "      <td>4</td>\n",
              "      <td>5.102</td>\n",
              "      <td>107.142</td>\n",
              "      <td>3/9/2019</td>\n",
              "      <td>17:03</td>\n",
              "      <td>Cash</td>\n",
              "      <td>102.04</td>\n",
              "      <td>4.761905</td>\n",
              "      <td>5.102</td>\n",
              "      <td>6.8</td>\n",
              "      <td>17</td>\n",
              "    </tr>\n",
              "    <tr>\n",
              "      <th>15</th>\n",
              "      <td>299-46-1805</td>\n",
              "      <td>B</td>\n",
              "      <td>Riyadh</td>\n",
              "      <td>Member</td>\n",
              "      <td>Female</td>\n",
              "      <td>Sports and travel</td>\n",
              "      <td>93.72</td>\n",
              "      <td>6</td>\n",
              "      <td>28.116</td>\n",
              "      <td>590.436</td>\n",
              "      <td>1/15/2019</td>\n",
              "      <td>16:19</td>\n",
              "      <td>Cash</td>\n",
              "      <td>562.32</td>\n",
              "      <td>4.761905</td>\n",
              "      <td>28.116</td>\n",
              "      <td>4.5</td>\n",
              "      <td>16</td>\n",
              "    </tr>\n",
              "    <tr>\n",
              "      <th>19</th>\n",
              "      <td>319-50-3348</td>\n",
              "      <td>B</td>\n",
              "      <td>Riyadh</td>\n",
              "      <td>Normal</td>\n",
              "      <td>Female</td>\n",
              "      <td>Home and lifestyle</td>\n",
              "      <td>40.30</td>\n",
              "      <td>2</td>\n",
              "      <td>4.030</td>\n",
              "      <td>84.630</td>\n",
              "      <td>3/11/2019</td>\n",
              "      <td>15:30</td>\n",
              "      <td>Ewallet</td>\n",
              "      <td>80.60</td>\n",
              "      <td>4.761905</td>\n",
              "      <td>4.030</td>\n",
              "      <td>4.4</td>\n",
              "      <td>15</td>\n",
              "    </tr>\n",
              "  </tbody>\n",
              "</table>\n",
              "</div>\n",
              "      <button class=\"colab-df-convert\" onclick=\"convertToInteractive('df-80edb0e5-0288-45b6-9e15-067fa408c257')\"\n",
              "              title=\"Convert this dataframe to an interactive table.\"\n",
              "              style=\"display:none;\">\n",
              "        \n",
              "  <svg xmlns=\"http://www.w3.org/2000/svg\" height=\"24px\"viewBox=\"0 0 24 24\"\n",
              "       width=\"24px\">\n",
              "    <path d=\"M0 0h24v24H0V0z\" fill=\"none\"/>\n",
              "    <path d=\"M18.56 5.44l.94 2.06.94-2.06 2.06-.94-2.06-.94-.94-2.06-.94 2.06-2.06.94zm-11 1L8.5 8.5l.94-2.06 2.06-.94-2.06-.94L8.5 2.5l-.94 2.06-2.06.94zm10 10l.94 2.06.94-2.06 2.06-.94-2.06-.94-.94-2.06-.94 2.06-2.06.94z\"/><path d=\"M17.41 7.96l-1.37-1.37c-.4-.4-.92-.59-1.43-.59-.52 0-1.04.2-1.43.59L10.3 9.45l-7.72 7.72c-.78.78-.78 2.05 0 2.83L4 21.41c.39.39.9.59 1.41.59.51 0 1.02-.2 1.41-.59l7.78-7.78 2.81-2.81c.8-.78.8-2.07 0-2.86zM5.41 20L4 18.59l7.72-7.72 1.47 1.35L5.41 20z\"/>\n",
              "  </svg>\n",
              "      </button>\n",
              "      \n",
              "  <style>\n",
              "    .colab-df-container {\n",
              "      display:flex;\n",
              "      flex-wrap:wrap;\n",
              "      gap: 12px;\n",
              "    }\n",
              "\n",
              "    .colab-df-convert {\n",
              "      background-color: #E8F0FE;\n",
              "      border: none;\n",
              "      border-radius: 50%;\n",
              "      cursor: pointer;\n",
              "      display: none;\n",
              "      fill: #1967D2;\n",
              "      height: 32px;\n",
              "      padding: 0 0 0 0;\n",
              "      width: 32px;\n",
              "    }\n",
              "\n",
              "    .colab-df-convert:hover {\n",
              "      background-color: #E2EBFA;\n",
              "      box-shadow: 0px 1px 2px rgba(60, 64, 67, 0.3), 0px 1px 3px 1px rgba(60, 64, 67, 0.15);\n",
              "      fill: #174EA6;\n",
              "    }\n",
              "\n",
              "    [theme=dark] .colab-df-convert {\n",
              "      background-color: #3B4455;\n",
              "      fill: #D2E3FC;\n",
              "    }\n",
              "\n",
              "    [theme=dark] .colab-df-convert:hover {\n",
              "      background-color: #434B5C;\n",
              "      box-shadow: 0px 1px 3px 1px rgba(0, 0, 0, 0.15);\n",
              "      filter: drop-shadow(0px 1px 2px rgba(0, 0, 0, 0.3));\n",
              "      fill: #FFFFFF;\n",
              "    }\n",
              "  </style>\n",
              "\n",
              "      <script>\n",
              "        const buttonEl =\n",
              "          document.querySelector('#df-80edb0e5-0288-45b6-9e15-067fa408c257 button.colab-df-convert');\n",
              "        buttonEl.style.display =\n",
              "          google.colab.kernel.accessAllowed ? 'block' : 'none';\n",
              "\n",
              "        async function convertToInteractive(key) {\n",
              "          const element = document.querySelector('#df-80edb0e5-0288-45b6-9e15-067fa408c257');\n",
              "          const dataTable =\n",
              "            await google.colab.kernel.invokeFunction('convertToInteractive',\n",
              "                                                     [key], {});\n",
              "          if (!dataTable) return;\n",
              "\n",
              "          const docLinkHtml = 'Like what you see? Visit the ' +\n",
              "            '<a target=\"_blank\" href=https://colab.research.google.com/notebooks/data_table.ipynb>data table notebook</a>'\n",
              "            + ' to learn more about interactive tables.';\n",
              "          element.innerHTML = '';\n",
              "          dataTable['output_type'] = 'display_data';\n",
              "          await google.colab.output.renderOutput(dataTable, element);\n",
              "          const docLink = document.createElement('div');\n",
              "          docLink.innerHTML = docLinkHtml;\n",
              "          element.appendChild(docLink);\n",
              "        }\n",
              "      </script>\n",
              "    </div>\n",
              "  </div>\n",
              "  "
            ]
          },
          "metadata": {},
          "execution_count": 88
        }
      ]
    },
    {
      "cell_type": "code",
      "source": [
        "dr.groupby(['Payment'])['Branch'].value_counts()"
      ],
      "metadata": {
        "colab": {
          "base_uri": "https://localhost:8080/"
        },
        "id": "dXPJrtRb91nQ",
        "outputId": "e8ddb377-2485-46f5-d488-1b1f2bed9219"
      },
      "execution_count": null,
      "outputs": [
        {
          "output_type": "execute_result",
          "data": {
            "text/plain": [
              "Payment      Branch\n",
              "Cash         B         110\n",
              "Credit card  B         109\n",
              "Ewallet      B         113\n",
              "Name: Branch, dtype: int64"
            ]
          },
          "metadata": {},
          "execution_count": 100
        }
      ]
    },
    {
      "cell_type": "code",
      "source": [
        "da.groupby(['Payment'])['Branch'].value_counts()"
      ],
      "metadata": {
        "colab": {
          "base_uri": "https://localhost:8080/"
        },
        "id": "2sCf5-bM-BZt",
        "outputId": "49ba7ad1-2581-4a28-8f4e-a8a7e435c04a"
      },
      "execution_count": null,
      "outputs": [
        {
          "output_type": "execute_result",
          "data": {
            "text/plain": [
              "Payment      Branch\n",
              "Cash         A         110\n",
              "Credit card  A         104\n",
              "Ewallet      A         126\n",
              "Name: Branch, dtype: int64"
            ]
          },
          "metadata": {},
          "execution_count": 102
        }
      ]
    },
    {
      "cell_type": "code",
      "source": [
        "dd.groupby(['Payment'])['Branch'].value_counts()"
      ],
      "metadata": {
        "colab": {
          "base_uri": "https://localhost:8080/"
        },
        "id": "mGkCsJZo_Yuv",
        "outputId": "46986dee-1e40-4119-e0fb-eed6b503bb6b"
      },
      "execution_count": null,
      "outputs": [
        {
          "output_type": "execute_result",
          "data": {
            "text/plain": [
              "Payment      Branch\n",
              "Cash         C         124\n",
              "Credit card  C          98\n",
              "Ewallet      C         106\n",
              "Name: Branch, dtype: int64"
            ]
          },
          "metadata": {},
          "execution_count": 108
        }
      ]
    },
    {
      "cell_type": "code",
      "source": [
        ""
      ],
      "metadata": {
        "id": "AGzrEc4h-Upc"
      },
      "execution_count": null,
      "outputs": []
    },
    {
      "cell_type": "code",
      "source": [
        "np.round(dr['Total'].mean(),2)"
      ],
      "metadata": {
        "colab": {
          "base_uri": "https://localhost:8080/"
        },
        "id": "ro3WD8jV81ln",
        "outputId": "1f466379-c8ac-4821-9848-fd9f68c0fbad"
      },
      "execution_count": null,
      "outputs": [
        {
          "output_type": "execute_result",
          "data": {
            "text/plain": [
              "319.87"
            ]
          },
          "metadata": {},
          "execution_count": 87
        }
      ]
    },
    {
      "cell_type": "code",
      "source": [
        "round(df[\"Rating\"].mean(),1)"
      ],
      "metadata": {
        "colab": {
          "base_uri": "https://localhost:8080/"
        },
        "id": "VM3GP2_4hncX",
        "outputId": "53a25e18-c7f9-4320-a821-0fb69c90d688"
      },
      "execution_count": null,
      "outputs": [
        {
          "output_type": "execute_result",
          "data": {
            "text/plain": [
              "7.0"
            ]
          },
          "metadata": {},
          "execution_count": 3
        }
      ]
    },
    {
      "cell_type": "code",
      "source": [
        "female = df[df[\"Gender\"]=='Female']\n",
        "female.to_csv('female_sales.csv',index =False)\n",
        "female = pd.read_csv('female_sales.csv')"
      ],
      "metadata": {
        "id": "NrvMuBcmS4lK"
      },
      "execution_count": null,
      "outputs": []
    },
    {
      "cell_type": "code",
      "source": [
        "female.tail()"
      ],
      "metadata": {
        "id": "K9bK0YhRYxx_"
      },
      "execution_count": null,
      "outputs": []
    },
    {
      "cell_type": "code",
      "source": [
        "#Total sales for products bought by females  \n",
        "female.groupby(['City','Product_line'])['Total'].sum()"
      ],
      "metadata": {
        "colab": {
          "base_uri": "https://localhost:8080/"
        },
        "id": "mnSegOsYTWV_",
        "outputId": "48fb26a5-32ad-41d6-8545-82ab7a074472"
      },
      "execution_count": null,
      "outputs": [
        {
          "output_type": "execute_result",
          "data": {
            "text/plain": [
              "City    Product_line          \n",
              "Amman   Electronic accessories     9966.2955\n",
              "        Fashion accessories        9836.2215\n",
              "        Food and beverages         6999.7620\n",
              "        Health and beauty          5714.8980\n",
              "        Home and lifestyle        12636.8130\n",
              "        Sports and travel          8115.1770\n",
              "Dubai   Electronic accessories     8969.2155\n",
              "        Fashion accessories       11519.6865\n",
              "        Food and beverages        15661.1595\n",
              "        Health and beauty          6445.7400\n",
              "        Home and lifestyle         7842.9330\n",
              "        Sports and travel         11246.7285\n",
              "Riyadh  Electronic accessories     8166.5115\n",
              "        Fashion accessories        9081.4920\n",
              "        Food and beverages        10509.9960\n",
              "        Health and beauty          6400.3485\n",
              "        Home and lifestyle         9557.1315\n",
              "        Sports and travel          9212.8155\n",
              "Name: Total, dtype: float64"
            ]
          },
          "metadata": {},
          "execution_count": 53
        }
      ]
    },
    {
      "cell_type": "code",
      "source": [
        "fig = px.bar(df, x = 'City', y = 'Total',color='Gender',text = \"Gender\")\n",
        "fig.update_layout(barmode='group')\n",
        "fig.show()"
      ],
      "metadata": {
        "colab": {
          "base_uri": "https://localhost:8080/",
          "height": 542
        },
        "id": "mvNwvgmFncVs",
        "outputId": "d727a29d-f207-455d-a4e3-9a55db77d8a6"
      },
      "execution_count": null,
      "outputs": [
        {
          "output_type": "display_data",
          "data": {
            "text/html": [
              "<html>\n",
              "<head><meta charset=\"utf-8\" /></head>\n",
              "<body>\n",
              "    <div>            <script src=\"https://cdnjs.cloudflare.com/ajax/libs/mathjax/2.7.5/MathJax.js?config=TeX-AMS-MML_SVG\"></script><script type=\"text/javascript\">if (window.MathJax) {MathJax.Hub.Config({SVG: {font: \"STIX-Web\"}});}</script>                <script type=\"text/javascript\">window.PlotlyConfig = {MathJaxConfig: 'local'};</script>\n",
              "        <script src=\"https://cdn.plot.ly/plotly-2.8.3.min.js\"></script>                <div id=\"0114932f-d0d9-45ab-85df-01d0538db8ad\" class=\"plotly-graph-div\" style=\"height:525px; width:100%;\"></div>            <script type=\"text/javascript\">                                    window.PLOTLYENV=window.PLOTLYENV || {};                                    if (document.getElementById(\"0114932f-d0d9-45ab-85df-01d0538db8ad\")) {                    Plotly.newPlot(                        \"0114932f-d0d9-45ab-85df-01d0538db8ad\",                        [{\"alignmentgroup\":\"True\",\"hovertemplate\":\"Gender=%{text}<br>City=%{x}<br>Total=%{y}<extra></extra>\",\"legendgroup\":\"Female\",\"marker\":{\"color\":\"#636efa\",\"pattern\":{\"shape\":\"\"}},\"name\":\"Female\",\"offsetgroup\":\"Female\",\"orientation\":\"v\",\"showlegend\":true,\"text\":[\"Female\",\"Female\",\"Female\",\"Female\",\"Female\",\"Female\",\"Female\",\"Female\",\"Female\",\"Female\",\"Female\",\"Female\",\"Female\",\"Female\",\"Female\",\"Female\",\"Female\",\"Female\",\"Female\",\"Female\",\"Female\",\"Female\",\"Female\",\"Female\",\"Female\",\"Female\",\"Female\",\"Female\",\"Female\",\"Female\",\"Female\",\"Female\",\"Female\",\"Female\",\"Female\",\"Female\",\"Female\",\"Female\",\"Female\",\"Female\",\"Female\",\"Female\",\"Female\",\"Female\",\"Female\",\"Female\",\"Female\",\"Female\",\"Female\",\"Female\",\"Female\",\"Female\",\"Female\",\"Female\",\"Female\",\"Female\",\"Female\",\"Female\",\"Female\",\"Female\",\"Female\",\"Female\",\"Female\",\"Female\",\"Female\",\"Female\",\"Female\",\"Female\",\"Female\",\"Female\",\"Female\",\"Female\",\"Female\",\"Female\",\"Female\",\"Female\",\"Female\",\"Female\",\"Female\",\"Female\",\"Female\",\"Female\",\"Female\",\"Female\",\"Female\",\"Female\",\"Female\",\"Female\",\"Female\",\"Female\",\"Female\",\"Female\",\"Female\",\"Female\",\"Female\",\"Female\",\"Female\",\"Female\",\"Female\",\"Female\",\"Female\",\"Female\",\"Female\",\"Female\",\"Female\",\"Female\",\"Female\",\"Female\",\"Female\",\"Female\",\"Female\",\"Female\",\"Female\",\"Female\",\"Female\",\"Female\",\"Female\",\"Female\",\"Female\",\"Female\",\"Female\",\"Female\",\"Female\",\"Female\",\"Female\",\"Female\",\"Female\",\"Female\",\"Female\",\"Female\",\"Female\",\"Female\",\"Female\",\"Female\",\"Female\",\"Female\",\"Female\",\"Female\",\"Female\",\"Female\",\"Female\",\"Female\",\"Female\",\"Female\",\"Female\",\"Female\",\"Female\",\"Female\",\"Female\",\"Female\",\"Female\",\"Female\",\"Female\",\"Female\",\"Female\",\"Female\",\"Female\",\"Female\",\"Female\",\"Female\",\"Female\",\"Female\",\"Female\",\"Female\",\"Female\",\"Female\",\"Female\",\"Female\",\"Female\",\"Female\",\"Female\",\"Female\",\"Female\",\"Female\",\"Female\",\"Female\",\"Female\",\"Female\",\"Female\",\"Female\",\"Female\",\"Female\",\"Female\",\"Female\",\"Female\",\"Female\",\"Female\",\"Female\",\"Female\",\"Female\",\"Female\",\"Female\",\"Female\",\"Female\",\"Female\",\"Female\",\"Female\",\"Female\",\"Female\",\"Female\",\"Female\",\"Female\",\"Female\",\"Female\",\"Female\",\"Female\",\"Female\",\"Female\",\"Female\",\"Female\",\"Female\",\"Female\",\"Female\",\"Female\",\"Female\",\"Female\",\"Female\",\"Female\",\"Female\",\"Female\",\"Female\",\"Female\",\"Female\",\"Female\",\"Female\",\"Female\",\"Female\",\"Female\",\"Female\",\"Female\",\"Female\",\"Female\",\"Female\",\"Female\",\"Female\",\"Female\",\"Female\",\"Female\",\"Female\",\"Female\",\"Female\",\"Female\",\"Female\",\"Female\",\"Female\",\"Female\",\"Female\",\"Female\",\"Female\",\"Female\",\"Female\",\"Female\",\"Female\",\"Female\",\"Female\",\"Female\",\"Female\",\"Female\",\"Female\",\"Female\",\"Female\",\"Female\",\"Female\",\"Female\",\"Female\",\"Female\",\"Female\",\"Female\",\"Female\",\"Female\",\"Female\",\"Female\",\"Female\",\"Female\",\"Female\",\"Female\",\"Female\",\"Female\",\"Female\",\"Female\",\"Female\",\"Female\",\"Female\",\"Female\",\"Female\",\"Female\",\"Female\",\"Female\",\"Female\",\"Female\",\"Female\",\"Female\",\"Female\",\"Female\",\"Female\",\"Female\",\"Female\",\"Female\",\"Female\",\"Female\",\"Female\",\"Female\",\"Female\",\"Female\",\"Female\",\"Female\",\"Female\",\"Female\",\"Female\",\"Female\",\"Female\",\"Female\",\"Female\",\"Female\",\"Female\",\"Female\",\"Female\",\"Female\",\"Female\",\"Female\",\"Female\",\"Female\",\"Female\",\"Female\",\"Female\",\"Female\",\"Female\",\"Female\",\"Female\",\"Female\",\"Female\",\"Female\",\"Female\",\"Female\",\"Female\",\"Female\",\"Female\",\"Female\",\"Female\",\"Female\",\"Female\",\"Female\",\"Female\",\"Female\",\"Female\",\"Female\",\"Female\",\"Female\",\"Female\",\"Female\",\"Female\",\"Female\",\"Female\",\"Female\",\"Female\",\"Female\",\"Female\",\"Female\",\"Female\",\"Female\",\"Female\",\"Female\",\"Female\",\"Female\",\"Female\",\"Female\",\"Female\",\"Female\",\"Female\",\"Female\",\"Female\",\"Female\",\"Female\",\"Female\",\"Female\",\"Female\",\"Female\",\"Female\",\"Female\",\"Female\",\"Female\",\"Female\",\"Female\",\"Female\",\"Female\",\"Female\",\"Female\",\"Female\",\"Female\",\"Female\",\"Female\",\"Female\",\"Female\",\"Female\",\"Female\",\"Female\",\"Female\",\"Female\",\"Female\",\"Female\",\"Female\",\"Female\",\"Female\",\"Female\",\"Female\",\"Female\",\"Female\",\"Female\",\"Female\",\"Female\",\"Female\",\"Female\",\"Female\",\"Female\",\"Female\",\"Female\",\"Female\",\"Female\",\"Female\",\"Female\",\"Female\",\"Female\",\"Female\",\"Female\",\"Female\",\"Female\",\"Female\",\"Female\",\"Female\",\"Female\",\"Female\",\"Female\",\"Female\",\"Female\",\"Female\",\"Female\",\"Female\",\"Female\",\"Female\",\"Female\",\"Female\",\"Female\",\"Female\",\"Female\",\"Female\",\"Female\",\"Female\",\"Female\",\"Female\",\"Female\",\"Female\",\"Female\",\"Female\",\"Female\",\"Female\",\"Female\",\"Female\",\"Female\",\"Female\",\"Female\",\"Female\",\"Female\",\"Female\",\"Female\",\"Female\",\"Female\",\"Female\",\"Female\",\"Female\",\"Female\",\"Female\",\"Female\",\"Female\",\"Female\",\"Female\",\"Female\",\"Female\",\"Female\",\"Female\",\"Female\",\"Female\",\"Female\",\"Female\",\"Female\",\"Female\",\"Female\",\"Female\",\"Female\",\"Female\",\"Female\",\"Female\",\"Female\",\"Female\",\"Female\",\"Female\",\"Female\",\"Female\",\"Female\",\"Female\",\"Female\",\"Female\"],\"textposition\":\"auto\",\"x\":[\"Amman\",\"Dubai\",\"Amman\",\"Dubai\",\"Amman\",\"Riyadh\",\"Riyadh\",\"Amman\",\"Amman\",\"Riyadh\",\"Amman\",\"Riyadh\",\"Amman\",\"Amman\",\"Riyadh\",\"Dubai\",\"Dubai\",\"Amman\",\"Dubai\",\"Riyadh\",\"Riyadh\",\"Dubai\",\"Riyadh\",\"Riyadh\",\"Dubai\",\"Amman\",\"Riyadh\",\"Dubai\",\"Amman\",\"Dubai\",\"Riyadh\",\"Dubai\",\"Riyadh\",\"Amman\",\"Riyadh\",\"Dubai\",\"Dubai\",\"Amman\",\"Dubai\",\"Dubai\",\"Dubai\",\"Riyadh\",\"Dubai\",\"Dubai\",\"Riyadh\",\"Dubai\",\"Dubai\",\"Amman\",\"Dubai\",\"Dubai\",\"Dubai\",\"Riyadh\",\"Dubai\",\"Riyadh\",\"Dubai\",\"Dubai\",\"Amman\",\"Amman\",\"Riyadh\",\"Amman\",\"Amman\",\"Dubai\",\"Dubai\",\"Riyadh\",\"Riyadh\",\"Amman\",\"Riyadh\",\"Dubai\",\"Amman\",\"Amman\",\"Dubai\",\"Dubai\",\"Dubai\",\"Amman\",\"Dubai\",\"Amman\",\"Riyadh\",\"Dubai\",\"Dubai\",\"Dubai\",\"Dubai\",\"Amman\",\"Riyadh\",\"Dubai\",\"Riyadh\",\"Riyadh\",\"Dubai\",\"Dubai\",\"Amman\",\"Dubai\",\"Dubai\",\"Riyadh\",\"Amman\",\"Dubai\",\"Dubai\",\"Riyadh\",\"Riyadh\",\"Dubai\",\"Riyadh\",\"Riyadh\",\"Amman\",\"Riyadh\",\"Dubai\",\"Dubai\",\"Riyadh\",\"Amman\",\"Riyadh\",\"Riyadh\",\"Riyadh\",\"Amman\",\"Dubai\",\"Riyadh\",\"Riyadh\",\"Dubai\",\"Amman\",\"Dubai\",\"Riyadh\",\"Amman\",\"Amman\",\"Riyadh\",\"Amman\",\"Riyadh\",\"Dubai\",\"Amman\",\"Amman\",\"Riyadh\",\"Dubai\",\"Dubai\",\"Amman\",\"Amman\",\"Amman\",\"Dubai\",\"Riyadh\",\"Amman\",\"Amman\",\"Amman\",\"Dubai\",\"Dubai\",\"Amman\",\"Riyadh\",\"Amman\",\"Amman\",\"Amman\",\"Amman\",\"Amman\",\"Amman\",\"Dubai\",\"Dubai\",\"Dubai\",\"Dubai\",\"Dubai\",\"Amman\",\"Amman\",\"Riyadh\",\"Dubai\",\"Riyadh\",\"Riyadh\",\"Riyadh\",\"Dubai\",\"Amman\",\"Dubai\",\"Riyadh\",\"Dubai\",\"Riyadh\",\"Dubai\",\"Riyadh\",\"Dubai\",\"Dubai\",\"Dubai\",\"Dubai\",\"Dubai\",\"Dubai\",\"Dubai\",\"Riyadh\",\"Riyadh\",\"Dubai\",\"Amman\",\"Amman\",\"Riyadh\",\"Riyadh\",\"Dubai\",\"Riyadh\",\"Dubai\",\"Amman\",\"Amman\",\"Dubai\",\"Dubai\",\"Riyadh\",\"Amman\",\"Amman\",\"Amman\",\"Amman\",\"Riyadh\",\"Dubai\",\"Riyadh\",\"Dubai\",\"Riyadh\",\"Amman\",\"Dubai\",\"Riyadh\",\"Dubai\",\"Dubai\",\"Riyadh\",\"Amman\",\"Dubai\",\"Dubai\",\"Dubai\",\"Riyadh\",\"Amman\",\"Amman\",\"Riyadh\",\"Dubai\",\"Riyadh\",\"Amman\",\"Amman\",\"Riyadh\",\"Riyadh\",\"Riyadh\",\"Riyadh\",\"Amman\",\"Riyadh\",\"Riyadh\",\"Dubai\",\"Riyadh\",\"Dubai\",\"Dubai\",\"Dubai\",\"Dubai\",\"Dubai\",\"Dubai\",\"Amman\",\"Amman\",\"Amman\",\"Dubai\",\"Dubai\",\"Riyadh\",\"Riyadh\",\"Riyadh\",\"Riyadh\",\"Amman\",\"Riyadh\",\"Dubai\",\"Dubai\",\"Dubai\",\"Riyadh\",\"Amman\",\"Dubai\",\"Riyadh\",\"Riyadh\",\"Riyadh\",\"Dubai\",\"Riyadh\",\"Amman\",\"Amman\",\"Dubai\",\"Riyadh\",\"Dubai\",\"Amman\",\"Amman\",\"Riyadh\",\"Dubai\",\"Amman\",\"Riyadh\",\"Amman\",\"Dubai\",\"Riyadh\",\"Riyadh\",\"Amman\",\"Riyadh\",\"Amman\",\"Riyadh\",\"Riyadh\",\"Riyadh\",\"Dubai\",\"Amman\",\"Riyadh\",\"Amman\",\"Dubai\",\"Amman\",\"Riyadh\",\"Dubai\",\"Riyadh\",\"Amman\",\"Amman\",\"Dubai\",\"Riyadh\",\"Amman\",\"Amman\",\"Dubai\",\"Amman\",\"Amman\",\"Dubai\",\"Dubai\",\"Amman\",\"Dubai\",\"Riyadh\",\"Dubai\",\"Amman\",\"Dubai\",\"Amman\",\"Dubai\",\"Amman\",\"Dubai\",\"Amman\",\"Amman\",\"Riyadh\",\"Riyadh\",\"Riyadh\",\"Amman\",\"Dubai\",\"Riyadh\",\"Riyadh\",\"Dubai\",\"Dubai\",\"Dubai\",\"Riyadh\",\"Amman\",\"Dubai\",\"Amman\",\"Amman\",\"Riyadh\",\"Riyadh\",\"Dubai\",\"Dubai\",\"Amman\",\"Riyadh\",\"Dubai\",\"Riyadh\",\"Riyadh\",\"Amman\",\"Riyadh\",\"Amman\",\"Riyadh\",\"Riyadh\",\"Dubai\",\"Riyadh\",\"Riyadh\",\"Riyadh\",\"Amman\",\"Dubai\",\"Dubai\",\"Dubai\",\"Amman\",\"Amman\",\"Dubai\",\"Riyadh\",\"Riyadh\",\"Riyadh\",\"Dubai\",\"Dubai\",\"Dubai\",\"Amman\",\"Amman\",\"Riyadh\",\"Riyadh\",\"Dubai\",\"Dubai\",\"Dubai\",\"Riyadh\",\"Amman\",\"Dubai\",\"Amman\",\"Dubai\",\"Dubai\",\"Dubai\",\"Riyadh\",\"Riyadh\",\"Amman\",\"Amman\",\"Dubai\",\"Amman\",\"Riyadh\",\"Amman\",\"Amman\",\"Riyadh\",\"Amman\",\"Amman\",\"Riyadh\",\"Dubai\",\"Riyadh\",\"Amman\",\"Riyadh\",\"Dubai\",\"Dubai\",\"Dubai\",\"Riyadh\",\"Amman\",\"Amman\",\"Dubai\",\"Dubai\",\"Dubai\",\"Riyadh\",\"Amman\",\"Dubai\",\"Amman\",\"Dubai\",\"Amman\",\"Riyadh\",\"Amman\",\"Amman\",\"Amman\",\"Riyadh\",\"Dubai\",\"Amman\",\"Dubai\",\"Amman\",\"Riyadh\",\"Dubai\",\"Amman\",\"Amman\",\"Riyadh\",\"Amman\",\"Riyadh\",\"Amman\",\"Riyadh\",\"Riyadh\",\"Dubai\",\"Amman\",\"Dubai\",\"Dubai\",\"Dubai\",\"Amman\",\"Amman\",\"Riyadh\",\"Amman\",\"Riyadh\",\"Amman\",\"Amman\",\"Dubai\",\"Riyadh\",\"Riyadh\",\"Amman\",\"Dubai\",\"Riyadh\",\"Amman\",\"Riyadh\",\"Riyadh\",\"Dubai\",\"Amman\",\"Amman\",\"Amman\",\"Dubai\",\"Dubai\",\"Riyadh\",\"Dubai\",\"Dubai\",\"Dubai\",\"Amman\",\"Dubai\",\"Dubai\",\"Riyadh\",\"Amman\",\"Riyadh\",\"Riyadh\",\"Dubai\",\"Amman\",\"Amman\",\"Dubai\",\"Amman\",\"Riyadh\",\"Dubai\",\"Riyadh\",\"Dubai\",\"Dubai\",\"Dubai\",\"Riyadh\",\"Amman\",\"Riyadh\",\"Dubai\",\"Amman\",\"Riyadh\",\"Dubai\",\"Amman\",\"Amman\",\"Dubai\",\"Amman\",\"Amman\",\"Riyadh\",\"Riyadh\",\"Riyadh\",\"Dubai\",\"Amman\",\"Dubai\",\"Amman\",\"Amman\",\"Riyadh\",\"Amman\",\"Amman\",\"Riyadh\",\"Riyadh\",\"Amman\",\"Riyadh\",\"Riyadh\",\"Amman\",\"Riyadh\",\"Riyadh\",\"Amman\",\"Riyadh\",\"Dubai\",\"Riyadh\",\"Amman\"],\"xaxis\":\"x\",\"y\":[548.9715,80.22,433.692,772.38,76.146,172.746,60.816,246.4875,749.49,590.436,506.6355,84.63,441.756,184.107,463.89,417.564,71.526,575.316,461.328,91.056,435.456,829.08,394.632,189.0945,867.615,234.0975,75.054,722.232,759.675,77.931,520.4115,70.287,614.943,19.2465,152.838,478.233,437.325,189.0945,822.255,106.995,624.897,304.542,337.512,610.491,485.037,198.996,471.03,161.553,78.435,218.0115,321.111,34.629,309.3615,535.374,763.4655,85.113,115.08,836.304,474.348,688.6215,169.3125,299.8485,575.736,853.146,291.207,580.419,146.328,512.19,138.1275,216.846,942.9,720.3,31.9305,491.085,291.438,316.47,384.468,103.824,680.148,362.712,165.4485,90.699,793.716,293.202,242.676,154.392,829.71,78.0045,26.5545,374.7975,120.645,241.458,217.6335,629.8425,299.565,95.6655,942.4485,881.307,217.6335,130.0425,298.116,180.621,13.167,183.036,571.41,532.728,170.877,33.3585,794.6505,195.594,232.155,69.405,256.41,30.219,709.317,69.09,160.86,233.52,723.24,783.3,373.17,354.0075,44.352,203.553,25.263,628.173,229.11,400.764,587.664,16.107,200.214,224.4375,356.5485,697.368,65.604,76.356,272.58,93.0405,214.998,125.664,295.6905,745.836,83.412,172.011,74.7075,146.9475,820.365,66.402,218.0745,216.6885,41.391,324.2925,149.3625,365.085,150.0975,404.649,411.3795,565.215,509.4075,736.4385,749.7,141.75,1042.65,402.2655,31.752,374.388,394.275,1002.12,793.548,173.208,343.056,484.974,150.78,193.011,128.016,441.693,352.2225,507.675,334.341,99.33,55.881,523.3725,314.538,214.935,339.36,510.9615,253.512,398.475,548.73,83.727,406.875,284.9175,258.678,248.409,208.6875,718.7565,288.582,237.426,125.055,359.205,190.596,85.5855,120.162,185.367,121.59,264.7575,1020.705,65.7405,951.825,147.798,49.812,343.224,742.812,843.0345,140.385,20.1075,28.4235,41.076,470.673,333.9525,155.19,731.43,488.985,767.025,310.59,23.751,572.775,273.0525,103.782,527.751,168.21,338.31,174.615,344.4,388.29,207.858,431.445,734.076,72.87,206.43,212.688,127.26,132.762,568.512,103.0365,432.768,33.495,195.951,152.775,529.515,100.485,666.939,225.2775,398.958,54.0435,143.9865,523.971,235.872,479.9025,570.78,154.1295,148.68,77.658,306.81,551.124,84.756,74.76,308.91,270.585,416.178,513.2295,550.368,151.284,1034.46,228.123,356.328,852.705,517.965,621.243,586.971,543.753,430.71,269.934,326.256,195.258,75.936,164.871,226.065,178.164,47.859,236.88,440.937,193.4625,147.672,68.2395,343.413,381.3915,394.3275,209.118,30.408,935.2665,365.904,273.798,225.792,96.1905,695.2365,874.125,165.648,12.6945,48.51,92.5575,311.1885,743.82,609.168,32.529,351.603,49.4235,104.6745,277.6725,146.6325,135.3555,370.125,914.55,207.48,204.246,75.474,300.573,85.302,231.2415,477.54,470.988,308.574,41.454,36.5505,310.716,145.404,103.11,136.143,211.365,663.2955,539.343,497.07,458.6925,113.568,507.444,207.585,835.2855,180.6,317.226,733.6035,130.8825,187.32,525.231,110.124,187.866,856.4535,270.2595,239.4,383.523,93.744,596.82,150.423,266.028,40.341,55.2825,116.1405,93.744,143.22,182.91,267.3405,817.236,300.216,608.076,232.638,810.6,536.592,56.1225,801.864,239.589,401.688,72.009,401.268,631.1445,499.7265,55.041,151.515,397.992,32.151,369.684,53.34,57.6975,1022.385,97.881,63.9135,257.145,253.68,462.672,714.3255,325.374,195.678,210.966,18.6375,652.89,422.73,341.0925,408.408,446.964,333.984,100.128,216.4365,441.588,92.442,681.4395,779.31,99.54,299.3655,184.086,82.887,31.227,23.499,688.716,624.33,206.808,554.295,503.7375,345.0195,118.902,450.1035,90.5835,106.596,375.3645,250.7085,131.922,225.015,756.168,101.64,348.705,85.512,216.846,175.014,771.435,102.396,439.215,486.444,485.5725,297.801,423.738,145.5825,122.472,329.196,435.12,167.034,514.605,91.8225,235.746,782.208,313.74,223.587,397.614,82.719,338.2155,103.131,26.733,611.079,221.886,57.876,374.409,833.9625,175.035,781.62,397.845,579.8415,469.77,290.0835,360.927,479.64,690.018,222.012,68.985,263.97,88.368,312.8895,165.9,932.337,16.275,80.367,314.685,49.77,181.0725,888.615,313.572,26.7225,71.1585,921.186,334.4775,30.996,296.94,804.3,63.9975,1022.49,649.299],\"yaxis\":\"y\",\"type\":\"bar\"},{\"alignmentgroup\":\"True\",\"hovertemplate\":\"Gender=%{text}<br>City=%{x}<br>Total=%{y}<extra></extra>\",\"legendgroup\":\"Male\",\"marker\":{\"color\":\"#EF553B\",\"pattern\":{\"shape\":\"\"}},\"name\":\"Male\",\"offsetgroup\":\"Male\",\"orientation\":\"v\",\"showlegend\":true,\"text\":[\"Male\",\"Male\",\"Male\",\"Male\",\"Male\",\"Male\",\"Male\",\"Male\",\"Male\",\"Male\",\"Male\",\"Male\",\"Male\",\"Male\",\"Male\",\"Male\",\"Male\",\"Male\",\"Male\",\"Male\",\"Male\",\"Male\",\"Male\",\"Male\",\"Male\",\"Male\",\"Male\",\"Male\",\"Male\",\"Male\",\"Male\",\"Male\",\"Male\",\"Male\",\"Male\",\"Male\",\"Male\",\"Male\",\"Male\",\"Male\",\"Male\",\"Male\",\"Male\",\"Male\",\"Male\",\"Male\",\"Male\",\"Male\",\"Male\",\"Male\",\"Male\",\"Male\",\"Male\",\"Male\",\"Male\",\"Male\",\"Male\",\"Male\",\"Male\",\"Male\",\"Male\",\"Male\",\"Male\",\"Male\",\"Male\",\"Male\",\"Male\",\"Male\",\"Male\",\"Male\",\"Male\",\"Male\",\"Male\",\"Male\",\"Male\",\"Male\",\"Male\",\"Male\",\"Male\",\"Male\",\"Male\",\"Male\",\"Male\",\"Male\",\"Male\",\"Male\",\"Male\",\"Male\",\"Male\",\"Male\",\"Male\",\"Male\",\"Male\",\"Male\",\"Male\",\"Male\",\"Male\",\"Male\",\"Male\",\"Male\",\"Male\",\"Male\",\"Male\",\"Male\",\"Male\",\"Male\",\"Male\",\"Male\",\"Male\",\"Male\",\"Male\",\"Male\",\"Male\",\"Male\",\"Male\",\"Male\",\"Male\",\"Male\",\"Male\",\"Male\",\"Male\",\"Male\",\"Male\",\"Male\",\"Male\",\"Male\",\"Male\",\"Male\",\"Male\",\"Male\",\"Male\",\"Male\",\"Male\",\"Male\",\"Male\",\"Male\",\"Male\",\"Male\",\"Male\",\"Male\",\"Male\",\"Male\",\"Male\",\"Male\",\"Male\",\"Male\",\"Male\",\"Male\",\"Male\",\"Male\",\"Male\",\"Male\",\"Male\",\"Male\",\"Male\",\"Male\",\"Male\",\"Male\",\"Male\",\"Male\",\"Male\",\"Male\",\"Male\",\"Male\",\"Male\",\"Male\",\"Male\",\"Male\",\"Male\",\"Male\",\"Male\",\"Male\",\"Male\",\"Male\",\"Male\",\"Male\",\"Male\",\"Male\",\"Male\",\"Male\",\"Male\",\"Male\",\"Male\",\"Male\",\"Male\",\"Male\",\"Male\",\"Male\",\"Male\",\"Male\",\"Male\",\"Male\",\"Male\",\"Male\",\"Male\",\"Male\",\"Male\",\"Male\",\"Male\",\"Male\",\"Male\",\"Male\",\"Male\",\"Male\",\"Male\",\"Male\",\"Male\",\"Male\",\"Male\",\"Male\",\"Male\",\"Male\",\"Male\",\"Male\",\"Male\",\"Male\",\"Male\",\"Male\",\"Male\",\"Male\",\"Male\",\"Male\",\"Male\",\"Male\",\"Male\",\"Male\",\"Male\",\"Male\",\"Male\",\"Male\",\"Male\",\"Male\",\"Male\",\"Male\",\"Male\",\"Male\",\"Male\",\"Male\",\"Male\",\"Male\",\"Male\",\"Male\",\"Male\",\"Male\",\"Male\",\"Male\",\"Male\",\"Male\",\"Male\",\"Male\",\"Male\",\"Male\",\"Male\",\"Male\",\"Male\",\"Male\",\"Male\",\"Male\",\"Male\",\"Male\",\"Male\",\"Male\",\"Male\",\"Male\",\"Male\",\"Male\",\"Male\",\"Male\",\"Male\",\"Male\",\"Male\",\"Male\",\"Male\",\"Male\",\"Male\",\"Male\",\"Male\",\"Male\",\"Male\",\"Male\",\"Male\",\"Male\",\"Male\",\"Male\",\"Male\",\"Male\",\"Male\",\"Male\",\"Male\",\"Male\",\"Male\",\"Male\",\"Male\",\"Male\",\"Male\",\"Male\",\"Male\",\"Male\",\"Male\",\"Male\",\"Male\",\"Male\",\"Male\",\"Male\",\"Male\",\"Male\",\"Male\",\"Male\",\"Male\",\"Male\",\"Male\",\"Male\",\"Male\",\"Male\",\"Male\",\"Male\",\"Male\",\"Male\",\"Male\",\"Male\",\"Male\",\"Male\",\"Male\",\"Male\",\"Male\",\"Male\",\"Male\",\"Male\",\"Male\",\"Male\",\"Male\",\"Male\",\"Male\",\"Male\",\"Male\",\"Male\",\"Male\",\"Male\",\"Male\",\"Male\",\"Male\",\"Male\",\"Male\",\"Male\",\"Male\",\"Male\",\"Male\",\"Male\",\"Male\",\"Male\",\"Male\",\"Male\",\"Male\",\"Male\",\"Male\",\"Male\",\"Male\",\"Male\",\"Male\",\"Male\",\"Male\",\"Male\",\"Male\",\"Male\",\"Male\",\"Male\",\"Male\",\"Male\",\"Male\",\"Male\",\"Male\",\"Male\",\"Male\",\"Male\",\"Male\",\"Male\",\"Male\",\"Male\",\"Male\",\"Male\",\"Male\",\"Male\",\"Male\",\"Male\",\"Male\",\"Male\",\"Male\",\"Male\",\"Male\",\"Male\",\"Male\",\"Male\",\"Male\",\"Male\",\"Male\",\"Male\",\"Male\",\"Male\",\"Male\",\"Male\",\"Male\",\"Male\",\"Male\",\"Male\",\"Male\",\"Male\",\"Male\",\"Male\",\"Male\",\"Male\",\"Male\",\"Male\",\"Male\",\"Male\",\"Male\",\"Male\",\"Male\",\"Male\",\"Male\",\"Male\",\"Male\",\"Male\",\"Male\",\"Male\",\"Male\",\"Male\",\"Male\",\"Male\",\"Male\",\"Male\",\"Male\",\"Male\",\"Male\",\"Male\",\"Male\",\"Male\",\"Male\",\"Male\",\"Male\",\"Male\",\"Male\",\"Male\",\"Male\",\"Male\",\"Male\",\"Male\",\"Male\",\"Male\",\"Male\",\"Male\",\"Male\",\"Male\",\"Male\",\"Male\",\"Male\",\"Male\",\"Male\",\"Male\",\"Male\",\"Male\",\"Male\",\"Male\",\"Male\",\"Male\",\"Male\",\"Male\",\"Male\",\"Male\",\"Male\",\"Male\",\"Male\",\"Male\",\"Male\",\"Male\",\"Male\",\"Male\",\"Male\",\"Male\",\"Male\",\"Male\",\"Male\",\"Male\",\"Male\",\"Male\",\"Male\",\"Male\",\"Male\",\"Male\",\"Male\",\"Male\",\"Male\",\"Male\",\"Male\",\"Male\",\"Male\",\"Male\",\"Male\",\"Male\",\"Male\"],\"textposition\":\"auto\",\"x\":[\"Amman\",\"Amman\",\"Amman\",\"Dubai\",\"Riyadh\",\"Amman\",\"Amman\",\"Amman\",\"Dubai\",\"Riyadh\",\"Riyadh\",\"Amman\",\"Amman\",\"Riyadh\",\"Amman\",\"Riyadh\",\"Riyadh\",\"Riyadh\",\"Amman\",\"Amman\",\"Riyadh\",\"Dubai\",\"Dubai\",\"Riyadh\",\"Riyadh\",\"Dubai\",\"Dubai\",\"Riyadh\",\"Amman\",\"Amman\",\"Dubai\",\"Dubai\",\"Amman\",\"Riyadh\",\"Amman\",\"Amman\",\"Dubai\",\"Dubai\",\"Amman\",\"Dubai\",\"Dubai\",\"Dubai\",\"Dubai\",\"Amman\",\"Amman\",\"Riyadh\",\"Dubai\",\"Amman\",\"Riyadh\",\"Amman\",\"Riyadh\",\"Dubai\",\"Dubai\",\"Amman\",\"Riyadh\",\"Amman\",\"Dubai\",\"Amman\",\"Dubai\",\"Amman\",\"Riyadh\",\"Riyadh\",\"Riyadh\",\"Dubai\",\"Riyadh\",\"Dubai\",\"Riyadh\",\"Dubai\",\"Riyadh\",\"Amman\",\"Dubai\",\"Dubai\",\"Riyadh\",\"Amman\",\"Dubai\",\"Amman\",\"Amman\",\"Riyadh\",\"Riyadh\",\"Riyadh\",\"Riyadh\",\"Amman\",\"Amman\",\"Dubai\",\"Riyadh\",\"Riyadh\",\"Dubai\",\"Amman\",\"Amman\",\"Amman\",\"Amman\",\"Riyadh\",\"Dubai\",\"Riyadh\",\"Riyadh\",\"Amman\",\"Amman\",\"Amman\",\"Dubai\",\"Dubai\",\"Dubai\",\"Amman\",\"Dubai\",\"Riyadh\",\"Riyadh\",\"Amman\",\"Riyadh\",\"Amman\",\"Dubai\",\"Dubai\",\"Dubai\",\"Riyadh\",\"Riyadh\",\"Amman\",\"Riyadh\",\"Riyadh\",\"Amman\",\"Riyadh\",\"Riyadh\",\"Riyadh\",\"Dubai\",\"Amman\",\"Riyadh\",\"Dubai\",\"Riyadh\",\"Amman\",\"Dubai\",\"Amman\",\"Amman\",\"Amman\",\"Dubai\",\"Amman\",\"Riyadh\",\"Amman\",\"Amman\",\"Amman\",\"Riyadh\",\"Riyadh\",\"Dubai\",\"Amman\",\"Amman\",\"Riyadh\",\"Amman\",\"Amman\",\"Amman\",\"Dubai\",\"Riyadh\",\"Dubai\",\"Amman\",\"Riyadh\",\"Dubai\",\"Amman\",\"Dubai\",\"Amman\",\"Riyadh\",\"Dubai\",\"Riyadh\",\"Dubai\",\"Riyadh\",\"Dubai\",\"Amman\",\"Amman\",\"Dubai\",\"Riyadh\",\"Dubai\",\"Amman\",\"Riyadh\",\"Dubai\",\"Dubai\",\"Dubai\",\"Dubai\",\"Amman\",\"Amman\",\"Riyadh\",\"Amman\",\"Dubai\",\"Riyadh\",\"Amman\",\"Riyadh\",\"Amman\",\"Amman\",\"Amman\",\"Dubai\",\"Amman\",\"Riyadh\",\"Amman\",\"Amman\",\"Amman\",\"Amman\",\"Riyadh\",\"Riyadh\",\"Riyadh\",\"Amman\",\"Dubai\",\"Amman\",\"Amman\",\"Amman\",\"Dubai\",\"Dubai\",\"Dubai\",\"Amman\",\"Riyadh\",\"Dubai\",\"Riyadh\",\"Amman\",\"Riyadh\",\"Riyadh\",\"Dubai\",\"Dubai\",\"Amman\",\"Amman\",\"Riyadh\",\"Amman\",\"Amman\",\"Amman\",\"Riyadh\",\"Riyadh\",\"Dubai\",\"Riyadh\",\"Amman\",\"Riyadh\",\"Riyadh\",\"Dubai\",\"Riyadh\",\"Dubai\",\"Dubai\",\"Amman\",\"Dubai\",\"Dubai\",\"Dubai\",\"Dubai\",\"Dubai\",\"Riyadh\",\"Amman\",\"Amman\",\"Riyadh\",\"Dubai\",\"Dubai\",\"Amman\",\"Riyadh\",\"Dubai\",\"Amman\",\"Riyadh\",\"Amman\",\"Dubai\",\"Riyadh\",\"Amman\",\"Dubai\",\"Amman\",\"Riyadh\",\"Amman\",\"Dubai\",\"Riyadh\",\"Riyadh\",\"Riyadh\",\"Dubai\",\"Riyadh\",\"Amman\",\"Riyadh\",\"Amman\",\"Dubai\",\"Riyadh\",\"Dubai\",\"Amman\",\"Dubai\",\"Dubai\",\"Amman\",\"Riyadh\",\"Riyadh\",\"Amman\",\"Amman\",\"Amman\",\"Riyadh\",\"Dubai\",\"Amman\",\"Amman\",\"Dubai\",\"Dubai\",\"Riyadh\",\"Amman\",\"Riyadh\",\"Dubai\",\"Amman\",\"Riyadh\",\"Amman\",\"Riyadh\",\"Dubai\",\"Amman\",\"Riyadh\",\"Riyadh\",\"Amman\",\"Riyadh\",\"Amman\",\"Riyadh\",\"Riyadh\",\"Dubai\",\"Riyadh\",\"Dubai\",\"Riyadh\",\"Amman\",\"Dubai\",\"Amman\",\"Dubai\",\"Riyadh\",\"Riyadh\",\"Amman\",\"Dubai\",\"Dubai\",\"Riyadh\",\"Amman\",\"Riyadh\",\"Riyadh\",\"Dubai\",\"Amman\",\"Riyadh\",\"Dubai\",\"Amman\",\"Riyadh\",\"Amman\",\"Riyadh\",\"Amman\",\"Amman\",\"Amman\",\"Amman\",\"Riyadh\",\"Riyadh\",\"Riyadh\",\"Amman\",\"Riyadh\",\"Riyadh\",\"Dubai\",\"Amman\",\"Dubai\",\"Riyadh\",\"Dubai\",\"Riyadh\",\"Amman\",\"Riyadh\",\"Riyadh\",\"Amman\",\"Dubai\",\"Riyadh\",\"Amman\",\"Riyadh\",\"Dubai\",\"Riyadh\",\"Dubai\",\"Amman\",\"Amman\",\"Amman\",\"Dubai\",\"Dubai\",\"Amman\",\"Riyadh\",\"Amman\",\"Dubai\",\"Riyadh\",\"Riyadh\",\"Riyadh\",\"Dubai\",\"Dubai\",\"Amman\",\"Amman\",\"Dubai\",\"Amman\",\"Amman\",\"Riyadh\",\"Riyadh\",\"Dubai\",\"Riyadh\",\"Dubai\",\"Amman\",\"Amman\",\"Riyadh\",\"Riyadh\",\"Dubai\",\"Dubai\",\"Riyadh\",\"Amman\",\"Dubai\",\"Dubai\",\"Amman\",\"Riyadh\",\"Dubai\",\"Riyadh\",\"Amman\",\"Riyadh\",\"Amman\",\"Riyadh\",\"Dubai\",\"Dubai\",\"Riyadh\",\"Dubai\",\"Riyadh\",\"Dubai\",\"Amman\",\"Dubai\",\"Dubai\",\"Amman\",\"Amman\",\"Dubai\",\"Amman\",\"Riyadh\",\"Riyadh\",\"Dubai\",\"Riyadh\",\"Dubai\",\"Riyadh\",\"Amman\",\"Amman\",\"Riyadh\",\"Riyadh\",\"Riyadh\",\"Dubai\",\"Amman\",\"Dubai\",\"Amman\",\"Riyadh\",\"Amman\",\"Amman\",\"Amman\",\"Riyadh\",\"Dubai\",\"Amman\",\"Riyadh\",\"Amman\",\"Amman\",\"Amman\",\"Amman\",\"Dubai\",\"Riyadh\",\"Riyadh\",\"Amman\",\"Dubai\",\"Riyadh\",\"Dubai\",\"Amman\",\"Amman\",\"Dubai\",\"Amman\",\"Amman\",\"Dubai\",\"Dubai\",\"Riyadh\",\"Riyadh\",\"Amman\",\"Amman\",\"Amman\",\"Riyadh\",\"Riyadh\",\"Riyadh\",\"Dubai\",\"Dubai\",\"Amman\",\"Riyadh\",\"Amman\",\"Dubai\",\"Amman\",\"Dubai\",\"Riyadh\",\"Riyadh\",\"Riyadh\",\"Riyadh\",\"Dubai\",\"Dubai\",\"Amman\",\"Dubai\",\"Amman\",\"Amman\",\"Dubai\",\"Riyadh\",\"Dubai\",\"Riyadh\",\"Riyadh\",\"Dubai\",\"Riyadh\",\"Dubai\",\"Amman\",\"Dubai\",\"Riyadh\",\"Amman\",\"Riyadh\",\"Riyadh\",\"Amman\",\"Dubai\",\"Riyadh\",\"Riyadh\",\"Dubai\",\"Amman\",\"Dubai\",\"Dubai\",\"Riyadh\",\"Dubai\",\"Riyadh\",\"Amman\",\"Riyadh\",\"Dubai\",\"Amman\",\"Amman\"],\"xaxis\":\"x\",\"y\":[340.5255,489.048,634.3785,627.6165,107.142,453.495,457.443,172.2105,451.71,277.137,69.72,181.44,279.1845,35.196,235.2105,494.1825,737.7615,703.752,202.818,328.755,253.008,117.831,32.277,535.7205,119.259,671.79,16.2015,33.936,93.114,752.64,192.843,351.099,166.005,318.108,166.635,827.085,939.54,652.26,705.6315,463.428,161.7,256.7775,401.73,362.943,44.5935,608.202,94.2375,102.018,922.635,166.1625,521.01,51.1455,742.2975,367.038,223.0725,931.035,172.494,391.419,860.685,548.7615,115.185,53.928,112.224,419.832,944.622,536.844,550.935,284.193,545.055,609.0,950.25,277.788,603.624,272.664,254.016,786.618,484.5225,75.7785,263.97,918.729,588.357,66.8745,336.5565,160.44,418.95,357.588,1003.59,1039.29,323.064,510.972,367.5525,420.2625,175.14,333.207,166.236,319.788,186.228,465.444,273.42,472.311,323.148,162.75,288.204,56.952,195.174,77.7735,107.31,171.7275,91.77,174.3,451.3635,271.95,93.2925,247.8735,484.89,146.223,19.194,796.908,285.705,456.288,62.0025,90.825,655.5465,155.652,310.044,545.37,91.4025,94.1745,235.683,125.517,195.72,263.13,788.508,399.756,94.185,326.424,536.991,439.8975,369.495,99.75,494.76,137.004,69.6675,163.233,135.45,276.948,57.1725,148.974,297.108,352.5795,745.395,462.21,38.85,628.929,350.07,78.603,423.15,204.6975,190.155,121.128,493.794,252.042,209.622,40.9605,51.0405,530.67,503.559,145.593,208.677,392.6475,185.094,96.138,135.576,410.508,523.845,395.892,214.746,152.712,208.089,103.635,404.355,49.308,77.175,721.98,151.4835,140.6475,75.5475,191.247,379.9215,255.15,86.625,78.7185,680.064,209.559,461.286,276.948,203.175,265.104,701.8515,407.316,345.786,79.611,294.651,133.917,80.661,128.4255,181.818,194.124,14.679,282.492,72.3975,45.927,110.0925,81.396,427.812,100.9155,213.528,17.094,383.7645,390.7995,353.1675,145.068,90.867,702.219,937.818,348.306,214.137,71.568,91.56,13.419,290.43,144.081,138.663,26.25,87.234,833.595,37.6845,212.73,269.535,233.226,22.659,452.865,609.588,205.317,353.094,360.885,40.53,554.148,194.985,633.99,156.03,24.108,209.769,637.728,77.6685,145.74,92.8725,203.112,321.7725,731.6925,429.1665,288.015,206.7975,72.933,377.58,132.027,514.773,164.682,125.706,926.9505,160.209,728.112,240.975,122.5245,102.837,96.642,79.674,118.251,163.002,575.9775,180.4005,139.923,142.002,118.062,262.458,203.931,936.6,469.413,208.425,280.035,74.4555,152.019,451.0275,597.6285,253.26,133.434,145.971,85.743,198.639,217.182,625.905,76.755,293.139,304.92,46.683,164.43,87.234,814.38,133.35,32.1405,121.569,293.643,84.9765,708.225,457.38,461.5275,620.739,95.9175,127.827,867.09,167.895,673.995,246.6765,175.917,314.055,251.7165,697.935,212.7825,165.123,116.907,63.2625,182.952,442.323,35.3115,259.77,397.215,764.19,352.674,252.756,58.2225,125.979,181.881,588.42,196.14,282.576,175.917,618.975,305.55,45.108,667.38,153.048,404.544,510.615,261.198,657.531,1023.75,101.808,760.4415,527.5095,72.429,131.208,80.955,507.906,829.08,37.611,142.947,138.978,98.028,175.0455,732.27,408.492,176.4,20.685,557.718,56.406,860.475,616.98,769.104,887.922,408.7335,89.0715,79.149,684.915,597.0405,384.72,197.925,757.365,233.1,86.247,137.865,480.0285,98.049,132.5625,830.3715,183.12,548.163,603.876,190.4805,432.9885,48.7305,287.91,680.61,57.078,97.419,455.1225,144.963,495.3165,90.3,99.9075,284.592,403.872,247.59,222.138,10.6785,130.032,681.975,88.704,262.794,95.865,54.999,202.335,281.169,586.635,163.611,63.315,22.386,295.407,76.923,77.805,390.9465,177.408,362.817,26.796,106.5015,760.452,76.5765,271.278,182.427,59.325,561.078,97.818,548.184,54.9675,41.7375,335.895,335.013,92.295,807.66,148.995,317.835,832.944,446.439,629.16,331.128,193.074,84.7455,888.405,431.256,44.9925,217.2555,92.7255,53.151,629.496,470.988,270.018,279.384,943.299,266.6475,74.088,176.925,56.469,188.0025,125.7165,415.233,477.1305,289.926,96.579,43.869,304.983,69.993,255.1815,271.2885,640.038,252.252,180.873,104.832,167.58,250.278,244.23,734.706,708.3195,520.8,864.57,633.108,121.863,183.645,42.3675,33.432,69.111],\"yaxis\":\"y\",\"type\":\"bar\"}],                        {\"template\":{\"data\":{\"bar\":[{\"error_x\":{\"color\":\"#2a3f5f\"},\"error_y\":{\"color\":\"#2a3f5f\"},\"marker\":{\"line\":{\"color\":\"#E5ECF6\",\"width\":0.5},\"pattern\":{\"fillmode\":\"overlay\",\"size\":10,\"solidity\":0.2}},\"type\":\"bar\"}],\"barpolar\":[{\"marker\":{\"line\":{\"color\":\"#E5ECF6\",\"width\":0.5},\"pattern\":{\"fillmode\":\"overlay\",\"size\":10,\"solidity\":0.2}},\"type\":\"barpolar\"}],\"carpet\":[{\"aaxis\":{\"endlinecolor\":\"#2a3f5f\",\"gridcolor\":\"white\",\"linecolor\":\"white\",\"minorgridcolor\":\"white\",\"startlinecolor\":\"#2a3f5f\"},\"baxis\":{\"endlinecolor\":\"#2a3f5f\",\"gridcolor\":\"white\",\"linecolor\":\"white\",\"minorgridcolor\":\"white\",\"startlinecolor\":\"#2a3f5f\"},\"type\":\"carpet\"}],\"choropleth\":[{\"colorbar\":{\"outlinewidth\":0,\"ticks\":\"\"},\"type\":\"choropleth\"}],\"contour\":[{\"colorbar\":{\"outlinewidth\":0,\"ticks\":\"\"},\"colorscale\":[[0.0,\"#0d0887\"],[0.1111111111111111,\"#46039f\"],[0.2222222222222222,\"#7201a8\"],[0.3333333333333333,\"#9c179e\"],[0.4444444444444444,\"#bd3786\"],[0.5555555555555556,\"#d8576b\"],[0.6666666666666666,\"#ed7953\"],[0.7777777777777778,\"#fb9f3a\"],[0.8888888888888888,\"#fdca26\"],[1.0,\"#f0f921\"]],\"type\":\"contour\"}],\"contourcarpet\":[{\"colorbar\":{\"outlinewidth\":0,\"ticks\":\"\"},\"type\":\"contourcarpet\"}],\"heatmap\":[{\"colorbar\":{\"outlinewidth\":0,\"ticks\":\"\"},\"colorscale\":[[0.0,\"#0d0887\"],[0.1111111111111111,\"#46039f\"],[0.2222222222222222,\"#7201a8\"],[0.3333333333333333,\"#9c179e\"],[0.4444444444444444,\"#bd3786\"],[0.5555555555555556,\"#d8576b\"],[0.6666666666666666,\"#ed7953\"],[0.7777777777777778,\"#fb9f3a\"],[0.8888888888888888,\"#fdca26\"],[1.0,\"#f0f921\"]],\"type\":\"heatmap\"}],\"heatmapgl\":[{\"colorbar\":{\"outlinewidth\":0,\"ticks\":\"\"},\"colorscale\":[[0.0,\"#0d0887\"],[0.1111111111111111,\"#46039f\"],[0.2222222222222222,\"#7201a8\"],[0.3333333333333333,\"#9c179e\"],[0.4444444444444444,\"#bd3786\"],[0.5555555555555556,\"#d8576b\"],[0.6666666666666666,\"#ed7953\"],[0.7777777777777778,\"#fb9f3a\"],[0.8888888888888888,\"#fdca26\"],[1.0,\"#f0f921\"]],\"type\":\"heatmapgl\"}],\"histogram\":[{\"marker\":{\"pattern\":{\"fillmode\":\"overlay\",\"size\":10,\"solidity\":0.2}},\"type\":\"histogram\"}],\"histogram2d\":[{\"colorbar\":{\"outlinewidth\":0,\"ticks\":\"\"},\"colorscale\":[[0.0,\"#0d0887\"],[0.1111111111111111,\"#46039f\"],[0.2222222222222222,\"#7201a8\"],[0.3333333333333333,\"#9c179e\"],[0.4444444444444444,\"#bd3786\"],[0.5555555555555556,\"#d8576b\"],[0.6666666666666666,\"#ed7953\"],[0.7777777777777778,\"#fb9f3a\"],[0.8888888888888888,\"#fdca26\"],[1.0,\"#f0f921\"]],\"type\":\"histogram2d\"}],\"histogram2dcontour\":[{\"colorbar\":{\"outlinewidth\":0,\"ticks\":\"\"},\"colorscale\":[[0.0,\"#0d0887\"],[0.1111111111111111,\"#46039f\"],[0.2222222222222222,\"#7201a8\"],[0.3333333333333333,\"#9c179e\"],[0.4444444444444444,\"#bd3786\"],[0.5555555555555556,\"#d8576b\"],[0.6666666666666666,\"#ed7953\"],[0.7777777777777778,\"#fb9f3a\"],[0.8888888888888888,\"#fdca26\"],[1.0,\"#f0f921\"]],\"type\":\"histogram2dcontour\"}],\"mesh3d\":[{\"colorbar\":{\"outlinewidth\":0,\"ticks\":\"\"},\"type\":\"mesh3d\"}],\"parcoords\":[{\"line\":{\"colorbar\":{\"outlinewidth\":0,\"ticks\":\"\"}},\"type\":\"parcoords\"}],\"pie\":[{\"automargin\":true,\"type\":\"pie\"}],\"scatter\":[{\"marker\":{\"colorbar\":{\"outlinewidth\":0,\"ticks\":\"\"}},\"type\":\"scatter\"}],\"scatter3d\":[{\"line\":{\"colorbar\":{\"outlinewidth\":0,\"ticks\":\"\"}},\"marker\":{\"colorbar\":{\"outlinewidth\":0,\"ticks\":\"\"}},\"type\":\"scatter3d\"}],\"scattercarpet\":[{\"marker\":{\"colorbar\":{\"outlinewidth\":0,\"ticks\":\"\"}},\"type\":\"scattercarpet\"}],\"scattergeo\":[{\"marker\":{\"colorbar\":{\"outlinewidth\":0,\"ticks\":\"\"}},\"type\":\"scattergeo\"}],\"scattergl\":[{\"marker\":{\"colorbar\":{\"outlinewidth\":0,\"ticks\":\"\"}},\"type\":\"scattergl\"}],\"scattermapbox\":[{\"marker\":{\"colorbar\":{\"outlinewidth\":0,\"ticks\":\"\"}},\"type\":\"scattermapbox\"}],\"scatterpolar\":[{\"marker\":{\"colorbar\":{\"outlinewidth\":0,\"ticks\":\"\"}},\"type\":\"scatterpolar\"}],\"scatterpolargl\":[{\"marker\":{\"colorbar\":{\"outlinewidth\":0,\"ticks\":\"\"}},\"type\":\"scatterpolargl\"}],\"scatterternary\":[{\"marker\":{\"colorbar\":{\"outlinewidth\":0,\"ticks\":\"\"}},\"type\":\"scatterternary\"}],\"surface\":[{\"colorbar\":{\"outlinewidth\":0,\"ticks\":\"\"},\"colorscale\":[[0.0,\"#0d0887\"],[0.1111111111111111,\"#46039f\"],[0.2222222222222222,\"#7201a8\"],[0.3333333333333333,\"#9c179e\"],[0.4444444444444444,\"#bd3786\"],[0.5555555555555556,\"#d8576b\"],[0.6666666666666666,\"#ed7953\"],[0.7777777777777778,\"#fb9f3a\"],[0.8888888888888888,\"#fdca26\"],[1.0,\"#f0f921\"]],\"type\":\"surface\"}],\"table\":[{\"cells\":{\"fill\":{\"color\":\"#EBF0F8\"},\"line\":{\"color\":\"white\"}},\"header\":{\"fill\":{\"color\":\"#C8D4E3\"},\"line\":{\"color\":\"white\"}},\"type\":\"table\"}]},\"layout\":{\"annotationdefaults\":{\"arrowcolor\":\"#2a3f5f\",\"arrowhead\":0,\"arrowwidth\":1},\"autotypenumbers\":\"strict\",\"coloraxis\":{\"colorbar\":{\"outlinewidth\":0,\"ticks\":\"\"}},\"colorscale\":{\"diverging\":[[0,\"#8e0152\"],[0.1,\"#c51b7d\"],[0.2,\"#de77ae\"],[0.3,\"#f1b6da\"],[0.4,\"#fde0ef\"],[0.5,\"#f7f7f7\"],[0.6,\"#e6f5d0\"],[0.7,\"#b8e186\"],[0.8,\"#7fbc41\"],[0.9,\"#4d9221\"],[1,\"#276419\"]],\"sequential\":[[0.0,\"#0d0887\"],[0.1111111111111111,\"#46039f\"],[0.2222222222222222,\"#7201a8\"],[0.3333333333333333,\"#9c179e\"],[0.4444444444444444,\"#bd3786\"],[0.5555555555555556,\"#d8576b\"],[0.6666666666666666,\"#ed7953\"],[0.7777777777777778,\"#fb9f3a\"],[0.8888888888888888,\"#fdca26\"],[1.0,\"#f0f921\"]],\"sequentialminus\":[[0.0,\"#0d0887\"],[0.1111111111111111,\"#46039f\"],[0.2222222222222222,\"#7201a8\"],[0.3333333333333333,\"#9c179e\"],[0.4444444444444444,\"#bd3786\"],[0.5555555555555556,\"#d8576b\"],[0.6666666666666666,\"#ed7953\"],[0.7777777777777778,\"#fb9f3a\"],[0.8888888888888888,\"#fdca26\"],[1.0,\"#f0f921\"]]},\"colorway\":[\"#636efa\",\"#EF553B\",\"#00cc96\",\"#ab63fa\",\"#FFA15A\",\"#19d3f3\",\"#FF6692\",\"#B6E880\",\"#FF97FF\",\"#FECB52\"],\"font\":{\"color\":\"#2a3f5f\"},\"geo\":{\"bgcolor\":\"white\",\"lakecolor\":\"white\",\"landcolor\":\"#E5ECF6\",\"showlakes\":true,\"showland\":true,\"subunitcolor\":\"white\"},\"hoverlabel\":{\"align\":\"left\"},\"hovermode\":\"closest\",\"mapbox\":{\"style\":\"light\"},\"paper_bgcolor\":\"white\",\"plot_bgcolor\":\"#E5ECF6\",\"polar\":{\"angularaxis\":{\"gridcolor\":\"white\",\"linecolor\":\"white\",\"ticks\":\"\"},\"bgcolor\":\"#E5ECF6\",\"radialaxis\":{\"gridcolor\":\"white\",\"linecolor\":\"white\",\"ticks\":\"\"}},\"scene\":{\"xaxis\":{\"backgroundcolor\":\"#E5ECF6\",\"gridcolor\":\"white\",\"gridwidth\":2,\"linecolor\":\"white\",\"showbackground\":true,\"ticks\":\"\",\"zerolinecolor\":\"white\"},\"yaxis\":{\"backgroundcolor\":\"#E5ECF6\",\"gridcolor\":\"white\",\"gridwidth\":2,\"linecolor\":\"white\",\"showbackground\":true,\"ticks\":\"\",\"zerolinecolor\":\"white\"},\"zaxis\":{\"backgroundcolor\":\"#E5ECF6\",\"gridcolor\":\"white\",\"gridwidth\":2,\"linecolor\":\"white\",\"showbackground\":true,\"ticks\":\"\",\"zerolinecolor\":\"white\"}},\"shapedefaults\":{\"line\":{\"color\":\"#2a3f5f\"}},\"ternary\":{\"aaxis\":{\"gridcolor\":\"white\",\"linecolor\":\"white\",\"ticks\":\"\"},\"baxis\":{\"gridcolor\":\"white\",\"linecolor\":\"white\",\"ticks\":\"\"},\"bgcolor\":\"#E5ECF6\",\"caxis\":{\"gridcolor\":\"white\",\"linecolor\":\"white\",\"ticks\":\"\"}},\"title\":{\"x\":0.05},\"xaxis\":{\"automargin\":true,\"gridcolor\":\"white\",\"linecolor\":\"white\",\"ticks\":\"\",\"title\":{\"standoff\":15},\"zerolinecolor\":\"white\",\"zerolinewidth\":2},\"yaxis\":{\"automargin\":true,\"gridcolor\":\"white\",\"linecolor\":\"white\",\"ticks\":\"\",\"title\":{\"standoff\":15},\"zerolinecolor\":\"white\",\"zerolinewidth\":2}}},\"xaxis\":{\"anchor\":\"y\",\"domain\":[0.0,1.0],\"title\":{\"text\":\"City\"}},\"yaxis\":{\"anchor\":\"x\",\"domain\":[0.0,1.0],\"title\":{\"text\":\"Total\"}},\"legend\":{\"title\":{\"text\":\"Gender\"},\"tracegroupgap\":0},\"margin\":{\"t\":60},\"barmode\":\"group\"},                        {\"responsive\": true}                    ).then(function(){\n",
              "                            \n",
              "var gd = document.getElementById('0114932f-d0d9-45ab-85df-01d0538db8ad');\n",
              "var x = new MutationObserver(function (mutations, observer) {{\n",
              "        var display = window.getComputedStyle(gd).display;\n",
              "        if (!display || display === 'none') {{\n",
              "            console.log([gd, 'removed!']);\n",
              "            Plotly.purge(gd);\n",
              "            observer.disconnect();\n",
              "        }}\n",
              "}});\n",
              "\n",
              "// Listen for the removal of the full notebook cells\n",
              "var notebookContainer = gd.closest('#notebook-container');\n",
              "if (notebookContainer) {{\n",
              "    x.observe(notebookContainer, {childList: true});\n",
              "}}\n",
              "\n",
              "// Listen for the clearing of the current output cell\n",
              "var outputEl = gd.closest('.output');\n",
              "if (outputEl) {{\n",
              "    x.observe(outputEl, {childList: true});\n",
              "}}\n",
              "\n",
              "                        })                };                            </script>        </div>\n",
              "</body>\n",
              "</html>"
            ]
          },
          "metadata": {}
        }
      ]
    },
    {
      "cell_type": "code",
      "source": [
        "df.groupby(by=[\"Product_line\"]).sum()[[\"Total\"]].sort_values(by=\"Total\")"
      ],
      "metadata": {
        "colab": {
          "base_uri": "https://localhost:8080/",
          "height": 269
        },
        "id": "qGI8uv46dbP8",
        "outputId": "45973d1c-8d62-45e6-aa60-e4a031bd76d8"
      },
      "execution_count": null,
      "outputs": [
        {
          "output_type": "execute_result",
          "data": {
            "text/plain": [
              "                             Total\n",
              "Product_line                      \n",
              "Health and beauty       49193.7390\n",
              "Home and lifestyle      53861.9130\n",
              "Fashion accessories     54305.8950\n",
              "Electronic accessories  54337.5315\n",
              "Sports and travel       55122.8265\n",
              "Food and beverages      56144.8440"
            ],
            "text/html": [
              "\n",
              "  <div id=\"df-2c742b35-0f9a-470f-9010-c17d14d1996d\">\n",
              "    <div class=\"colab-df-container\">\n",
              "      <div>\n",
              "<style scoped>\n",
              "    .dataframe tbody tr th:only-of-type {\n",
              "        vertical-align: middle;\n",
              "    }\n",
              "\n",
              "    .dataframe tbody tr th {\n",
              "        vertical-align: top;\n",
              "    }\n",
              "\n",
              "    .dataframe thead th {\n",
              "        text-align: right;\n",
              "    }\n",
              "</style>\n",
              "<table border=\"1\" class=\"dataframe\">\n",
              "  <thead>\n",
              "    <tr style=\"text-align: right;\">\n",
              "      <th></th>\n",
              "      <th>Total</th>\n",
              "    </tr>\n",
              "    <tr>\n",
              "      <th>Product_line</th>\n",
              "      <th></th>\n",
              "    </tr>\n",
              "  </thead>\n",
              "  <tbody>\n",
              "    <tr>\n",
              "      <th>Health and beauty</th>\n",
              "      <td>49193.7390</td>\n",
              "    </tr>\n",
              "    <tr>\n",
              "      <th>Home and lifestyle</th>\n",
              "      <td>53861.9130</td>\n",
              "    </tr>\n",
              "    <tr>\n",
              "      <th>Fashion accessories</th>\n",
              "      <td>54305.8950</td>\n",
              "    </tr>\n",
              "    <tr>\n",
              "      <th>Electronic accessories</th>\n",
              "      <td>54337.5315</td>\n",
              "    </tr>\n",
              "    <tr>\n",
              "      <th>Sports and travel</th>\n",
              "      <td>55122.8265</td>\n",
              "    </tr>\n",
              "    <tr>\n",
              "      <th>Food and beverages</th>\n",
              "      <td>56144.8440</td>\n",
              "    </tr>\n",
              "  </tbody>\n",
              "</table>\n",
              "</div>\n",
              "      <button class=\"colab-df-convert\" onclick=\"convertToInteractive('df-2c742b35-0f9a-470f-9010-c17d14d1996d')\"\n",
              "              title=\"Convert this dataframe to an interactive table.\"\n",
              "              style=\"display:none;\">\n",
              "        \n",
              "  <svg xmlns=\"http://www.w3.org/2000/svg\" height=\"24px\"viewBox=\"0 0 24 24\"\n",
              "       width=\"24px\">\n",
              "    <path d=\"M0 0h24v24H0V0z\" fill=\"none\"/>\n",
              "    <path d=\"M18.56 5.44l.94 2.06.94-2.06 2.06-.94-2.06-.94-.94-2.06-.94 2.06-2.06.94zm-11 1L8.5 8.5l.94-2.06 2.06-.94-2.06-.94L8.5 2.5l-.94 2.06-2.06.94zm10 10l.94 2.06.94-2.06 2.06-.94-2.06-.94-.94-2.06-.94 2.06-2.06.94z\"/><path d=\"M17.41 7.96l-1.37-1.37c-.4-.4-.92-.59-1.43-.59-.52 0-1.04.2-1.43.59L10.3 9.45l-7.72 7.72c-.78.78-.78 2.05 0 2.83L4 21.41c.39.39.9.59 1.41.59.51 0 1.02-.2 1.41-.59l7.78-7.78 2.81-2.81c.8-.78.8-2.07 0-2.86zM5.41 20L4 18.59l7.72-7.72 1.47 1.35L5.41 20z\"/>\n",
              "  </svg>\n",
              "      </button>\n",
              "      \n",
              "  <style>\n",
              "    .colab-df-container {\n",
              "      display:flex;\n",
              "      flex-wrap:wrap;\n",
              "      gap: 12px;\n",
              "    }\n",
              "\n",
              "    .colab-df-convert {\n",
              "      background-color: #E8F0FE;\n",
              "      border: none;\n",
              "      border-radius: 50%;\n",
              "      cursor: pointer;\n",
              "      display: none;\n",
              "      fill: #1967D2;\n",
              "      height: 32px;\n",
              "      padding: 0 0 0 0;\n",
              "      width: 32px;\n",
              "    }\n",
              "\n",
              "    .colab-df-convert:hover {\n",
              "      background-color: #E2EBFA;\n",
              "      box-shadow: 0px 1px 2px rgba(60, 64, 67, 0.3), 0px 1px 3px 1px rgba(60, 64, 67, 0.15);\n",
              "      fill: #174EA6;\n",
              "    }\n",
              "\n",
              "    [theme=dark] .colab-df-convert {\n",
              "      background-color: #3B4455;\n",
              "      fill: #D2E3FC;\n",
              "    }\n",
              "\n",
              "    [theme=dark] .colab-df-convert:hover {\n",
              "      background-color: #434B5C;\n",
              "      box-shadow: 0px 1px 3px 1px rgba(0, 0, 0, 0.15);\n",
              "      filter: drop-shadow(0px 1px 2px rgba(0, 0, 0, 0.3));\n",
              "      fill: #FFFFFF;\n",
              "    }\n",
              "  </style>\n",
              "\n",
              "      <script>\n",
              "        const buttonEl =\n",
              "          document.querySelector('#df-2c742b35-0f9a-470f-9010-c17d14d1996d button.colab-df-convert');\n",
              "        buttonEl.style.display =\n",
              "          google.colab.kernel.accessAllowed ? 'block' : 'none';\n",
              "\n",
              "        async function convertToInteractive(key) {\n",
              "          const element = document.querySelector('#df-2c742b35-0f9a-470f-9010-c17d14d1996d');\n",
              "          const dataTable =\n",
              "            await google.colab.kernel.invokeFunction('convertToInteractive',\n",
              "                                                     [key], {});\n",
              "          if (!dataTable) return;\n",
              "\n",
              "          const docLinkHtml = 'Like what you see? Visit the ' +\n",
              "            '<a target=\"_blank\" href=https://colab.research.google.com/notebooks/data_table.ipynb>data table notebook</a>'\n",
              "            + ' to learn more about interactive tables.';\n",
              "          element.innerHTML = '';\n",
              "          dataTable['output_type'] = 'display_data';\n",
              "          await google.colab.output.renderOutput(dataTable, element);\n",
              "          const docLink = document.createElement('div');\n",
              "          docLink.innerHTML = docLinkHtml;\n",
              "          element.appendChild(docLink);\n",
              "        }\n",
              "      </script>\n",
              "    </div>\n",
              "  </div>\n",
              "  "
            ]
          },
          "metadata": {},
          "execution_count": 3
        }
      ]
    },
    {
      "cell_type": "code",
      "source": [
        "df.groupby(by=['City']).sum()[['Total']].sort_values(by=\"Total\")"
      ],
      "metadata": {
        "colab": {
          "base_uri": "https://localhost:8080/",
          "height": 175
        },
        "id": "6-TloIQJddye",
        "outputId": "a2514bd6-a23f-4d58-954e-0b0b5aecf385"
      },
      "execution_count": null,
      "outputs": [
        {
          "output_type": "execute_result",
          "data": {
            "text/plain": [
              "              Total\n",
              "City               \n",
              "Riyadh  106197.6720\n",
              "Amman   106200.3705\n",
              "Dubai   110568.7065"
            ],
            "text/html": [
              "\n",
              "  <div id=\"df-b038808f-f4e2-4dfc-985f-08cb6c55d89d\">\n",
              "    <div class=\"colab-df-container\">\n",
              "      <div>\n",
              "<style scoped>\n",
              "    .dataframe tbody tr th:only-of-type {\n",
              "        vertical-align: middle;\n",
              "    }\n",
              "\n",
              "    .dataframe tbody tr th {\n",
              "        vertical-align: top;\n",
              "    }\n",
              "\n",
              "    .dataframe thead th {\n",
              "        text-align: right;\n",
              "    }\n",
              "</style>\n",
              "<table border=\"1\" class=\"dataframe\">\n",
              "  <thead>\n",
              "    <tr style=\"text-align: right;\">\n",
              "      <th></th>\n",
              "      <th>Total</th>\n",
              "    </tr>\n",
              "    <tr>\n",
              "      <th>City</th>\n",
              "      <th></th>\n",
              "    </tr>\n",
              "  </thead>\n",
              "  <tbody>\n",
              "    <tr>\n",
              "      <th>Riyadh</th>\n",
              "      <td>106197.6720</td>\n",
              "    </tr>\n",
              "    <tr>\n",
              "      <th>Amman</th>\n",
              "      <td>106200.3705</td>\n",
              "    </tr>\n",
              "    <tr>\n",
              "      <th>Dubai</th>\n",
              "      <td>110568.7065</td>\n",
              "    </tr>\n",
              "  </tbody>\n",
              "</table>\n",
              "</div>\n",
              "      <button class=\"colab-df-convert\" onclick=\"convertToInteractive('df-b038808f-f4e2-4dfc-985f-08cb6c55d89d')\"\n",
              "              title=\"Convert this dataframe to an interactive table.\"\n",
              "              style=\"display:none;\">\n",
              "        \n",
              "  <svg xmlns=\"http://www.w3.org/2000/svg\" height=\"24px\"viewBox=\"0 0 24 24\"\n",
              "       width=\"24px\">\n",
              "    <path d=\"M0 0h24v24H0V0z\" fill=\"none\"/>\n",
              "    <path d=\"M18.56 5.44l.94 2.06.94-2.06 2.06-.94-2.06-.94-.94-2.06-.94 2.06-2.06.94zm-11 1L8.5 8.5l.94-2.06 2.06-.94-2.06-.94L8.5 2.5l-.94 2.06-2.06.94zm10 10l.94 2.06.94-2.06 2.06-.94-2.06-.94-.94-2.06-.94 2.06-2.06.94z\"/><path d=\"M17.41 7.96l-1.37-1.37c-.4-.4-.92-.59-1.43-.59-.52 0-1.04.2-1.43.59L10.3 9.45l-7.72 7.72c-.78.78-.78 2.05 0 2.83L4 21.41c.39.39.9.59 1.41.59.51 0 1.02-.2 1.41-.59l7.78-7.78 2.81-2.81c.8-.78.8-2.07 0-2.86zM5.41 20L4 18.59l7.72-7.72 1.47 1.35L5.41 20z\"/>\n",
              "  </svg>\n",
              "      </button>\n",
              "      \n",
              "  <style>\n",
              "    .colab-df-container {\n",
              "      display:flex;\n",
              "      flex-wrap:wrap;\n",
              "      gap: 12px;\n",
              "    }\n",
              "\n",
              "    .colab-df-convert {\n",
              "      background-color: #E8F0FE;\n",
              "      border: none;\n",
              "      border-radius: 50%;\n",
              "      cursor: pointer;\n",
              "      display: none;\n",
              "      fill: #1967D2;\n",
              "      height: 32px;\n",
              "      padding: 0 0 0 0;\n",
              "      width: 32px;\n",
              "    }\n",
              "\n",
              "    .colab-df-convert:hover {\n",
              "      background-color: #E2EBFA;\n",
              "      box-shadow: 0px 1px 2px rgba(60, 64, 67, 0.3), 0px 1px 3px 1px rgba(60, 64, 67, 0.15);\n",
              "      fill: #174EA6;\n",
              "    }\n",
              "\n",
              "    [theme=dark] .colab-df-convert {\n",
              "      background-color: #3B4455;\n",
              "      fill: #D2E3FC;\n",
              "    }\n",
              "\n",
              "    [theme=dark] .colab-df-convert:hover {\n",
              "      background-color: #434B5C;\n",
              "      box-shadow: 0px 1px 3px 1px rgba(0, 0, 0, 0.15);\n",
              "      filter: drop-shadow(0px 1px 2px rgba(0, 0, 0, 0.3));\n",
              "      fill: #FFFFFF;\n",
              "    }\n",
              "  </style>\n",
              "\n",
              "      <script>\n",
              "        const buttonEl =\n",
              "          document.querySelector('#df-b038808f-f4e2-4dfc-985f-08cb6c55d89d button.colab-df-convert');\n",
              "        buttonEl.style.display =\n",
              "          google.colab.kernel.accessAllowed ? 'block' : 'none';\n",
              "\n",
              "        async function convertToInteractive(key) {\n",
              "          const element = document.querySelector('#df-b038808f-f4e2-4dfc-985f-08cb6c55d89d');\n",
              "          const dataTable =\n",
              "            await google.colab.kernel.invokeFunction('convertToInteractive',\n",
              "                                                     [key], {});\n",
              "          if (!dataTable) return;\n",
              "\n",
              "          const docLinkHtml = 'Like what you see? Visit the ' +\n",
              "            '<a target=\"_blank\" href=https://colab.research.google.com/notebooks/data_table.ipynb>data table notebook</a>'\n",
              "            + ' to learn more about interactive tables.';\n",
              "          element.innerHTML = '';\n",
              "          dataTable['output_type'] = 'display_data';\n",
              "          await google.colab.output.renderOutput(dataTable, element);\n",
              "          const docLink = document.createElement('div');\n",
              "          docLink.innerHTML = docLinkHtml;\n",
              "          element.appendChild(docLink);\n",
              "        }\n",
              "      </script>\n",
              "    </div>\n",
              "  </div>\n",
              "  "
            ]
          },
          "metadata": {},
          "execution_count": 5
        }
      ]
    }
  ]
}