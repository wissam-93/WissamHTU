{
  "nbformat": 4,
  "nbformat_minor": 0,
  "metadata": {
    "colab": {
      "name": "Quiz-1.ipynb",
      "provenance": [],
      "collapsed_sections": []
    },
    "kernelspec": {
      "name": "python3",
      "display_name": "Python 3"
    },
    "language_info": {
      "name": "python"
    }
  },
  "cells": [
    {
      "cell_type": "markdown",
      "metadata": {
        "id": "PVK6TOZi-y0I"
      },
      "source": [
        "Please follow the questions sequence on your quiz interface and fill in the corresponding answer."
      ]
    },
    {
      "cell_type": "markdown",
      "metadata": {
        "id": "hrPj_EBo-HAs"
      },
      "source": [
        "##Quiz 1"
      ]
    },
    {
      "cell_type": "code",
      "metadata": {
        "id": "Hb4916l0-Fp0",
        "outputId": "d24c2035-d6cb-4474-ec7e-5753ccc8addd",
        "colab": {
          "base_uri": "https://localhost:8080/"
        }
      },
      "source": [
        "#Q1 code goes here\n",
        "#......\n",
        "a,b  = 1,0\n",
        "a=  a ^ b\n",
        "b = a ^ b\n",
        "a=  a ^ b\n",
        "print(a)"
      ],
      "execution_count": 1,
      "outputs": [
        {
          "output_type": "stream",
          "text": [
            "0\n"
          ],
          "name": "stdout"
        }
      ]
    },
    {
      "cell_type": "code",
      "metadata": {
        "id": "p4M6g5fV-UjY"
      },
      "source": [
        "#Q2 code goes here\n",
        "#......\n",
        "2**2**3**1"
      ],
      "execution_count": null,
      "outputs": []
    },
    {
      "cell_type": "code",
      "metadata": {
        "id": "Kmx45kx--akf"
      },
      "source": [
        "#Q3 code goes here\n",
        "#......"
      ],
      "execution_count": null,
      "outputs": []
    },
    {
      "cell_type": "code",
      "metadata": {
        "id": "7Y7EBhQ1-fyS",
        "outputId": "6723f11f-d24f-4708-efbe-5d7230fe59cd",
        "colab": {
          "base_uri": "https://localhost:8080/"
        }
      },
      "source": [
        "#Q4 code goes here\n",
        "#......\n",
        "s1 = {'Alex', 2, 3} \n",
        "s2 = {3, 4, 5, 'Alix'}\n",
        "\n",
        "dir(s1)\n",
        "s1.union(s2)"
      ],
      "execution_count": 6,
      "outputs": [
        {
          "output_type": "execute_result",
          "data": {
            "text/plain": [
              "{2, 3, 4, 5, 'Alex', 'Alix'}"
            ]
          },
          "metadata": {
            "tags": []
          },
          "execution_count": 6
        }
      ]
    },
    {
      "cell_type": "code",
      "metadata": {
        "id": "MA7g7GDj-g9v",
        "outputId": "ffef0f9d-9260-4a20-a785-421e5fe0915c",
        "colab": {
          "base_uri": "https://localhost:8080/"
        }
      },
      "source": [
        "#Q5 code goes here\n",
        "#......\n",
        "scores = {'mohammad' : 97,'Ahmad':98 }\n",
        "if scores ['mohammad']>97:\n",
        " print('scholar')\n",
        "elif scores['Ahmad'] > 97:\n",
        "   print('topper')\n",
        "elif scores ['alex']>97:\n",
        "  print('Teacher')\n",
        "else : print('Nobody Topped')\n"
      ],
      "execution_count": 8,
      "outputs": [
        {
          "output_type": "stream",
          "text": [
            "topper\n"
          ],
          "name": "stdout"
        }
      ]
    },
    {
      "cell_type": "code",
      "metadata": {
        "id": "I12X4np--iIn"
      },
      "source": [
        "#Q6 code goes here\n",
        "#......\n",
        "\n"
      ],
      "execution_count": null,
      "outputs": []
    },
    {
      "cell_type": "code",
      "metadata": {
        "colab": {
          "base_uri": "https://localhost:8080/"
        },
        "id": "t5kocO3qNqto",
        "outputId": "8f6b0b9c-245b-4f7b-c0ff-bc820c7b868e"
      },
      "source": [
        "l = ['one','two','three',4]\n",
        "l+='Five'\n",
        "print(l)"
      ],
      "execution_count": 10,
      "outputs": [
        {
          "output_type": "stream",
          "text": [
            "['one', 'two', 'three', 4, 'F', 'i', 'v', 'e']\n"
          ],
          "name": "stdout"
        }
      ]
    },
    {
      "cell_type": "code",
      "metadata": {
        "id": "w7W1PCMQNLek"
      },
      "source": [
        ""
      ],
      "execution_count": 10,
      "outputs": []
    },
    {
      "cell_type": "code",
      "metadata": {
        "id": "0OgudXbC-jRf"
      },
      "source": [
        "#Q7 code goes here\n",
        "#......\n"
      ],
      "execution_count": null,
      "outputs": []
    },
    {
      "cell_type": "code",
      "metadata": {
        "colab": {
          "base_uri": "https://localhost:8080/",
          "height": 197
        },
        "id": "ahQnOvpGN9fJ",
        "outputId": "d7f113e8-8382-4d74-8467-01bfad644983"
      },
      "source": [
        "from random import randint\n",
        "for i in range (5,15,5):\n",
        "  print(random(1,5))"
      ],
      "execution_count": null,
      "outputs": [
        {
          "output_type": "error",
          "ename": "NameError",
          "evalue": "ignored",
          "traceback": [
            "\u001b[0;31m---------------------------------------------------------------------------\u001b[0m",
            "\u001b[0;31mNameError\u001b[0m                                 Traceback (most recent call last)",
            "\u001b[0;32m<ipython-input-22-5d9327ba1234>\u001b[0m in \u001b[0;36m<module>\u001b[0;34m()\u001b[0m\n\u001b[1;32m      1\u001b[0m \u001b[0;32mfrom\u001b[0m \u001b[0mrandom\u001b[0m \u001b[0;32mimport\u001b[0m \u001b[0mrandint\u001b[0m\u001b[0;34m\u001b[0m\u001b[0;34m\u001b[0m\u001b[0m\n\u001b[1;32m      2\u001b[0m \u001b[0;32mfor\u001b[0m \u001b[0mi\u001b[0m \u001b[0;32min\u001b[0m \u001b[0mrange\u001b[0m \u001b[0;34m(\u001b[0m\u001b[0;36m5\u001b[0m\u001b[0;34m,\u001b[0m\u001b[0;36m15\u001b[0m\u001b[0;34m,\u001b[0m\u001b[0;36m5\u001b[0m\u001b[0;34m)\u001b[0m\u001b[0;34m:\u001b[0m\u001b[0;34m\u001b[0m\u001b[0;34m\u001b[0m\u001b[0m\n\u001b[0;32m----> 3\u001b[0;31m   \u001b[0mprint\u001b[0m\u001b[0;34m(\u001b[0m\u001b[0mRandom\u001b[0m\u001b[0;34m(\u001b[0m\u001b[0;36m1\u001b[0m\u001b[0;34m,\u001b[0m\u001b[0;36m5\u001b[0m\u001b[0;34m)\u001b[0m\u001b[0;34m)\u001b[0m\u001b[0;34m\u001b[0m\u001b[0;34m\u001b[0m\u001b[0m\n\u001b[0m",
            "\u001b[0;31mNameError\u001b[0m: name 'Random' is not defined"
          ]
        }
      ]
    },
    {
      "cell_type": "code",
      "metadata": {
        "id": "GAXrIcIi-kqq"
      },
      "source": [
        "#Q8 code goes here\n",
        "#......\n",
        "\n",
        "ef func(a,b,c,d = 1):\n",
        "  return d**(a*25)\n",
        "\n",
        "print(func(a,b,c,d))\n"
      ],
      "execution_count": null,
      "outputs": []
    },
    {
      "cell_type": "code",
      "metadata": {
        "id": "s9brnp6X-oLW"
      },
      "source": [
        "#Q9 code goes here\n",
        "#......\n",
        "l =  list()\n",
        "l.append([1,2,[3,4]])\n",
        "l.extend([5,6,7])\n",
        "l.insert(0,['hello'])\n",
        "print(l)\n"
      ],
      "execution_count": null,
      "outputs": []
    },
    {
      "cell_type": "code",
      "metadata": {
        "id": "dRg-t5kh-qfd",
        "outputId": "19299b1f-52e0-43ea-b106-4a56e65e8de5",
        "colab": {
          "base_uri": "https://localhost:8080/"
        }
      },
      "source": [
        "#Q10 code goes here\n",
        "#......\n",
        "\n",
        "{1,2,3}&{4,5,6}"
      ],
      "execution_count": 11,
      "outputs": [
        {
          "output_type": "execute_result",
          "data": {
            "text/plain": [
              "set()"
            ]
          },
          "metadata": {
            "tags": []
          },
          "execution_count": 11
        }
      ]
    },
    {
      "cell_type": "code",
      "metadata": {
        "id": "Oeyo6Kl7-tCz"
      },
      "source": [
        "#Q11 code goes here\n",
        "#......"
      ],
      "execution_count": null,
      "outputs": []
    },
    {
      "cell_type": "code",
      "metadata": {
        "id": "GVUAcq57-xSu"
      },
      "source": [
        "#Q12 code goes here\n",
        "#......"
      ],
      "execution_count": null,
      "outputs": []
    }
  ]
}