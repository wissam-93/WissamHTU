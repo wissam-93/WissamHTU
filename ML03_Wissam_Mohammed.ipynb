{
  "nbformat": 4,
  "nbformat_minor": 0,
  "metadata": {
    "colab": {
      "name": "ML03_Wissam_Mohammed.ipynb",
      "provenance": [],
      "collapsed_sections": []
    },
    "kernelspec": {
      "name": "python3",
      "display_name": "Python 3"
    },
    "language_info": {
      "name": "python"
    }
  },
  "cells": [
    {
      "cell_type": "code",
      "metadata": {
        "id": "qJww8H0arJNQ"
      },
      "source": [
        "import numpy as np\n",
        "import pandas as pd\n",
        "import matplotlib.pyplot as plt\n",
        "from sklearn.compose import ColumnTransformer\n",
        "from sklearn.preprocessing import OneHotEncoder\n",
        "from sklearn.preprocessing import LabelEncoder\n",
        "from sklearn.model_selection import train_test_split\n",
        "from sklearn.preprocessing import StandardScaler\n",
        "\n",
        "df = pd.read_csv('exercise_dataset_sesion3_updated.csv')"
      ],
      "execution_count": 140,
      "outputs": []
    },
    {
      "cell_type": "markdown",
      "metadata": {
        "id": "YbZ4lx0Xpj5G"
      },
      "source": [
        "#Exploring Our Data"
      ]
    },
    {
      "cell_type": "code",
      "metadata": {
        "colab": {
          "base_uri": "https://localhost:8080/",
          "height": 200
        },
        "id": "3MjxCC2qreHp",
        "outputId": "cd086b16-0638-4f30-eb70-fb881e9ef2ce"
      },
      "source": [
        "df.head(5)"
      ],
      "execution_count": 141,
      "outputs": [
        {
          "output_type": "execute_result",
          "data": {
            "text/html": [
              "<div>\n",
              "<style scoped>\n",
              "    .dataframe tbody tr th:only-of-type {\n",
              "        vertical-align: middle;\n",
              "    }\n",
              "\n",
              "    .dataframe tbody tr th {\n",
              "        vertical-align: top;\n",
              "    }\n",
              "\n",
              "    .dataframe thead th {\n",
              "        text-align: right;\n",
              "    }\n",
              "</style>\n",
              "<table border=\"1\" class=\"dataframe\">\n",
              "  <thead>\n",
              "    <tr style=\"text-align: right;\">\n",
              "      <th></th>\n",
              "      <th>Gender</th>\n",
              "      <th>Age</th>\n",
              "      <th>Salary</th>\n",
              "      <th>Purchased</th>\n",
              "    </tr>\n",
              "  </thead>\n",
              "  <tbody>\n",
              "    <tr>\n",
              "      <th>0</th>\n",
              "      <td>Male</td>\n",
              "      <td>19.0</td>\n",
              "      <td>19000.0</td>\n",
              "      <td>NO</td>\n",
              "    </tr>\n",
              "    <tr>\n",
              "      <th>1</th>\n",
              "      <td>Female</td>\n",
              "      <td>35.0</td>\n",
              "      <td>20000.0</td>\n",
              "      <td>NO</td>\n",
              "    </tr>\n",
              "    <tr>\n",
              "      <th>2</th>\n",
              "      <td>Female</td>\n",
              "      <td>26.0</td>\n",
              "      <td>43000.0</td>\n",
              "      <td>NO</td>\n",
              "    </tr>\n",
              "    <tr>\n",
              "      <th>3</th>\n",
              "      <td>Female</td>\n",
              "      <td>NaN</td>\n",
              "      <td>57000.0</td>\n",
              "      <td>NO</td>\n",
              "    </tr>\n",
              "    <tr>\n",
              "      <th>4</th>\n",
              "      <td>Male</td>\n",
              "      <td>19.0</td>\n",
              "      <td>76000.0</td>\n",
              "      <td>NO</td>\n",
              "    </tr>\n",
              "  </tbody>\n",
              "</table>\n",
              "</div>"
            ],
            "text/plain": [
              "   Gender   Age   Salary Purchased\n",
              "0    Male  19.0  19000.0        NO\n",
              "1  Female  35.0  20000.0        NO\n",
              "2  Female  26.0  43000.0        NO\n",
              "3  Female   NaN  57000.0        NO\n",
              "4    Male  19.0  76000.0        NO"
            ]
          },
          "metadata": {
            "tags": []
          },
          "execution_count": 141
        }
      ]
    },
    {
      "cell_type": "code",
      "metadata": {
        "colab": {
          "base_uri": "https://localhost:8080/"
        },
        "id": "-gWg5KYnlyoV",
        "outputId": "08a23325-9cf6-447d-894f-40246963a8ae"
      },
      "source": [
        "df.info()"
      ],
      "execution_count": 142,
      "outputs": [
        {
          "output_type": "stream",
          "text": [
            "<class 'pandas.core.frame.DataFrame'>\n",
            "RangeIndex: 400 entries, 0 to 399\n",
            "Data columns (total 4 columns):\n",
            " #   Column     Non-Null Count  Dtype  \n",
            "---  ------     --------------  -----  \n",
            " 0   Gender     400 non-null    object \n",
            " 1   Age        388 non-null    float64\n",
            " 2   Salary     392 non-null    float64\n",
            " 3   Purchased  400 non-null    object \n",
            "dtypes: float64(2), object(2)\n",
            "memory usage: 12.6+ KB\n"
          ],
          "name": "stdout"
        }
      ]
    },
    {
      "cell_type": "code",
      "metadata": {
        "colab": {
          "base_uri": "https://localhost:8080/"
        },
        "id": "Asf-Xi7fpsi1",
        "outputId": "452451d6-467d-4a8c-9586-d09b929e54ce"
      },
      "source": [
        "df.columns"
      ],
      "execution_count": 143,
      "outputs": [
        {
          "output_type": "execute_result",
          "data": {
            "text/plain": [
              "Index(['Gender', 'Age', 'Salary', 'Purchased'], dtype='object')"
            ]
          },
          "metadata": {
            "tags": []
          },
          "execution_count": 143
        }
      ]
    },
    {
      "cell_type": "markdown",
      "metadata": {
        "id": "_mTrxHW8pzk7"
      },
      "source": [
        "##Summary for Numerical Data\n",
        "*   Summary Statistics for Numerical variables\n",
        "*   Plot Numerical variables Histogram\n",
        "\n",
        "\n",
        "\n"
      ]
    },
    {
      "cell_type": "code",
      "metadata": {
        "colab": {
          "base_uri": "https://localhost:8080/",
          "height": 290
        },
        "id": "XJSYQ2c-putZ",
        "outputId": "89a7a79c-38cd-494b-c87b-e3566e4dc883"
      },
      "source": [
        "df.describe()"
      ],
      "execution_count": 144,
      "outputs": [
        {
          "output_type": "execute_result",
          "data": {
            "text/html": [
              "<div>\n",
              "<style scoped>\n",
              "    .dataframe tbody tr th:only-of-type {\n",
              "        vertical-align: middle;\n",
              "    }\n",
              "\n",
              "    .dataframe tbody tr th {\n",
              "        vertical-align: top;\n",
              "    }\n",
              "\n",
              "    .dataframe thead th {\n",
              "        text-align: right;\n",
              "    }\n",
              "</style>\n",
              "<table border=\"1\" class=\"dataframe\">\n",
              "  <thead>\n",
              "    <tr style=\"text-align: right;\">\n",
              "      <th></th>\n",
              "      <th>Age</th>\n",
              "      <th>Salary</th>\n",
              "    </tr>\n",
              "  </thead>\n",
              "  <tbody>\n",
              "    <tr>\n",
              "      <th>count</th>\n",
              "      <td>388.000000</td>\n",
              "      <td>392.000000</td>\n",
              "    </tr>\n",
              "    <tr>\n",
              "      <th>mean</th>\n",
              "      <td>37.680412</td>\n",
              "      <td>69931.122449</td>\n",
              "    </tr>\n",
              "    <tr>\n",
              "      <th>std</th>\n",
              "      <td>10.401795</td>\n",
              "      <td>34178.227777</td>\n",
              "    </tr>\n",
              "    <tr>\n",
              "      <th>min</th>\n",
              "      <td>18.000000</td>\n",
              "      <td>15000.000000</td>\n",
              "    </tr>\n",
              "    <tr>\n",
              "      <th>25%</th>\n",
              "      <td>30.000000</td>\n",
              "      <td>43000.000000</td>\n",
              "    </tr>\n",
              "    <tr>\n",
              "      <th>50%</th>\n",
              "      <td>37.000000</td>\n",
              "      <td>70000.000000</td>\n",
              "    </tr>\n",
              "    <tr>\n",
              "      <th>75%</th>\n",
              "      <td>46.000000</td>\n",
              "      <td>88000.000000</td>\n",
              "    </tr>\n",
              "    <tr>\n",
              "      <th>max</th>\n",
              "      <td>60.000000</td>\n",
              "      <td>150000.000000</td>\n",
              "    </tr>\n",
              "  </tbody>\n",
              "</table>\n",
              "</div>"
            ],
            "text/plain": [
              "              Age         Salary\n",
              "count  388.000000     392.000000\n",
              "mean    37.680412   69931.122449\n",
              "std     10.401795   34178.227777\n",
              "min     18.000000   15000.000000\n",
              "25%     30.000000   43000.000000\n",
              "50%     37.000000   70000.000000\n",
              "75%     46.000000   88000.000000\n",
              "max     60.000000  150000.000000"
            ]
          },
          "metadata": {
            "tags": []
          },
          "execution_count": 144
        }
      ]
    },
    {
      "cell_type": "code",
      "metadata": {
        "colab": {
          "base_uri": "https://localhost:8080/",
          "height": 281
        },
        "id": "PA_74Mh3sa5g",
        "outputId": "8729f2e5-421b-46b7-d021-f681022dc97a"
      },
      "source": [
        "df[['Salary','Age']].plot(kind='hist')"
      ],
      "execution_count": 145,
      "outputs": [
        {
          "output_type": "execute_result",
          "data": {
            "text/plain": [
              "<matplotlib.axes._subplots.AxesSubplot at 0x7fc7f41cddd0>"
            ]
          },
          "metadata": {
            "tags": []
          },
          "execution_count": 145
        },
        {
          "output_type": "display_data",
          "data": {
            "image/png": "[encoded data removed]",
            "text/plain": [
              "<Figure size 432x288 with 1 Axes>"
            ]
          },
          "metadata": {
            "tags": [],
            "needs_background": "light"
          }
        }
      ]
    },
    {
      "cell_type": "markdown",
      "metadata": {
        "id": "tB7K-WutqHKt"
      },
      "source": [
        "#Summary for Nominal Data\n",
        "\n",
        "*   Count Nominal variables\n",
        "*   Plot  Nominal variables Pie Chart\n",
        "\n"
      ]
    },
    {
      "cell_type": "code",
      "metadata": {
        "colab": {
          "base_uri": "https://localhost:8080/"
        },
        "id": "eUyWbtK3qInc",
        "outputId": "4027074d-f1d7-41cf-958b-bc9df60af460"
      },
      "source": [
        "df[['Gender','Purchased']].value_counts()"
      ],
      "execution_count": 146,
      "outputs": [
        {
          "output_type": "execute_result",
          "data": {
            "text/plain": [
              "Gender  Purchased\n",
              "Female  NO           157\n",
              "Male    NO           100\n",
              "Female  YES           88\n",
              "Male    YES           55\n",
              "dtype: int64"
            ]
          },
          "metadata": {
            "tags": []
          },
          "execution_count": 146
        }
      ]
    },
    {
      "cell_type": "code",
      "metadata": {
        "colab": {
          "base_uri": "https://localhost:8080/",
          "height": 263
        },
        "id": "Q5yUvrcCs4Su",
        "outputId": "4aadb1b3-9c31-41db-d5ad-ee04d9a868f7"
      },
      "source": [
        "df[['Gender','Purchased']].value_counts().plot(kind='pie')"
      ],
      "execution_count": 147,
      "outputs": [
        {
          "output_type": "execute_result",
          "data": {
            "text/plain": [
              "<matplotlib.axes._subplots.AxesSubplot at 0x7fc7f4105050>"
            ]
          },
          "metadata": {
            "tags": []
          },
          "execution_count": 147
        },
        {
          "output_type": "display_data",
          "data": {
            "image/png": "[encoded data removed]",
            "text/plain": [
              "<Figure size 432x288 with 1 Axes>"
            ]
          },
          "metadata": {
            "tags": []
          }
        }
      ]
    },
    {
      "cell_type": "markdown",
      "metadata": {
        "id": "fazpu352nyZP"
      },
      "source": [
        "#Outliers Detection"
      ]
    },
    {
      "cell_type": "code",
      "metadata": {
        "colab": {
          "base_uri": "https://localhost:8080/",
          "height": 482
        },
        "id": "KZitBKb3k20_",
        "outputId": "b8e054a2-473c-4e6f-b198-687c489ff32b"
      },
      "source": [
        "fig, ax = plt.subplots(figsize=(16,8))\n",
        "plt.grid()\n",
        "ax.scatter(df['Age'], df['Salary'])\n",
        "plt.show()"
      ],
      "execution_count": 148,
      "outputs": [
        {
          "output_type": "display_data",
          "data": {
            "image/png": "[encoded data removed]",
            "text/plain": [
              "<Figure size 1152x576 with 1 Axes>"
            ]
          },
          "metadata": {
            "tags": [],
            "needs_background": "light"
          }
        }
      ]
    },
    {
      "cell_type": "markdown",
      "metadata": {
        "id": "uZ9v5wnCn3dh"
      },
      "source": [
        "#Identify Null Values"
      ]
    },
    {
      "cell_type": "code",
      "metadata": {
        "colab": {
          "base_uri": "https://localhost:8080/"
        },
        "id": "Z6hp2EEImHbh",
        "outputId": "54aef72c-88bb-4793-cd25-efb7d01f0a62"
      },
      "source": [
        "df.isnull().sum()"
      ],
      "execution_count": 149,
      "outputs": [
        {
          "output_type": "execute_result",
          "data": {
            "text/plain": [
              "Gender        0\n",
              "Age          12\n",
              "Salary        8\n",
              "Purchased     0\n",
              "dtype: int64"
            ]
          },
          "metadata": {
            "tags": []
          },
          "execution_count": 149
        }
      ]
    },
    {
      "cell_type": "markdown",
      "metadata": {
        "id": "6oNsec_MnlnK"
      },
      "source": [
        "#Split Independent & Dependent Columns"
      ]
    },
    {
      "cell_type": "code",
      "metadata": {
        "colab": {
          "base_uri": "https://localhost:8080/"
        },
        "id": "O_Mo3S-erjHt",
        "outputId": "e7472edb-cb37-49a1-bc13-fcde1389acee"
      },
      "source": [
        "X = df.iloc[:,:-1].values\n",
        "y = df.iloc[:,-1].values\n",
        "X"
      ],
      "execution_count": 150,
      "outputs": [
        {
          "output_type": "execute_result",
          "data": {
            "text/plain": [
              "array([['Male', 19.0, 19000.0],\n",
              "       ['Female', 35.0, 20000.0],\n",
              "       ['Female', 26.0, 43000.0],\n",
              "       ...,\n",
              "       ['Female', 50.0, 20000.0],\n",
              "       ['Male', 36.0, nan],\n",
              "       ['Female', 49.0, 36000.0]], dtype=object)"
            ]
          },
          "metadata": {
            "tags": []
          },
          "execution_count": 150
        }
      ]
    },
    {
      "cell_type": "markdown",
      "metadata": {
        "id": "vinwu7JQmMtQ"
      },
      "source": [
        "#Data Cleaning \n",
        "\n",
        "##1.   Remove Null values Replace with Mean\n",
        "\n"
      ]
    },
    {
      "cell_type": "code",
      "metadata": {
        "colab": {
          "base_uri": "https://localhost:8080/"
        },
        "id": "Z3AqMUD1ufiK",
        "outputId": "88c34c35-23e5-4583-e408-864aa0bd3878"
      },
      "source": [
        "from sklearn.impute import SimpleImputer \n",
        "imputer = SimpleImputer(missing_values = np.nan,strategy='mean')\n",
        "imputer = imputer.fit(X[:,1:3])\n",
        "X[:,1:3] = imputer.transform(X[:,1:3])\n",
        "X"
      ],
      "execution_count": 151,
      "outputs": [
        {
          "output_type": "execute_result",
          "data": {
            "text/plain": [
              "array([['Male', 19.0, 19000.0],\n",
              "       ['Female', 35.0, 20000.0],\n",
              "       ['Female', 26.0, 43000.0],\n",
              "       ...,\n",
              "       ['Female', 50.0, 20000.0],\n",
              "       ['Male', 36.0, 69931.12244897959],\n",
              "       ['Female', 49.0, 36000.0]], dtype=object)"
            ]
          },
          "metadata": {
            "tags": []
          },
          "execution_count": 151
        }
      ]
    },
    {
      "cell_type": "markdown",
      "metadata": {
        "id": "2-uHZdjbmbVS"
      },
      "source": [
        "#Encoding Categorical Variables\n",
        "\n",
        "*   Independent \n",
        "*   Dependent\n",
        "\n"
      ]
    },
    {
      "cell_type": "code",
      "metadata": {
        "id": "0ekk6v_67me4"
      },
      "source": [
        "HotEncod = OneHotEncoder()\n",
        "ct = ColumnTransformer(transformers= [('encoder',OneHotEncoder(),[0])], remainder= 'passthrough')\n",
        "X = ct.fit_transform(X)\n",
        "LabEncod = LabelEncoder()\n",
        "y = LabEncod.fit_transform(y)"
      ],
      "execution_count": 152,
      "outputs": []
    },
    {
      "cell_type": "markdown",
      "metadata": {
        "id": "fzwk0EFinTeu"
      },
      "source": [
        "#Splitting our data for Test"
      ]
    },
    {
      "cell_type": "code",
      "metadata": {
        "colab": {
          "base_uri": "https://localhost:8080/"
        },
        "id": "3xvgldax_Gif",
        "outputId": "067c3d2c-6bbc-43da-e4df-f4c70fe26fa2"
      },
      "source": [
        "train_test_split(X,y,test_size = 0.2)\n",
        "X_train, X_test, y_train, y_test = train_test_split(X,y,test_size = 0.2)\n",
        "X_train, X_test, y_train, y_test"
      ],
      "execution_count": 153,
      "outputs": [
        {
          "output_type": "execute_result",
          "data": {
            "text/plain": [
              "(array([[0.0, 1.0, 42.0, 80000.0],\n",
              "        [1.0, 0.0, 47.0, 105000.0],\n",
              "        [1.0, 0.0, 45.0, 32000.0],\n",
              "        ...,\n",
              "        [1.0, 0.0, 40.0, 47000.0],\n",
              "        [1.0, 0.0, 30.0, 87000.0],\n",
              "        [0.0, 1.0, 60.0, 42000.0]], dtype=object),\n",
              " array([[0.0, 1.0, 52.0, 114000.0],\n",
              "        [0.0, 1.0, 47.0, 25000.0],\n",
              "        [1.0, 0.0, 29.0, 43000.0],\n",
              "        [1.0, 0.0, 24.0, 58000.0],\n",
              "        [0.0, 1.0, 37.68041237113402, 71000.0],\n",
              "        [1.0, 0.0, 39.0, 134000.0],\n",
              "        [1.0, 0.0, 37.68041237113402, 44000.0],\n",
              "        [0.0, 1.0, 20.0, 36000.0],\n",
              "        [1.0, 0.0, 43.0, 112000.0],\n",
              "        [1.0, 0.0, 47.0, 107000.0],\n",
              "        [1.0, 0.0, 27.0, 84000.0],\n",
              "        [0.0, 1.0, 35.0, 65000.0],\n",
              "        [1.0, 0.0, 21.0, 88000.0],\n",
              "        [1.0, 0.0, 38.0, 50000.0],\n",
              "        [1.0, 0.0, 36.0, 54000.0],\n",
              "        [1.0, 0.0, 53.0, 82000.0],\n",
              "        [0.0, 1.0, 30.0, 89000.0],\n",
              "        [1.0, 0.0, 48.0, 29000.0],\n",
              "        [1.0, 0.0, 35.0, 57000.0],\n",
              "        [1.0, 0.0, 57.0, 26000.0],\n",
              "        [0.0, 1.0, 29.0, 61000.0],\n",
              "        [1.0, 0.0, 41.0, 72000.0],\n",
              "        [0.0, 1.0, 60.0, 34000.0],\n",
              "        [0.0, 1.0, 59.0, 42000.0],\n",
              "        [1.0, 0.0, 48.0, 33000.0],\n",
              "        [0.0, 1.0, 35.0, 97000.0],\n",
              "        [0.0, 1.0, 39.0, 122000.0],\n",
              "        [1.0, 0.0, 49.0, 89000.0],\n",
              "        [0.0, 1.0, 57.0, 122000.0],\n",
              "        [0.0, 1.0, 59.0, 143000.0],\n",
              "        [1.0, 0.0, 41.0, 51000.0],\n",
              "        [1.0, 0.0, 19.0, 25000.0],\n",
              "        [1.0, 0.0, 46.0, 28000.0],\n",
              "        [1.0, 0.0, 45.0, 45000.0],\n",
              "        [1.0, 0.0, 35.0, 79000.0],\n",
              "        [1.0, 0.0, 30.0, 17000.0],\n",
              "        [1.0, 0.0, 46.0, 22000.0],\n",
              "        [1.0, 0.0, 37.0, 33000.0],\n",
              "        [0.0, 1.0, 60.0, 102000.0],\n",
              "        [1.0, 0.0, 37.68041237113402, 88000.0],\n",
              "        [1.0, 0.0, 37.0, 80000.0],\n",
              "        [1.0, 0.0, 32.0, 117000.0],\n",
              "        [1.0, 0.0, 41.0, 52000.0],\n",
              "        [0.0, 1.0, 29.0, 83000.0],\n",
              "        [1.0, 0.0, 29.0, 83000.0],\n",
              "        [1.0, 0.0, 31.0, 74000.0],\n",
              "        [1.0, 0.0, 45.0, 131000.0],\n",
              "        [0.0, 1.0, 41.0, 30000.0],\n",
              "        [1.0, 0.0, 23.0, 66000.0],\n",
              "        [1.0, 0.0, 23.0, 28000.0],\n",
              "        [1.0, 0.0, 49.0, 28000.0],\n",
              "        [1.0, 0.0, 25.0, 33000.0],\n",
              "        [1.0, 0.0, 35.0, 39000.0],\n",
              "        [0.0, 1.0, 40.0, 71000.0],\n",
              "        [1.0, 0.0, 20.0, 86000.0],\n",
              "        [1.0, 0.0, 23.0, 20000.0],\n",
              "        [0.0, 1.0, 48.0, 119000.0],\n",
              "        [0.0, 1.0, 26.0, 15000.0],\n",
              "        [0.0, 1.0, 36.0, 144000.0],\n",
              "        [0.0, 1.0, 26.0, 86000.0],\n",
              "        [1.0, 0.0, 20.0, 82000.0],\n",
              "        [0.0, 1.0, 35.0, 108000.0],\n",
              "        [1.0, 0.0, 44.0, 39000.0],\n",
              "        [1.0, 0.0, 37.0, 93000.0],\n",
              "        [1.0, 0.0, 39.0, 61000.0],\n",
              "        [0.0, 1.0, 40.0, 59000.0],\n",
              "        [0.0, 1.0, 37.0, 80000.0],\n",
              "        [0.0, 1.0, 48.0, 141000.0],\n",
              "        [0.0, 1.0, 24.0, 89000.0],\n",
              "        [1.0, 0.0, 42.0, 73000.0],\n",
              "        [0.0, 1.0, 41.0, 80000.0],\n",
              "        [1.0, 0.0, 35.0, 55000.0],\n",
              "        [1.0, 0.0, 48.0, 30000.0],\n",
              "        [0.0, 1.0, 27.0, 20000.0],\n",
              "        [1.0, 0.0, 18.0, 52000.0],\n",
              "        [1.0, 0.0, 28.0, 55000.0],\n",
              "        [1.0, 0.0, 39.0, 71000.0],\n",
              "        [0.0, 1.0, 41.0, 72000.0],\n",
              "        [0.0, 1.0, 22.0, 63000.0],\n",
              "        [1.0, 0.0, 21.0, 16000.0]], dtype=object),\n",
              " array([0, 1, 1, 0, 0, 0, 0, 1, 0, 0, 1, 0, 0, 0, 1, 0, 1, 1, 0, 0, 0, 0,\n",
              "        1, 0, 0, 1, 1, 0, 0, 0, 0, 0, 1, 0, 0, 0, 1, 1, 0, 0, 0, 1, 0, 0,\n",
              "        1, 0, 0, 0, 0, 0, 1, 0, 0, 0, 0, 0, 1, 0, 0, 0, 1, 0, 0, 1, 0, 0,\n",
              "        1, 0, 1, 0, 0, 0, 1, 1, 1, 1, 1, 0, 1, 1, 0, 0, 0, 0, 0, 1, 1, 1,\n",
              "        0, 1, 0, 0, 1, 1, 0, 1, 0, 0, 0, 1, 0, 1, 0, 0, 0, 0, 0, 1, 1, 0,\n",
              "        0, 0, 1, 0, 1, 1, 1, 0, 0, 1, 1, 0, 0, 1, 1, 0, 0, 0, 0, 0, 0, 1,\n",
              "        1, 0, 0, 1, 1, 0, 0, 0, 0, 0, 0, 0, 1, 1, 1, 1, 0, 0, 0, 1, 1, 0,\n",
              "        0, 0, 0, 0, 0, 1, 1, 0, 0, 1, 0, 0, 1, 0, 0, 1, 1, 0, 0, 1, 0, 0,\n",
              "        0, 0, 0, 0, 0, 0, 1, 1, 0, 1, 1, 0, 0, 1, 1, 1, 0, 0, 0, 1, 1, 1,\n",
              "        1, 1, 0, 0, 0, 1, 0, 0, 0, 0, 0, 0, 0, 1, 1, 0, 0, 0, 0, 1, 0, 1,\n",
              "        0, 0, 1, 0, 0, 1, 1, 0, 1, 1, 1, 0, 0, 1, 0, 0, 0, 0, 0, 0, 1, 1,\n",
              "        0, 0, 0, 1, 0, 0, 1, 1, 1, 1, 1, 0, 0, 0, 0, 0, 1, 0, 0, 0, 1, 1,\n",
              "        0, 0, 0, 0, 0, 0, 0, 0, 1, 1, 0, 0, 1, 0, 1, 1, 1, 1, 0, 0, 0, 0,\n",
              "        0, 0, 0, 0, 0, 0, 1, 0, 0, 1, 0, 1, 1, 1, 0, 0, 1, 1, 0, 0, 0, 1,\n",
              "        0, 0, 0, 1, 0, 0, 0, 1, 0, 0, 0, 1]),\n",
              " array([0, 1, 0, 0, 0, 1, 0, 0, 1, 1, 0, 0, 0, 0, 0, 1, 0, 1, 0, 1, 0, 0,\n",
              "        1, 0, 1, 1, 1, 1, 1, 1, 0, 0, 1, 1, 0, 0, 0, 0, 1, 1, 0, 0, 0, 0,\n",
              "        0, 0, 1, 0, 0, 0, 1, 0, 0, 1, 0, 0, 1, 0, 1, 0, 0, 0, 0, 1, 0, 0,\n",
              "        0, 0, 0, 1, 0, 0, 1, 0, 0, 0, 0, 0, 0, 0]))"
            ]
          },
          "metadata": {
            "tags": []
          },
          "execution_count": 153
        }
      ]
    },
    {
      "cell_type": "markdown",
      "metadata": {
        "id": "y734_1jsofVo"
      },
      "source": [
        "#Standard Scaler for Variables"
      ]
    },
    {
      "cell_type": "code",
      "metadata": {
        "colab": {
          "base_uri": "https://localhost:8080/"
        },
        "id": "zzm2oc2e_Qhw",
        "outputId": "7293482f-26d5-44b8-cbf6-dc614552886c"
      },
      "source": [
        "sc = StandardScaler()\n",
        "X_train[:,3:] = sc.fit_transform(X_train[:,3:])\n",
        "X_train"
      ],
      "execution_count": 154,
      "outputs": [
        {
          "output_type": "execute_result",
          "data": {
            "text/plain": [
              "array([[0.0, 1.0, 42.0, 0.2800948849626893],\n",
              "       [1.0, 0.0, 47.0, 1.0209516483573189],\n",
              "       [1.0, 0.0, 45.0, -1.1423501007549994],\n",
              "       ...,\n",
              "       [1.0, 0.0, 40.0, -0.6978360427182217],\n",
              "       [1.0, 0.0, 30.0, 0.48753477871318557],\n",
              "       [0.0, 1.0, 60.0, -0.8460073953971476]], dtype=object)"
            ]
          },
          "metadata": {
            "tags": []
          },
          "execution_count": 154
        }
      ]
    },
    {
      "cell_type": "code",
      "metadata": {
        "colab": {
          "base_uri": "https://localhost:8080/"
        },
        "id": "lZ0OvH8r_U6C",
        "outputId": "b9aeaad3-6dbd-4484-b580-0c2fc4d17164"
      },
      "source": [
        "X_test[:,3:] = sc.transform(X_test[:,3:])\n",
        "X_test"
      ],
      "execution_count": 155,
      "outputs": [
        {
          "output_type": "execute_result",
          "data": {
            "text/plain": [
              "array([[0.0, 1.0, 52.0, 1.2876600831793856],\n",
              "       [0.0, 1.0, 47.0, -1.3497899945054959],\n",
              "       [1.0, 0.0, 29.0, -0.8163731248613625],\n",
              "       [1.0, 0.0, 24.0, -0.37185906682458475],\n",
              "       [0.0, 1.0, 37.68041237113402, 0.01338645014062265],\n",
              "       [1.0, 0.0, 39.0, 1.8803454938950892],\n",
              "       [1.0, 0.0, 37.68041237113402, -0.7867388543255773],\n",
              "       [0.0, 1.0, 20.0, -1.0238130186118588],\n",
              "       [1.0, 0.0, 43.0, 1.228391542107815],\n",
              "       [1.0, 0.0, 47.0, 1.0802201894288892],\n",
              "       [1.0, 0.0, 27.0, 0.39863196710583004],\n",
              "       [0.0, 1.0, 35.0, -0.16441917307408846],\n",
              "       [1.0, 0.0, 21.0, 0.5171690492489708],\n",
              "       [1.0, 0.0, 38.0, -0.6089332311108662],\n",
              "       [1.0, 0.0, 36.0, -0.4903961489677255],\n",
              "       [1.0, 0.0, 53.0, 0.3393634260342597],\n",
              "       [0.0, 1.0, 30.0, 0.5468033197847559],\n",
              "       [1.0, 0.0, 48.0, -1.231252912362355],\n",
              "       [1.0, 0.0, 35.0, -0.4014933373603699],\n",
              "       [1.0, 0.0, 57.0, -1.3201557239697106],\n",
              "       [0.0, 1.0, 29.0, -0.28295625521722917],\n",
              "       [1.0, 0.0, 41.0, 0.04302072067640783],\n",
              "       [0.0, 1.0, 60.0, -1.0830815596834291],\n",
              "       [0.0, 1.0, 59.0, -0.8460073953971476],\n",
              "       [1.0, 0.0, 48.0, -1.1127158302192144],\n",
              "       [0.0, 1.0, 35.0, 0.7838774840710374],\n",
              "       [0.0, 1.0, 39.0, 1.524734247465667],\n",
              "       [1.0, 0.0, 49.0, 0.5468033197847559],\n",
              "       [0.0, 1.0, 57.0, 1.524734247465667],\n",
              "       [0.0, 1.0, 59.0, 2.1470539287171557],\n",
              "       [1.0, 0.0, 41.0, -0.579298960575081],\n",
              "       [1.0, 0.0, 19.0, -1.3497899945054959],\n",
              "       [1.0, 0.0, 46.0, -1.2608871828981403],\n",
              "       [1.0, 0.0, 45.0, -0.7571045837897922],\n",
              "       [1.0, 0.0, 35.0, 0.2504606144269041],\n",
              "       [1.0, 0.0, 30.0, -1.5868641587917773],\n",
              "       [1.0, 0.0, 46.0, -1.4386928061128514],\n",
              "       [1.0, 0.0, 37.0, -1.1127158302192144],\n",
              "       [0.0, 1.0, 60.0, 0.9320488367499633],\n",
              "       [1.0, 0.0, 37.68041237113402, 0.5171690492489708],\n",
              "       [1.0, 0.0, 37.0, 0.2800948849626893],\n",
              "       [1.0, 0.0, 32.0, 1.376562894786741],\n",
              "       [1.0, 0.0, 41.0, -0.5496646900392959],\n",
              "       [0.0, 1.0, 29.0, 0.36899769657004483],\n",
              "       [1.0, 0.0, 29.0, 0.36899769657004483],\n",
              "       [1.0, 0.0, 31.0, 0.1022892617479782],\n",
              "       [1.0, 0.0, 45.0, 1.7914426822877336],\n",
              "       [0.0, 1.0, 41.0, -1.20161864182657],\n",
              "       [1.0, 0.0, 23.0, -0.13478490253830328],\n",
              "       [1.0, 0.0, 23.0, -1.2608871828981403],\n",
              "       [1.0, 0.0, 49.0, -1.2608871828981403],\n",
              "       [1.0, 0.0, 25.0, -1.1127158302192144],\n",
              "       [1.0, 0.0, 35.0, -0.9349102070045032],\n",
              "       [0.0, 1.0, 40.0, 0.01338645014062265],\n",
              "       [1.0, 0.0, 20.0, 0.4579005081774004],\n",
              "       [1.0, 0.0, 23.0, -1.4979613471844218],\n",
              "       [0.0, 1.0, 48.0, 1.4358314358583115],\n",
              "       [0.0, 1.0, 26.0, -1.6461326998633476],\n",
              "       [0.0, 1.0, 36.0, 2.176688199252941],\n",
              "       [0.0, 1.0, 26.0, 0.4579005081774004],\n",
              "       [1.0, 0.0, 20.0, 0.3393634260342597],\n",
              "       [0.0, 1.0, 35.0, 1.1098544599646745],\n",
              "       [1.0, 0.0, 44.0, -0.9349102070045032],\n",
              "       [1.0, 0.0, 37.0, 0.6653404019278967],\n",
              "       [1.0, 0.0, 39.0, -0.28295625521722917],\n",
              "       [0.0, 1.0, 40.0, -0.34222479628879954],\n",
              "       [0.0, 1.0, 37.0, 0.2800948849626893],\n",
              "       [0.0, 1.0, 48.0, 2.0877853876455856],\n",
              "       [0.0, 1.0, 24.0, 0.5468033197847559],\n",
              "       [1.0, 0.0, 42.0, 0.07265499121219302],\n",
              "       [0.0, 1.0, 41.0, 0.2800948849626893],\n",
              "       [1.0, 0.0, 35.0, -0.4607618784319403],\n",
              "       [1.0, 0.0, 48.0, -1.20161864182657],\n",
              "       [0.0, 1.0, 27.0, -1.4979613471844218],\n",
              "       [1.0, 0.0, 18.0, -0.5496646900392959],\n",
              "       [1.0, 0.0, 28.0, -0.4607618784319403],\n",
              "       [1.0, 0.0, 39.0, 0.01338645014062265],\n",
              "       [0.0, 1.0, 41.0, 0.04302072067640783],\n",
              "       [0.0, 1.0, 22.0, -0.22368771414565883],\n",
              "       [1.0, 0.0, 21.0, -1.6164984293275624]], dtype=object)"
            ]
          },
          "metadata": {
            "tags": []
          },
          "execution_count": 155
        }
      ]
    }
  ]
}