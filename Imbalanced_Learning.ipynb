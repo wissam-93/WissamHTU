{
  "nbformat": 4,
  "nbformat_minor": 0,
  "metadata": {
    "colab": {
      "name": "Imbalanced Learning.ipynb",
      "provenance": [],
      "collapsed_sections": [],
      "toc_visible": true
    },
    "kernelspec": {
      "name": "python3",
      "display_name": "Python 3"
    },
    "language_info": {
      "name": "python"
    }
  },
  "cells": [
    {
      "cell_type": "markdown",
      "metadata": {
        "id": "yTs5s8DOCWAJ"
      },
      "source": [
        "# Import Libraries"
      ]
    },
    {
      "cell_type": "code",
      "metadata": {
        "colab": {
          "base_uri": "https://localhost:8080/"
        },
        "id": "avBIM2iXsakG",
        "outputId": "5152525d-ce46-40d3-f8b6-2459cc78b7fd"
      },
      "source": [
        "import pandas as pd\n",
        "import numpy as np\n",
        "from sklearn.preprocessing import StandardScaler\n",
        "from sklearn.compose import ColumnTransformer\n",
        "from sklearn.preprocessing import OneHotEncoder\n",
        "from sklearn.preprocessing import LabelEncoder\n",
        "from sklearn.model_selection import cross_validate\n",
        "from sklearn.dummy import DummyClassifier\n",
        "from sklearn.linear_model import LogisticRegression\n",
        "from sklearn.ensemble import RandomForestClassifier\n",
        "from sklearn.linear_model import LogisticRegression\n",
        "from sklearn.ensemble import RandomForestClassifier\n",
        "from imblearn.under_sampling import RandomUnderSampler\n",
        "from imblearn.over_sampling import SMOTE\n"
      ],
      "execution_count": 1,
      "outputs": [
        {
          "output_type": "stream",
          "name": "stderr",
          "text": [
            "/usr/local/lib/python3.7/dist-packages/sklearn/externals/six.py:31: FutureWarning: The module is deprecated in version 0.21 and will be removed in version 0.23 since we've dropped support for Python 2.7. Please rely on the official version of six (https://pypi.org/project/six/).\n",
            "  \"(https://pypi.org/project/six/).\", FutureWarning)\n",
            "/usr/local/lib/python3.7/dist-packages/sklearn/utils/deprecation.py:144: FutureWarning: The sklearn.neighbors.base module is  deprecated in version 0.22 and will be removed in version 0.24. The corresponding classes / functions should instead be imported from sklearn.neighbors. Anything that cannot be imported from sklearn.neighbors is now part of the private API.\n",
            "  warnings.warn(message, FutureWarning)\n"
          ]
        }
      ]
    },
    {
      "cell_type": "markdown",
      "metadata": {
        "id": "jCYjo7hSCcCd"
      },
      "source": [
        "# Load the data"
      ]
    },
    {
      "cell_type": "code",
      "metadata": {
        "colab": {
          "base_uri": "https://localhost:8080/",
          "height": 360
        },
        "id": "bGOZf6cKtHUM",
        "outputId": "3e71ce10-19a7-4811-f246-2633a702fc2f"
      },
      "source": [
        "df0 = pd.read_csv('/content/ImbalancedDataset_v2.csv')\n",
        "df0.head()"
      ],
      "execution_count": 2,
      "outputs": [
        {
          "output_type": "execute_result",
          "data": {
            "text/html": [
              "<div>\n",
              "<style scoped>\n",
              "    .dataframe tbody tr th:only-of-type {\n",
              "        vertical-align: middle;\n",
              "    }\n",
              "\n",
              "    .dataframe tbody tr th {\n",
              "        vertical-align: top;\n",
              "    }\n",
              "\n",
              "    .dataframe thead th {\n",
              "        text-align: right;\n",
              "    }\n",
              "</style>\n",
              "<table border=\"1\" class=\"dataframe\">\n",
              "  <thead>\n",
              "    <tr style=\"text-align: right;\">\n",
              "      <th></th>\n",
              "      <th>age</th>\n",
              "      <th>workclass</th>\n",
              "      <th>education</th>\n",
              "      <th>marital-status</th>\n",
              "      <th>occupation</th>\n",
              "      <th>relationship</th>\n",
              "      <th>race</th>\n",
              "      <th>sex</th>\n",
              "      <th>capital-gain</th>\n",
              "      <th>capital-loss</th>\n",
              "      <th>hours-per-week</th>\n",
              "      <th>native-country</th>\n",
              "      <th>SalaryBraket</th>\n",
              "    </tr>\n",
              "  </thead>\n",
              "  <tbody>\n",
              "    <tr>\n",
              "      <th>0</th>\n",
              "      <td>25</td>\n",
              "      <td>Private</td>\n",
              "      <td>11th</td>\n",
              "      <td>Never-married</td>\n",
              "      <td>Machine-op-inspct</td>\n",
              "      <td>Own-child</td>\n",
              "      <td>Black</td>\n",
              "      <td>Male</td>\n",
              "      <td>0</td>\n",
              "      <td>0</td>\n",
              "      <td>40</td>\n",
              "      <td>United-States</td>\n",
              "      <td>&lt;=50K</td>\n",
              "    </tr>\n",
              "    <tr>\n",
              "      <th>1</th>\n",
              "      <td>38</td>\n",
              "      <td>Private</td>\n",
              "      <td>HS-grad</td>\n",
              "      <td>Married-civ-spouse</td>\n",
              "      <td>Farming-fishing</td>\n",
              "      <td>Husband</td>\n",
              "      <td>White</td>\n",
              "      <td>Male</td>\n",
              "      <td>0</td>\n",
              "      <td>0</td>\n",
              "      <td>50</td>\n",
              "      <td>United-States</td>\n",
              "      <td>&lt;=50K</td>\n",
              "    </tr>\n",
              "    <tr>\n",
              "      <th>2</th>\n",
              "      <td>18</td>\n",
              "      <td>NaN</td>\n",
              "      <td>Some-college</td>\n",
              "      <td>Never-married</td>\n",
              "      <td>NaN</td>\n",
              "      <td>Own-child</td>\n",
              "      <td>White</td>\n",
              "      <td>Female</td>\n",
              "      <td>0</td>\n",
              "      <td>0</td>\n",
              "      <td>30</td>\n",
              "      <td>United-States</td>\n",
              "      <td>&lt;=50K</td>\n",
              "    </tr>\n",
              "    <tr>\n",
              "      <th>3</th>\n",
              "      <td>34</td>\n",
              "      <td>Private</td>\n",
              "      <td>10th</td>\n",
              "      <td>Never-married</td>\n",
              "      <td>Other-service</td>\n",
              "      <td>Not-in-family</td>\n",
              "      <td>White</td>\n",
              "      <td>Male</td>\n",
              "      <td>0</td>\n",
              "      <td>0</td>\n",
              "      <td>30</td>\n",
              "      <td>United-States</td>\n",
              "      <td>&lt;=50K</td>\n",
              "    </tr>\n",
              "    <tr>\n",
              "      <th>4</th>\n",
              "      <td>29</td>\n",
              "      <td>NaN</td>\n",
              "      <td>HS-grad</td>\n",
              "      <td>Never-married</td>\n",
              "      <td>NaN</td>\n",
              "      <td>Unmarried</td>\n",
              "      <td>Black</td>\n",
              "      <td>Male</td>\n",
              "      <td>0</td>\n",
              "      <td>0</td>\n",
              "      <td>40</td>\n",
              "      <td>United-States</td>\n",
              "      <td>&lt;=50K</td>\n",
              "    </tr>\n",
              "  </tbody>\n",
              "</table>\n",
              "</div>"
            ],
            "text/plain": [
              "   age workclass     education  ... hours-per-week native-country SalaryBraket\n",
              "0   25   Private          11th  ...             40  United-States        <=50K\n",
              "1   38   Private       HS-grad  ...             50  United-States        <=50K\n",
              "2   18       NaN  Some-college  ...             30  United-States        <=50K\n",
              "3   34   Private          10th  ...             30  United-States        <=50K\n",
              "4   29       NaN       HS-grad  ...             40  United-States        <=50K\n",
              "\n",
              "[5 rows x 13 columns]"
            ]
          },
          "metadata": {},
          "execution_count": 2
        }
      ]
    },
    {
      "cell_type": "markdown",
      "metadata": {
        "id": "ZKEuxWotwqYs"
      },
      "source": [
        "# Dealing with Missing Values"
      ]
    },
    {
      "cell_type": "code",
      "metadata": {
        "colab": {
          "base_uri": "https://localhost:8080/",
          "height": 377
        },
        "id": "25DdNQjatK-r",
        "outputId": "0b7fb031-b154-4309-c19c-2c1550b596cd"
      },
      "source": [
        "df0.drop(index = df0[df0.isnull().any(axis=1)].index, inplace = True)\n",
        "df0.reset_index(drop = True, inplace = True)\n",
        "df0.head()"
      ],
      "execution_count": 3,
      "outputs": [
        {
          "output_type": "execute_result",
          "data": {
            "text/html": [
              "<div>\n",
              "<style scoped>\n",
              "    .dataframe tbody tr th:only-of-type {\n",
              "        vertical-align: middle;\n",
              "    }\n",
              "\n",
              "    .dataframe tbody tr th {\n",
              "        vertical-align: top;\n",
              "    }\n",
              "\n",
              "    .dataframe thead th {\n",
              "        text-align: right;\n",
              "    }\n",
              "</style>\n",
              "<table border=\"1\" class=\"dataframe\">\n",
              "  <thead>\n",
              "    <tr style=\"text-align: right;\">\n",
              "      <th></th>\n",
              "      <th>age</th>\n",
              "      <th>workclass</th>\n",
              "      <th>education</th>\n",
              "      <th>marital-status</th>\n",
              "      <th>occupation</th>\n",
              "      <th>relationship</th>\n",
              "      <th>race</th>\n",
              "      <th>sex</th>\n",
              "      <th>capital-gain</th>\n",
              "      <th>capital-loss</th>\n",
              "      <th>hours-per-week</th>\n",
              "      <th>native-country</th>\n",
              "      <th>SalaryBraket</th>\n",
              "    </tr>\n",
              "  </thead>\n",
              "  <tbody>\n",
              "    <tr>\n",
              "      <th>0</th>\n",
              "      <td>25</td>\n",
              "      <td>Private</td>\n",
              "      <td>11th</td>\n",
              "      <td>Never-married</td>\n",
              "      <td>Machine-op-inspct</td>\n",
              "      <td>Own-child</td>\n",
              "      <td>Black</td>\n",
              "      <td>Male</td>\n",
              "      <td>0</td>\n",
              "      <td>0</td>\n",
              "      <td>40</td>\n",
              "      <td>United-States</td>\n",
              "      <td>&lt;=50K</td>\n",
              "    </tr>\n",
              "    <tr>\n",
              "      <th>1</th>\n",
              "      <td>38</td>\n",
              "      <td>Private</td>\n",
              "      <td>HS-grad</td>\n",
              "      <td>Married-civ-spouse</td>\n",
              "      <td>Farming-fishing</td>\n",
              "      <td>Husband</td>\n",
              "      <td>White</td>\n",
              "      <td>Male</td>\n",
              "      <td>0</td>\n",
              "      <td>0</td>\n",
              "      <td>50</td>\n",
              "      <td>United-States</td>\n",
              "      <td>&lt;=50K</td>\n",
              "    </tr>\n",
              "    <tr>\n",
              "      <th>2</th>\n",
              "      <td>34</td>\n",
              "      <td>Private</td>\n",
              "      <td>10th</td>\n",
              "      <td>Never-married</td>\n",
              "      <td>Other-service</td>\n",
              "      <td>Not-in-family</td>\n",
              "      <td>White</td>\n",
              "      <td>Male</td>\n",
              "      <td>0</td>\n",
              "      <td>0</td>\n",
              "      <td>30</td>\n",
              "      <td>United-States</td>\n",
              "      <td>&lt;=50K</td>\n",
              "    </tr>\n",
              "    <tr>\n",
              "      <th>3</th>\n",
              "      <td>24</td>\n",
              "      <td>Private</td>\n",
              "      <td>Some-college</td>\n",
              "      <td>Never-married</td>\n",
              "      <td>Other-service</td>\n",
              "      <td>Unmarried</td>\n",
              "      <td>White</td>\n",
              "      <td>Female</td>\n",
              "      <td>0</td>\n",
              "      <td>0</td>\n",
              "      <td>40</td>\n",
              "      <td>United-States</td>\n",
              "      <td>&lt;=50K</td>\n",
              "    </tr>\n",
              "    <tr>\n",
              "      <th>4</th>\n",
              "      <td>55</td>\n",
              "      <td>Private</td>\n",
              "      <td>7th-8th</td>\n",
              "      <td>Married-civ-spouse</td>\n",
              "      <td>Craft-repair</td>\n",
              "      <td>Husband</td>\n",
              "      <td>White</td>\n",
              "      <td>Male</td>\n",
              "      <td>0</td>\n",
              "      <td>0</td>\n",
              "      <td>10</td>\n",
              "      <td>United-States</td>\n",
              "      <td>&lt;=50K</td>\n",
              "    </tr>\n",
              "  </tbody>\n",
              "</table>\n",
              "</div>"
            ],
            "text/plain": [
              "   age workclass     education  ... hours-per-week native-country SalaryBraket\n",
              "0   25   Private          11th  ...             40  United-States        <=50K\n",
              "1   38   Private       HS-grad  ...             50  United-States        <=50K\n",
              "2   34   Private          10th  ...             30  United-States        <=50K\n",
              "3   24   Private  Some-college  ...             40  United-States        <=50K\n",
              "4   55   Private       7th-8th  ...             10  United-States        <=50K\n",
              "\n",
              "[5 rows x 13 columns]"
            ]
          },
          "metadata": {},
          "execution_count": 3
        }
      ]
    },
    {
      "cell_type": "markdown",
      "metadata": {
        "id": "Go5E-Y0Qx8A_"
      },
      "source": [
        "# Scaling Numerical Values"
      ]
    },
    {
      "cell_type": "code",
      "metadata": {
        "id": "EeR34pv5vfwl"
      },
      "source": [
        "X = df0.iloc[:,:-1].values\n",
        "y = df0.iloc[:,-1].values\n",
        "\n",
        "sc  = StandardScaler()\n",
        "X[:,[0,8,9,10]] = sc.fit_transform(X[:,[0,8,9,10]])"
      ],
      "execution_count": 4,
      "outputs": []
    },
    {
      "cell_type": "markdown",
      "metadata": {
        "id": "0IWfJsHqyZl6"
      },
      "source": [
        "# Encoding Categorical Data"
      ]
    },
    {
      "cell_type": "code",
      "metadata": {
        "id": "XALSWmWvyMmK"
      },
      "source": [
        "ct = ColumnTransformer(transformers=[('encoder', OneHotEncoder(), [1,2,3,4,5,6,7,11])], remainder='passthrough')\n",
        "X = ct.fit_transform(X)"
      ],
      "execution_count": 5,
      "outputs": []
    },
    {
      "cell_type": "markdown",
      "metadata": {
        "id": "Ga2TTiI1y2zh"
      },
      "source": [
        "# Encoding Dependent Variable"
      ]
    },
    {
      "cell_type": "code",
      "metadata": {
        "id": "897qrS3WysPw"
      },
      "source": [
        "le = LabelEncoder()\n",
        "y = le.fit_transform(y)"
      ],
      "execution_count": 6,
      "outputs": []
    },
    {
      "cell_type": "markdown",
      "metadata": {
        "id": "kWw22OybzJcL"
      },
      "source": [
        "# Training Dummy Classifier "
      ]
    },
    {
      "cell_type": "code",
      "metadata": {
        "colab": {
          "base_uri": "https://localhost:8080/"
        },
        "id": "N8fHBTs9y9MA",
        "outputId": "b02230cc-8b0a-4ed4-9c7c-76d13b66e110"
      },
      "source": [
        "clf_dummy = DummyClassifier(strategy=\"most_frequent\")\n",
        "scoring = [\"accuracy\", \"balanced_accuracy\"]\n",
        "cv_result = cross_validate(clf_dummy, X, y, scoring = scoring)\n",
        "\n",
        "print(f\"Accuracy score of a dummy classifier: {cv_result['test_accuracy'].mean():0.4f}\")\n",
        "print(f\"Balanced accuracy score of a dummy classifier: {cv_result['test_balanced_accuracy'].mean():0.3f}\")"
      ],
      "execution_count": 7,
      "outputs": [
        {
          "output_type": "stream",
          "name": "stdout",
          "text": [
            "Accuracy score of a dummy classifier: 0.9663\n",
            "Balanced accuracy score of a dummy classifier: 0.500\n"
          ]
        }
      ]
    },
    {
      "cell_type": "markdown",
      "metadata": {
        "id": "5CRLhDyc1cTa"
      },
      "source": [
        "# Train Logistic Regression"
      ]
    },
    {
      "cell_type": "code",
      "metadata": {
        "colab": {
          "base_uri": "https://localhost:8080/"
        },
        "id": "VZLQ-rgF05z4",
        "outputId": "bd14535c-a879-4026-efa0-584e611aa5ce"
      },
      "source": [
        "logestic_regression_cl = LogisticRegression(max_iter=1000)\n",
        "cv_result = cross_validate(logestic_regression_cl, X, y, scoring = scoring)\n",
        "print(f\"Accuracy score of a Logestic Regression classifier: {cv_result['test_accuracy'].mean():0.4f}\")\n",
        "print(f\"Balanced accuracy score of a Logestic Regression classifier: {cv_result['test_balanced_accuracy'].mean():0.3f}\")"
      ],
      "execution_count": 8,
      "outputs": [
        {
          "output_type": "stream",
          "name": "stdout",
          "text": [
            "Accuracy score of a Logestic Regression classifier: 0.9699\n",
            "Balanced accuracy score of a Logestic Regression classifier: 0.577\n"
          ]
        }
      ]
    },
    {
      "cell_type": "markdown",
      "metadata": {
        "id": "fxLm-aWs5iq3"
      },
      "source": [
        "# Random Forest Classifier"
      ]
    },
    {
      "cell_type": "code",
      "metadata": {
        "colab": {
          "base_uri": "https://localhost:8080/"
        },
        "id": "AZL2fsKq2uvc",
        "outputId": "22cebb9a-1fb9-4e9d-c7a6-3c67b477baf5"
      },
      "source": [
        "RandomForest_cl = RandomForestClassifier()\n",
        "cv_result = cross_validate(RandomForest_cl, X, y, scoring = scoring)\n",
        "\n",
        "print(f\"Accuracy score of a Random Forest classifier: {cv_result['test_accuracy'].mean():0.4f}\")\n",
        "print(f\"Balanced accuracy score of a Random Forest classifier: {cv_result['test_balanced_accuracy'].mean():0.3f}\")"
      ],
      "execution_count": 9,
      "outputs": [
        {
          "output_type": "stream",
          "name": "stdout",
          "text": [
            "Accuracy score of a Random Forest classifier: 0.9678\n",
            "Balanced accuracy score of a Random Forest classifier: 0.626\n"
          ]
        }
      ]
    },
    {
      "cell_type": "markdown",
      "metadata": {
        "id": "_ZOdxwSv5mS0"
      },
      "source": [
        "# Let's see the case of Logestic Regression with class_weight"
      ]
    },
    {
      "cell_type": "code",
      "metadata": {
        "colab": {
          "base_uri": "https://localhost:8080/"
        },
        "id": "jVcScaa25qtl",
        "outputId": "a6418101-6fd1-48cb-e79e-3dd93d6f7e9c"
      },
      "source": [
        "logestic_regression_cl = LogisticRegression(max_iter=1000, class_weight= 'balanced')\n",
        "cv_result = cross_validate(logestic_regression_cl, X, y, scoring = scoring)\n",
        "print(f\"Accuracy score of a Logestic Regression classifier with class_weight: {cv_result['test_accuracy'].mean():0.4f}\")\n",
        "print(f\"Balanced accuracy score of a Logestic Regression classifier with class_weight: {cv_result['test_balanced_accuracy'].mean():0.3f}\")"
      ],
      "execution_count": 10,
      "outputs": [
        {
          "output_type": "stream",
          "name": "stdout",
          "text": [
            "Accuracy score of a Logestic Regression classifier with class_weight: 0.7943\n",
            "Balanced accuracy score of a Logestic Regression classifier with class_weight: 0.812\n"
          ]
        }
      ]
    },
    {
      "cell_type": "markdown",
      "metadata": {
        "id": "FQ1N68_N5rGd"
      },
      "source": [
        "# Random Forest Classifier with class_weight"
      ]
    },
    {
      "cell_type": "code",
      "metadata": {
        "colab": {
          "base_uri": "https://localhost:8080/"
        },
        "id": "_r_xdzNC9n47",
        "outputId": "133f8c02-2f75-4126-8ec8-6ee9037a715d"
      },
      "source": [
        "RandomForest_cl = RandomForestClassifier(class_weight= 'balanced')\n",
        "cv_result = cross_validate(RandomForest_cl, X, y, scoring = scoring)\n",
        "\n",
        "print(f\"Accuracy score of a Random Forest classifier with class_weight: {cv_result['test_accuracy'].mean():0.4f}\")\n",
        "print(f\"Balanced accuracy score of a Random Forest classifier with class_weight: {cv_result['test_balanced_accuracy'].mean():0.3f}\")"
      ],
      "execution_count": 11,
      "outputs": [
        {
          "output_type": "stream",
          "name": "stdout",
          "text": [
            "Accuracy score of a Random Forest classifier with class_weight: 0.9591\n",
            "Balanced accuracy score of a Random Forest classifier with class_weight: 0.623\n"
          ]
        }
      ]
    },
    {
      "cell_type": "markdown",
      "metadata": {
        "id": "wgRkZZ5c5vr1"
      },
      "source": [
        "# Using Undersampling - Logistic Regression\n"
      ]
    },
    {
      "cell_type": "code",
      "metadata": {
        "colab": {
          "base_uri": "https://localhost:8080/"
        },
        "id": "5qfbRsNY51Or",
        "outputId": "038a37f2-32d2-4cb4-9160-615f7cf5ad22"
      },
      "source": [
        "random_sampler = RandomUnderSampler()\n",
        "X_res, y_res = random_sampler.fit_resample(X,y)\n",
        "\n",
        "logestic_regression_cl = LogisticRegression(max_iter=1000, class_weight= 'balanced')\n",
        "cv_result = cross_validate(logestic_regression_cl, X_res, y_res, scoring = scoring)\n",
        "print(f\"Accuracy score of a Logestic Regression classifier with under sampling and class_weight: {cv_result['test_accuracy'].mean():0.4f}\")\n",
        "print(f\"Balanced accuracy score of a Logestic Regression classifier with under sampling and class_weight: {cv_result['test_balanced_accuracy'].mean():0.3f}\")"
      ],
      "execution_count": 12,
      "outputs": [
        {
          "output_type": "stream",
          "name": "stderr",
          "text": [
            "/usr/local/lib/python3.7/dist-packages/sklearn/utils/deprecation.py:87: FutureWarning: Function safe_indexing is deprecated; safe_indexing is deprecated in version 0.22 and will be removed in version 0.24.\n",
            "  warnings.warn(msg, category=FutureWarning)\n"
          ]
        },
        {
          "output_type": "stream",
          "name": "stdout",
          "text": [
            "Accuracy score of a Logestic Regression classifier with under sampling and class_weight: 0.8113\n",
            "Balanced accuracy score of a Logestic Regression classifier with under sampling and class_weight: 0.811\n"
          ]
        }
      ]
    },
    {
      "cell_type": "markdown",
      "metadata": {
        "id": "PVYeJRl557OV"
      },
      "source": [
        "# Using Undersampling - Random Forest"
      ]
    },
    {
      "cell_type": "code",
      "metadata": {
        "colab": {
          "base_uri": "https://localhost:8080/"
        },
        "id": "eePdIvJX59nn",
        "outputId": "d610176c-ca00-457c-8a12-69f4b5679d6a"
      },
      "source": [
        "RandomForest_cl = RandomForestClassifier(class_weight= 'balanced')\n",
        "cv_result = cross_validate(RandomForest_cl, X_res, y_res, scoring = scoring)\n",
        "\n",
        "print(f\"Accuracy score of a Random Forest classifier with under-sampling and class_weight: {cv_result['test_accuracy'].mean():0.4f}\")\n",
        "print(f\"Balanced accuracy score of a Logestic Random Foreset with under-sampling and class_weight: {cv_result['test_balanced_accuracy'].mean():0.3f}\")"
      ],
      "execution_count": 13,
      "outputs": [
        {
          "output_type": "stream",
          "name": "stdout",
          "text": [
            "Accuracy score of a Random Forest classifier with under-sampling and class_weight: 0.8045\n",
            "Balanced accuracy score of a Logestic Random Foreset with under-sampling and class_weight: 0.805\n"
          ]
        }
      ]
    },
    {
      "cell_type": "markdown",
      "metadata": {
        "id": "rx0uJ8-E5-L4"
      },
      "source": [
        "# Using SMOTE - Logistic Regression"
      ]
    },
    {
      "cell_type": "code",
      "metadata": {
        "colab": {
          "base_uri": "https://localhost:8080/"
        },
        "id": "gB8VSBp46GNq",
        "outputId": "600b40df-808e-4fca-8ead-a44ac67dcf91"
      },
      "source": [
        "smote = SMOTE()\n",
        "X_smote, y_smote = smote.fit_resample(X,y)"
      ],
      "execution_count": 14,
      "outputs": [
        {
          "output_type": "stream",
          "name": "stderr",
          "text": [
            "/usr/local/lib/python3.7/dist-packages/sklearn/utils/deprecation.py:87: FutureWarning: Function safe_indexing is deprecated; safe_indexing is deprecated in version 0.22 and will be removed in version 0.24.\n",
            "  warnings.warn(msg, category=FutureWarning)\n"
          ]
        }
      ]
    },
    {
      "cell_type": "code",
      "metadata": {
        "colab": {
          "base_uri": "https://localhost:8080/"
        },
        "id": "gJoQpfnsAWMz",
        "outputId": "4f36caa5-4baf-46fc-80cd-7ca78acd7636"
      },
      "source": [
        "logestic_regression_cl = LogisticRegression(max_iter=1000, class_weight= 'balanced')\n",
        "cv_result = cross_validate(logestic_regression_cl, X_smote, y_smote, scoring = scoring)\n",
        "print(f\"Accuracy score of a Logestic Regression classifier with SMOTE and class_weight: {cv_result['test_accuracy'].mean():0.4f}\")\n",
        "print(f\"Balanced accuracy score of a Logestic Regression classifier  with SMOTE and class_weight: {cv_result['test_balanced_accuracy'].mean():0.3f}\")"
      ],
      "execution_count": 15,
      "outputs": [
        {
          "output_type": "stream",
          "name": "stdout",
          "text": [
            "Accuracy score of a Logestic Regression classifier with SMOTE and class_weight: 0.8337\n",
            "Balanced accuracy score of a Logestic Regression classifier  with SMOTE and class_weight: 0.834\n"
          ]
        }
      ]
    },
    {
      "cell_type": "code",
      "metadata": {
        "colab": {
          "base_uri": "https://localhost:8080/"
        },
        "id": "_WS3GXkNAv_K",
        "outputId": "3d569804-0601-460e-ef92-794448c6b42e"
      },
      "source": [
        "RandomForest_cl = RandomForestClassifier(class_weight= 'balanced')\n",
        "cv_result = cross_validate(RandomForest_cl, X_smote, y_smote, scoring = scoring)\n",
        "\n",
        "print(f\"Accuracy score of a Random Forest classifier with SMOTE over-sampler and class_weight: {cv_result['test_accuracy'].mean():0.4f}\")\n",
        "print(f\"Balanced accuracy score of a Random Forest classifier with SMOTE over-sampler and class_weight: {cv_result['test_balanced_accuracy'].mean():0.3f}\")"
      ],
      "execution_count": 16,
      "outputs": [
        {
          "output_type": "stream",
          "name": "stdout",
          "text": [
            "Accuracy score of a Random Forest classifier with SMOTE over-sampler and class_weight: 0.9714\n",
            "Balanced accuracy score of a Random Forest classifier with SMOTE over-sampler and class_weight: 0.971\n"
          ]
        }
      ]
    },
    {
      "cell_type": "markdown",
      "metadata": {
        "id": "czL8cfXEAzE7"
      },
      "source": [
        ""
      ]
    }
  ]
}