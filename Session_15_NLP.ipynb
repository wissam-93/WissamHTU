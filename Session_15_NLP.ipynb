{
  "nbformat": 4,
  "nbformat_minor": 0,
  "metadata": {
    "colab": {
      "name": "Session-15 NLP.ipynb",
      "provenance": []
    },
    "kernelspec": {
      "name": "python3",
      "display_name": "Python 3"
    },
    "language_info": {
      "name": "python"
    }
  },
  "cells": [
    {
      "cell_type": "markdown",
      "metadata": {
        "id": "FVG8lG8GIyLW"
      },
      "source": [
        "# Importing Libraries"
      ]
    },
    {
      "cell_type": "code",
      "metadata": {
        "colab": {
          "base_uri": "https://localhost:8080/"
        },
        "id": "q8WlvIrPJl5J",
        "outputId": "107a509a-dd61-4537-d705-03e3ad1676aa"
      },
      "source": [
        "import pandas as pd\n",
        "import re\n",
        "import nltk\n",
        "nltk.download('stopwords')\n",
        "from nltk.stem.porter import PorterStemmer\n",
        "from nltk.corpus import stopwords\n",
        "from sklearn.feature_extraction.text import CountVectorizer\n",
        "from sklearn.model_selection import train_test_split\n",
        "from sklearn.linear_model import LogisticRegression\n",
        "from sklearn.metrics import precision_score, balanced_accuracy_score\n"
      ],
      "execution_count": 1,
      "outputs": [
        {
          "output_type": "stream",
          "name": "stdout",
          "text": [
            "[nltk_data] Downloading package stopwords to /root/nltk_data...\n",
            "[nltk_data]   Package stopwords is already up-to-date!\n"
          ]
        }
      ]
    },
    {
      "cell_type": "markdown",
      "metadata": {
        "id": "0fXPQU8vJmiK"
      },
      "source": [
        "# Loading Data"
      ]
    },
    {
      "cell_type": "code",
      "metadata": {
        "colab": {
          "base_uri": "https://localhost:8080/",
          "height": 204
        },
        "id": "jX3G2rslHMSb",
        "outputId": "b1846c6d-98a9-467d-90de-b9e138132017"
      },
      "source": [
        "df0 = pd.read_csv('/content/Corona_NLP_train.csv', encoding  = 'latin-1')[['OriginalTweet','Sentiment']].drop_duplicates().reset_index(drop = True).iloc[:10000,:]\n",
        "df0.head()"
      ],
      "execution_count": 2,
      "outputs": [
        {
          "output_type": "execute_result",
          "data": {
            "text/html": [
              "<div>\n",
              "<style scoped>\n",
              "    .dataframe tbody tr th:only-of-type {\n",
              "        vertical-align: middle;\n",
              "    }\n",
              "\n",
              "    .dataframe tbody tr th {\n",
              "        vertical-align: top;\n",
              "    }\n",
              "\n",
              "    .dataframe thead th {\n",
              "        text-align: right;\n",
              "    }\n",
              "</style>\n",
              "<table border=\"1\" class=\"dataframe\">\n",
              "  <thead>\n",
              "    <tr style=\"text-align: right;\">\n",
              "      <th></th>\n",
              "      <th>OriginalTweet</th>\n",
              "      <th>Sentiment</th>\n",
              "    </tr>\n",
              "  </thead>\n",
              "  <tbody>\n",
              "    <tr>\n",
              "      <th>0</th>\n",
              "      <td>@MeNyrbie @Phil_Gahan @Chrisitv https://t.co/i...</td>\n",
              "      <td>Neutral</td>\n",
              "    </tr>\n",
              "    <tr>\n",
              "      <th>1</th>\n",
              "      <td>advice Talk to your neighbours family to excha...</td>\n",
              "      <td>Positive</td>\n",
              "    </tr>\n",
              "    <tr>\n",
              "      <th>2</th>\n",
              "      <td>Coronavirus Australia: Woolworths to give elde...</td>\n",
              "      <td>Positive</td>\n",
              "    </tr>\n",
              "    <tr>\n",
              "      <th>3</th>\n",
              "      <td>My food stock is not the only one which is emp...</td>\n",
              "      <td>Positive</td>\n",
              "    </tr>\n",
              "    <tr>\n",
              "      <th>4</th>\n",
              "      <td>Me, ready to go at supermarket during the #COV...</td>\n",
              "      <td>Extremely Negative</td>\n",
              "    </tr>\n",
              "  </tbody>\n",
              "</table>\n",
              "</div>"
            ],
            "text/plain": [
              "                                       OriginalTweet           Sentiment\n",
              "0  @MeNyrbie @Phil_Gahan @Chrisitv https://t.co/i...             Neutral\n",
              "1  advice Talk to your neighbours family to excha...            Positive\n",
              "2  Coronavirus Australia: Woolworths to give elde...            Positive\n",
              "3  My food stock is not the only one which is emp...            Positive\n",
              "4  Me, ready to go at supermarket during the #COV...  Extremely Negative"
            ]
          },
          "metadata": {},
          "execution_count": 2
        }
      ]
    },
    {
      "cell_type": "markdown",
      "metadata": {
        "id": "NgRA4s4rJj_z"
      },
      "source": [
        "# Data Preprocessing/Cleaning"
      ]
    },
    {
      "cell_type": "code",
      "metadata": {
        "id": "UiFV2cPRI8ZJ"
      },
      "source": [
        "corpus = []\n",
        "for index, row in df0.iterrows():\n",
        "  tweet = row['OriginalTweet']\n",
        "  tweet = re.sub('[^a-zA-Z]',' ',tweet)\n",
        "  tweet = tweet.lower()\n",
        "  tweet = tweet.split()\n",
        "\n",
        "  PS = PorterStemmer()\n",
        "  all_stop_words = stopwords.words('english')\n",
        "  \n",
        "  tweet = [PS.stem(word) for word in tweet if not word in set(all_stop_words)]\n",
        "  tweet = ' '.join(tweet)\n",
        "  corpus.append(tweet)"
      ],
      "execution_count": 3,
      "outputs": []
    },
    {
      "cell_type": "markdown",
      "metadata": {
        "id": "VF9yh1YZRuqv"
      },
      "source": [
        "# Creating a bag-of-words model"
      ]
    },
    {
      "cell_type": "code",
      "metadata": {
        "id": "9KFG5IPXKtn4"
      },
      "source": [
        "CV = CountVectorizer(max_features = 800)\n",
        "X = CV.fit_transform(corpus).toarray()\n",
        "y = df0.iloc[:,-1].values\n",
        "y = [i.strip().lower() for i in y]"
      ],
      "execution_count": 4,
      "outputs": []
    },
    {
      "cell_type": "markdown",
      "metadata": {
        "id": "h3ohgBKvJr1W"
      },
      "source": [
        "# Splitting data into training and testing data sets"
      ]
    },
    {
      "cell_type": "code",
      "metadata": {
        "id": "3YyorI_fJvQ-"
      },
      "source": [
        "X_train, X_test, y_train, y_test = train_test_split(X, y, test_size = 0.15, random_state = 1)"
      ],
      "execution_count": 5,
      "outputs": []
    },
    {
      "cell_type": "markdown",
      "metadata": {
        "id": "MqNS6vtJJwMK"
      },
      "source": [
        "# Fitting a classification model"
      ]
    },
    {
      "cell_type": "code",
      "metadata": {
        "id": "LjTc3ZMVJyPX"
      },
      "source": [
        "LR_classifier = LogisticRegression(max_iter = 1000)\n",
        "LR_classifier.fit(X_train, y_train)\n",
        "y_pred = LR_classifier.predict(X_test)"
      ],
      "execution_count": 6,
      "outputs": []
    },
    {
      "cell_type": "markdown",
      "metadata": {
        "id": "XuXOJhmEJ1sd"
      },
      "source": [
        "# Calculate Accuracy (balanced_accuracy) "
      ]
    },
    {
      "cell_type": "code",
      "metadata": {
        "colab": {
          "base_uri": "https://localhost:8080/"
        },
        "id": "jqKwa1jaJ6T6",
        "outputId": "458078d2-54c9-4b28-b7db-f8f5cd48e89f"
      },
      "source": [
        "# precision_score(y_test, y_pred, labels = ['positive'], average='weighted')\n",
        "print(f\"Blanced Accuracy for Logistic Regression is {round(100*balanced_accuracy_score(y_test, y_pred),2)}%\")"
      ],
      "execution_count": 7,
      "outputs": [
        {
          "output_type": "stream",
          "name": "stdout",
          "text": [
            "Blanced Accuracy for Logistic Regression is 51.57%\n"
          ]
        }
      ]
    },
    {
      "cell_type": "markdown",
      "metadata": {
        "id": "tyYinjvVV6Uw"
      },
      "source": [
        "max_features = 100, balanced_accuracy = 0.3814403486954703\n",
        "\n",
        "max_features = 500, balanced_accuracy = 0.49247538309985706\n",
        "\n",
        "max_features = 750, balanced_accuracy = 0.5160931728721675\n",
        "\n",
        "max_features = 1250, balanced_accuracy = 0.5259547247519542\n",
        "\n",
        "\n",
        "Blanced Accuracy for Logistic Regression is 51.57%"
      ]
    },
    {
      "cell_type": "code",
      "metadata": {
        "id": "Pf66oezDWKvC"
      },
      "source": [
        ""
      ],
      "execution_count": 7,
      "outputs": []
    }
  ]
}